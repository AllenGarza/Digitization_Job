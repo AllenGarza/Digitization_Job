{
 "cells": [
  {
   "cell_type": "markdown",
   "metadata": {},
   "source": [
    "# ETD Conversions - Color"
   ]
  },
  {
   "cell_type": "markdown",
   "metadata": {},
   "source": [
    "###### To Check Cheat Sheet\n",
    "  \n",
    "If more than one variable, the total numbers must match expected values\n",
    "\n",
    "- BitsPerSample: 3 - DONE\n",
    "- ColorSpace: 1 - DONE \n",
    "- Compression: 2 - ERROR, 96 bitonal need group 4, FIXED 8/2/18\n",
    "- Image Height + Width: 2-4, - ERROR, incorrect dimensions, FIXED 7/31/18\n",
    "- X & Y Resolution: 2 - DONE\n",
    "- Filename: check for anomalies to fix - ERROR, incorrect names, FIXED 7/31/18\n",
    "- ICCProfile: no Dot Gain 20% - ERROR, 286 with Dot Gain 20%, FIXED 8/2/18\n",
    "\n",
    "Also check\n",
    "- that 4400 and 6600 width are rotated correctly - DONE\n",
    "- that all directories have a .mrc file - DONE\n",
    "- pagination - DONE\n",
    "- for 400 ppi bitonal and 600 ppi gray or color files - DONE\n",
    "- manual check of all gray and color files - PROBLEM - bad resolution of grayscale on Christenson_Christopher_2004_93-95, 98,99, moved to problems and recorded in spreadsheet\n",
    "- file size match - DONE"
   ]
  },
  {
   "cell_type": "code",
   "execution_count": 1,
   "metadata": {},
   "outputs": [],
   "source": [
    "current_project = '2020-Batch1-2_problems_HW-working-files/0.Complete'"
   ]
  },
  {
   "cell_type": "code",
   "execution_count": 2,
   "metadata": {
    "code_folding": []
   },
   "outputs": [
    {
     "data": {
      "text/html": [
       "<style>.container { width:100% !important; }</style>"
      ],
      "text/plain": [
       "<IPython.core.display.HTML object>"
      ]
     },
     "metadata": {},
     "output_type": "display_data"
    }
   ],
   "source": [
    "# == display 100% width\n",
    "from IPython.core.display import display, HTML\n",
    "display(HTML(\"<style>.container { width:100% !important; }</style>\"))"
   ]
  },
  {
   "cell_type": "code",
   "execution_count": 28,
   "metadata": {
    "code_folding": [],
    "scrolled": true
   },
   "outputs": [
    {
     "data": {
      "text/html": [
       "<style>.container { width:100% !important; }</style>"
      ],
      "text/plain": [
       "<IPython.core.display.HTML object>"
      ]
     },
     "metadata": {},
     "output_type": "display_data"
    },
    {
     "name": "stderr",
     "output_type": "stream",
     "text": [
      "2020-12-18 18:53:00,596 - root - INFO - QC Directory: C:\\00_DigitalImaging\\ETD_quality-control\\2020-Batch1-2_problems_HW-working-files\\0.Complete\n",
      "2020-12-18 18:53:00,597 - root - INFO - 2020-Batch1-2_problems_HW-working-files/0.Complete.csv does NOT exist\n",
      "2020-12-18 18:53:00,598 - root - INFO - loading metdata from C:\\00_DigitalImaging\\ETD_quality-control\\2020-Batch1-2_problems_HW-working-files\\0.Complete\n",
      "2020-12-18 18:54:02,406 - root - INFO - directory: C:\\00_DigitalImaging\\ETD_quality-control\\2020-Batch1-2_problems_HW-working-files\\0.Complete\n",
      "2020-12-18 18:54:02,407 - root - INFO - number of images: 5235\n"
     ]
    },
    {
     "ename": "FileNotFoundError",
     "evalue": "[Errno 2] No such file or directory: 'C:\\\\00_DigitalImaging\\\\ETD_quality-control\\\\2020-Batch1-2_problems_HW-working-files\\\\0.Complete\\\\2020-Batch1-2_problems_HW-working-files\\\\0.Complete.csv'",
     "output_type": "error",
     "traceback": [
      "\u001b[1;31m---------------------------------------------------------------------------\u001b[0m",
      "\u001b[1;31mFileNotFoundError\u001b[0m                         Traceback (most recent call last)",
      "\u001b[1;32m<ipython-input-28-92b5721d40dc>\u001b[0m in \u001b[0;36m<module>\u001b[1;34m\u001b[0m\n\u001b[0;32m     82\u001b[0m \u001b[1;33m\u001b[0m\u001b[0m\n\u001b[0;32m     83\u001b[0m     \u001b[1;31m# write metadata to CSV file\u001b[0m\u001b[1;33m\u001b[0m\u001b[1;33m\u001b[0m\u001b[1;33m\u001b[0m\u001b[0m\n\u001b[1;32m---> 84\u001b[1;33m     \u001b[0mimages_df\u001b[0m\u001b[1;33m.\u001b[0m\u001b[0mto_csv\u001b[0m\u001b[1;33m(\u001b[0m\u001b[0mcsv_path\u001b[0m\u001b[1;33m)\u001b[0m\u001b[1;33m\u001b[0m\u001b[1;33m\u001b[0m\u001b[0m\n\u001b[0m\u001b[0;32m     85\u001b[0m     \u001b[1;32mif\u001b[0m \u001b[0mcsv_path\u001b[0m\u001b[1;33m.\u001b[0m\u001b[0mis_file\u001b[0m\u001b[1;33m(\u001b[0m\u001b[1;33m)\u001b[0m\u001b[1;33m:\u001b[0m\u001b[1;33m\u001b[0m\u001b[1;33m\u001b[0m\u001b[0m\n\u001b[0;32m     86\u001b[0m         \u001b[0mprint\u001b[0m\u001b[1;33m(\u001b[0m\u001b[1;34mf'{csv_path} NOW EXISTS'\u001b[0m\u001b[1;33m)\u001b[0m\u001b[1;33m\u001b[0m\u001b[1;33m\u001b[0m\u001b[0m\n",
      "\u001b[1;32m~\\AppData\\Local\\Continuum\\miniconda3\\envs\\img_qc\\lib\\site-packages\\pandas\\core\\generic.py\u001b[0m in \u001b[0;36mto_csv\u001b[1;34m(self, path_or_buf, sep, na_rep, float_format, columns, header, index, index_label, mode, encoding, compression, quoting, quotechar, line_terminator, chunksize, date_format, doublequote, escapechar, decimal)\u001b[0m\n\u001b[0;32m   3226\u001b[0m             \u001b[0mdecimal\u001b[0m\u001b[1;33m=\u001b[0m\u001b[0mdecimal\u001b[0m\u001b[1;33m,\u001b[0m\u001b[1;33m\u001b[0m\u001b[1;33m\u001b[0m\u001b[0m\n\u001b[0;32m   3227\u001b[0m         )\n\u001b[1;32m-> 3228\u001b[1;33m         \u001b[0mformatter\u001b[0m\u001b[1;33m.\u001b[0m\u001b[0msave\u001b[0m\u001b[1;33m(\u001b[0m\u001b[1;33m)\u001b[0m\u001b[1;33m\u001b[0m\u001b[1;33m\u001b[0m\u001b[0m\n\u001b[0m\u001b[0;32m   3229\u001b[0m \u001b[1;33m\u001b[0m\u001b[0m\n\u001b[0;32m   3230\u001b[0m         \u001b[1;32mif\u001b[0m \u001b[0mpath_or_buf\u001b[0m \u001b[1;32mis\u001b[0m \u001b[1;32mNone\u001b[0m\u001b[1;33m:\u001b[0m\u001b[1;33m\u001b[0m\u001b[1;33m\u001b[0m\u001b[0m\n",
      "\u001b[1;32m~\\AppData\\Local\\Continuum\\miniconda3\\envs\\img_qc\\lib\\site-packages\\pandas\\io\\formats\\csvs.py\u001b[0m in \u001b[0;36msave\u001b[1;34m(self)\u001b[0m\n\u001b[0;32m    181\u001b[0m                 \u001b[0mself\u001b[0m\u001b[1;33m.\u001b[0m\u001b[0mmode\u001b[0m\u001b[1;33m,\u001b[0m\u001b[1;33m\u001b[0m\u001b[1;33m\u001b[0m\u001b[0m\n\u001b[0;32m    182\u001b[0m                 \u001b[0mencoding\u001b[0m\u001b[1;33m=\u001b[0m\u001b[0mself\u001b[0m\u001b[1;33m.\u001b[0m\u001b[0mencoding\u001b[0m\u001b[1;33m,\u001b[0m\u001b[1;33m\u001b[0m\u001b[1;33m\u001b[0m\u001b[0m\n\u001b[1;32m--> 183\u001b[1;33m                 \u001b[0mcompression\u001b[0m\u001b[1;33m=\u001b[0m\u001b[0mself\u001b[0m\u001b[1;33m.\u001b[0m\u001b[0mcompression\u001b[0m\u001b[1;33m,\u001b[0m\u001b[1;33m\u001b[0m\u001b[1;33m\u001b[0m\u001b[0m\n\u001b[0m\u001b[0;32m    184\u001b[0m             )\n\u001b[0;32m    185\u001b[0m             \u001b[0mclose\u001b[0m \u001b[1;33m=\u001b[0m \u001b[1;32mTrue\u001b[0m\u001b[1;33m\u001b[0m\u001b[1;33m\u001b[0m\u001b[0m\n",
      "\u001b[1;32m~\\AppData\\Local\\Continuum\\miniconda3\\envs\\img_qc\\lib\\site-packages\\pandas\\io\\common.py\u001b[0m in \u001b[0;36m_get_handle\u001b[1;34m(path_or_buf, mode, encoding, compression, memory_map, is_text)\u001b[0m\n\u001b[0;32m    397\u001b[0m         \u001b[1;32mif\u001b[0m \u001b[0mencoding\u001b[0m\u001b[1;33m:\u001b[0m\u001b[1;33m\u001b[0m\u001b[1;33m\u001b[0m\u001b[0m\n\u001b[0;32m    398\u001b[0m             \u001b[1;31m# Encoding\u001b[0m\u001b[1;33m\u001b[0m\u001b[1;33m\u001b[0m\u001b[1;33m\u001b[0m\u001b[0m\n\u001b[1;32m--> 399\u001b[1;33m             \u001b[0mf\u001b[0m \u001b[1;33m=\u001b[0m \u001b[0mopen\u001b[0m\u001b[1;33m(\u001b[0m\u001b[0mpath_or_buf\u001b[0m\u001b[1;33m,\u001b[0m \u001b[0mmode\u001b[0m\u001b[1;33m,\u001b[0m \u001b[0mencoding\u001b[0m\u001b[1;33m=\u001b[0m\u001b[0mencoding\u001b[0m\u001b[1;33m,\u001b[0m \u001b[0mnewline\u001b[0m\u001b[1;33m=\u001b[0m\u001b[1;34m\"\"\u001b[0m\u001b[1;33m)\u001b[0m\u001b[1;33m\u001b[0m\u001b[1;33m\u001b[0m\u001b[0m\n\u001b[0m\u001b[0;32m    400\u001b[0m         \u001b[1;32melif\u001b[0m \u001b[0mis_text\u001b[0m\u001b[1;33m:\u001b[0m\u001b[1;33m\u001b[0m\u001b[1;33m\u001b[0m\u001b[0m\n\u001b[0;32m    401\u001b[0m             \u001b[1;31m# No explicit encoding\u001b[0m\u001b[1;33m\u001b[0m\u001b[1;33m\u001b[0m\u001b[1;33m\u001b[0m\u001b[0m\n",
      "\u001b[1;31mFileNotFoundError\u001b[0m: [Errno 2] No such file or directory: 'C:\\\\00_DigitalImaging\\\\ETD_quality-control\\\\2020-Batch1-2_problems_HW-working-files\\\\0.Complete\\\\2020-Batch1-2_problems_HW-working-files\\\\0.Complete.csv'"
     ]
    }
   ],
   "source": [
    "# == Options and Importing\n",
    "\n",
    "# == display 100% width\n",
    "from IPython.core.display import display, HTML\n",
    "display(HTML(\"<style>.container { width:100% !important; }</style>\"))\n",
    "\n",
    "# ===================================================================== IMPORT\n",
    "# built-in\n",
    "import logging\n",
    "from math import isnan\n",
    "from pathlib import Path\n",
    "import shutil\n",
    "\n",
    "# 3rd party\n",
    "import cv2\n",
    "import ipywidgets as widgets\n",
    "import matplotlib.pyplot as plt\n",
    "import numpy as np\n",
    "import pandas as pd\n",
    "from PIL import Image\n",
    "\n",
    "# jeremy's\n",
    "import img_qc.img_qc as img_qc\n",
    "\n",
    "# ===================================================================== DIRECTORIES\n",
    "\n",
    "# set current directory\n",
    "current_directory = Path.cwd()\n",
    "\n",
    "# in case we get fancy and change our current directory later\n",
    "start_directory = current_directory\n",
    "\n",
    "# set home directory\n",
    "home_directory = Path.home()\n",
    "\n",
    "# set etd directory\n",
    "data_harddrive = Path('C:/00_DigitalImaging/ETD_quality-control/')\n",
    "\n",
    "# set quality control directory as hard-coded: Path.cwd()/data/demo-images_no-crop/{current_project}\n",
    "qc_directory = data_harddrive.joinpath(current_project)\n",
    "\n",
    "# ===================================================================== OPTIONS\n",
    "\n",
    "# MatPlotLib options\n",
    "# parameters for matplotlib to increase our default figure size -- NOTE: figure sizes are in INCHES\n",
    "plt.rcParams[\"figure.figsize\"] = (20, 20)  # set as needed for your screen and eyes\n",
    "\n",
    "# on a high-dpi monitor this will increase the quality of plots on-screen\n",
    "# %config InlineBackend.figure_format = 'retina'\n",
    "\n",
    "# Pandas options\n",
    "pd.set_option('display.max_colwidth', -1)  # won't truncate output such as Path names\n",
    "\n",
    "# Logging\n",
    "logging.basicConfig(format='%(asctime)s - %(name)s - %(levelname)s - %(message)s',\n",
    "                    level=logging.INFO)\n",
    "\n",
    "logging.info(f'QC Directory: {qc_directory}')\n",
    "\n",
    "# ===================================================================== Set CSV info\n",
    "\n",
    "# set CSV filename\n",
    "csv_name = current_project + '.csv'\n",
    "\n",
    "# set CSV path\n",
    "csv_path = qc_directory.joinpath(csv_name)\n",
    "\n",
    "# ===================================================================== LOAD IMAGE METADATA\n",
    "if csv_path.is_file():\n",
    "    logging.info(f'{csv_path} exists')\n",
    "    logging.info(f'loading metadata from {csv_name}')\n",
    "    \n",
    "    # create DataFrame from CSV\n",
    "    images_df = pd.read_csv(csv_path)\n",
    "\n",
    "else:\n",
    "    logging.info(f'{csv_name} does NOT exist')\n",
    "    logging.info(f'loading metdata from {qc_directory}')\n",
    "    \n",
    "    # create DataFrame with Exiftools\n",
    "    images_df = img_qc.get_images_df(str(qc_directory), 'tif')\n",
    "    \n",
    "    # write metadata to CSV file\n",
    "    images_df.to_csv(csv_path)\n",
    "    if csv_path.is_file():\n",
    "        print(f'{csv_path} NOW EXISTS')"
   ]
  },
  {
   "cell_type": "code",
   "execution_count": 29,
   "metadata": {
    "code_folding": [
     0
    ],
    "scrolled": false
   },
   "outputs": [
    {
     "data": {
      "application/vnd.jupyter.widget-view+json": {
       "model_id": "4a7e5fce77e94f4ca653dce653a642db",
       "version_major": 2,
       "version_minor": 0
      },
      "text/plain": [
       "interactive(children=(Dropdown(description='column', options=('SourceFile', 'ExifTool:ExifToolVersion', 'File:…"
      ]
     },
     "metadata": {},
     "output_type": "display_data"
    },
    {
     "data": {
      "application/vnd.jupyter.widget-view+json": {
       "model_id": "a7a3f6a9e77e4f08aa71435a923b5aac",
       "version_major": 2,
       "version_minor": 0
      },
      "text/plain": [
       "interactive(children=(Dropdown(description='value', options=('SELECT A VALUE BELOW', 'C:/00_DigitalImaging/ETD…"
      ]
     },
     "metadata": {},
     "output_type": "display_data"
    }
   ],
   "source": [
    "# === DATAFRAME DROPDOWNS===\n",
    "df_columns = list(images_df.columns.values)\n",
    "\n",
    "def print_column(value, column):\n",
    "    value = str(value)\n",
    "    column = str(column)\n",
    "    if value == 'SELECT A VALUE BELOW':\n",
    "        pass\n",
    "    else:\n",
    "        print(f\"# of images in {column_widget.kwargs['column']} == {value_widget.kwargs['value']}\")\n",
    "        print(len(images_df[images_df[column_widget.kwargs['column']]==value_widget.kwargs['value']]))\n",
    "        new_dataframe = images_df[images_df[column_widget.kwargs['column']]==value_widget.kwargs['value']]\n",
    "        return new_dataframe    \n",
    "    \n",
    "def select_column(column):\n",
    "    column_values_list = []\n",
    "    if column != 'SELECT A COLUMN':\n",
    "        \n",
    "        for column_value in images_df[column].unique():\n",
    "            # check if it's a string\n",
    "            if isinstance(column_value, str):\n",
    "                # add to values list\n",
    "                column_values_list.append(column_value)\n",
    "            # skip it if it's a nan value\n",
    "            # nan, or null, from Pandas breaks in the widgets as it's not\n",
    "            # actually selectable because there's nothing there\n",
    "            # Can rule it out by testing with the function math.isnan(x)\n",
    "            elif isnan(column_value):\n",
    "                pass\n",
    "            # add whatever else there is\n",
    "            else:\n",
    "                column_values_list.append(column_value)\n",
    "    # sort the list\n",
    "    # print(column_values_list)\n",
    "    print(f'# of Unique Values: {len(column_values_list)}')\n",
    "    try:\n",
    "        column_values_list = sorted(column_values_list)\n",
    "    except TypeError:\n",
    "        print('')\n",
    "        print('DID NOT SORT VALUES -- MIXTURE OF STRING AND INTEGER IN COLUMN VALUES')\n",
    "    column_values_list.insert(0, 'SELECT A VALUE BELOW')\n",
    "    select2.options = column_values_list   \n",
    "\n",
    "    \n",
    "select1 = widgets.Dropdown(options=df_columns)\n",
    "initial_value = 'SourceFile'\n",
    "select2 = widgets.Dropdown(options=images_df[initial_value])\n",
    "column_widget = widgets.interactive(select_column, column=select1)\n",
    "value_widget = widgets.interactive(print_column, value=select2, column=select1)\n",
    "display(column_widget)\n",
    "display(value_widget)\n",
    "\n",
    "# to access the column, use : column_widget.kwargs['column']\n",
    "# to access the value, use: value_widget.kwargs['value']\n",
    "# to access the dataframe where column == value: value_widget.result"
   ]
  },
  {
   "cell_type": "code",
   "execution_count": 12,
   "metadata": {},
   "outputs": [],
   "source": [
    "directory_list = sorted(ppi_400_color_df['File:Directory'].unique())"
   ]
  },
  {
   "cell_type": "code",
   "execution_count": 13,
   "metadata": {},
   "outputs": [
    {
     "data": {
      "text/plain": [
       "['e:/Batch2_2.toQC-Color_2/Clanton_Greg_2006/Clanton_Greg_2006',\n",
       " 'e:/Batch2_2.toQC-Color_2/Coats_Christine_1997/Coats_Christine_1997',\n",
       " 'e:/Batch2_2.toQC-Color_2/Coder_Shelby_2012/Coder_Shelby_2012',\n",
       " 'e:/Batch2_2.toQC-Color_2/Cody_Melissa_2002/Cody_Melissa_2002',\n",
       " 'e:/Batch2_2.toQC-Color_2/Cohen_Katrina_2008/Cohen_Katrina_2008',\n",
       " 'e:/Batch2_2.toQC-Color_2/Coker_Linda_2005/Coker_Linda_2005',\n",
       " 'e:/Batch2_2.toQC-Color_2/Collins_Margaret_2009/Collins_Margaret_2009',\n",
       " 'e:/Batch2_2.toQC-Color_2/Colvin_Corrie_2007/Colvin_Corrie_2007',\n",
       " 'e:/Batch2_2.toQC-Color_2/Connolly_Michael_2007/Connolly_Michael_2007',\n",
       " 'e:/Batch2_2.toQC-Color_2/Contreras_Guadalupe_2001/Contreras_Guadalupe_2001',\n",
       " 'e:/Batch2_2.toQC-Color_2/Conyers_Mindy_2003/Conyers_Mindy_2003',\n",
       " 'e:/Batch2_2.toQC-Color_2/Cooke_Maria_2012/Cooke_Maria_2012',\n",
       " 'e:/Batch2_2.toQC-Color_2/Cooksey_Matthew_2007/Cooksey_Matthew_2007',\n",
       " 'e:/Batch2_2.toQC-Color_2/Copeland_Chad_2005/Copeland_Chad_2005',\n",
       " 'e:/Batch2_2.toQC-Color_2/Crittenden_Elizabeth_2008/Crittenden_Elizabeth_2008',\n",
       " 'e:/Batch2_2.toQC-Color_2/Crosby_Sergio_2006/Crosby_Sergio_2006',\n",
       " 'e:/Batch2_2.toQC-Color_2/Crowell_Lindsay_2012/Crowell_Lindsay_2012',\n",
       " 'e:/Batch2_2.toQC-Color_2/Cryer_Gregory_2003/Cryer_Gregory_2003',\n",
       " 'e:/Batch2_2.toQC-Color_2/Dalton_Jesse_2011/Dalton_Jesse_2011',\n",
       " 'e:/Batch2_2.toQC-Color_2/Daniels_Christina_2001/Daniels_Christina_2001',\n",
       " 'e:/Batch2_2.toQC-Color_2/Davis_Jeffrey_2009/Davis_Jeffrey_2009',\n",
       " 'e:/Batch2_2.toQC-Color_2/DeSimone_Ivy_2001/DeSimone_Ivy_2001',\n",
       " 'e:/Batch2_2.toQC-Color_2/Dean_Roy_2002/Dean_Roy_2002',\n",
       " 'e:/Batch2_2.toQC-Color_2/Denena_Melissa_2002/Denena_Melissa_2002',\n",
       " 'e:/Batch2_2.toQC-Color_2/Dennis_Kristine_2003/Dennis_Kristine_2003',\n",
       " 'e:/Batch2_2.toQC-Color_2/DiMichele_Daniel_2010/DiMichele_Daniel_2010',\n",
       " 'e:/Batch2_2.toQC-Color_2/Dickerson_Brian_2010/Dickerson_Brian_2010',\n",
       " 'e:/Batch2_2.toQC-Color_2/Dickerson_Candice_2008/Dickerson_Candice_2008',\n",
       " 'e:/Batch2_2.toQC-Color_2/Dixson_Jamie_2001/Dixson_Jamie_2001',\n",
       " 'e:/Batch2_2.toQC-Color_2/Dodson_Darren_2001/Dodson_Darren_2001']"
      ]
     },
     "execution_count": 13,
     "metadata": {},
     "output_type": "execute_result"
    }
   ],
   "source": [
    "directory_list"
   ]
  },
  {
   "cell_type": "code",
   "execution_count": 5,
   "metadata": {},
   "outputs": [],
   "source": [
    "# dataframe where XResolution == 400\n",
    "ppi_400_df = images_df[images_df['EXIF:XResolution'] == 400]\n",
    "                       \n",
    "# dataframe where bits per sample is gray\n",
    "ppi_400_gray_df = ppi_400_df[ppi_400_df['EXIF:BitsPerSample'] == '8']"
   ]
  },
  {
   "cell_type": "code",
   "execution_count": 6,
   "metadata": {},
   "outputs": [],
   "source": [
    "ppi_400_color_df = ppi_400_df[ppi_400_df['EXIF:BitsPerSample'] == '8 8 8']"
   ]
  },
  {
   "cell_type": "code",
   "execution_count": 7,
   "metadata": {
    "code_folding": [
     0
    ]
   },
   "outputs": [
    {
     "data": {
      "application/vnd.jupyter.widget-view+json": {
       "model_id": "7997f7e3c0644f7f894c84b5b3f518f1",
       "version_major": 2,
       "version_minor": 0
      },
      "text/plain": [
       "interactive(children=(Dropdown(description='column', options=('Composite:ImageSize', 'Composite:Megapixels', '…"
      ]
     },
     "metadata": {},
     "output_type": "display_data"
    },
    {
     "data": {
      "application/vnd.jupyter.widget-view+json": {
       "model_id": "d1198d47a75e4f479fd31eac36f14d5a",
       "version_major": 2,
       "version_minor": 0
      },
      "text/plain": [
       "interactive(children=(Dropdown(description='value', options=('SELECT A VALUE BELOW', '3400x4400', '4400x3400')…"
      ]
     },
     "metadata": {},
     "output_type": "display_data"
    }
   ],
   "source": [
    "# === ppi_400_color_df DATAFRAME DROPDOWNS===\n",
    "df_columns = list(ppi_400_color_df.columns.values)\n",
    "\n",
    "def print_column(value, column):\n",
    "    value = str(value)\n",
    "    column = str(column)\n",
    "    if value == 'SELECT A VALUE BELOW':\n",
    "        pass\n",
    "    else:\n",
    "        print(f\"# of images in {column_widget.kwargs['column']} == {value_widget.kwargs['value']}\")\n",
    "        print(len(ppi_400_color_df[ppi_400_color_df[column_widget.kwargs['column']]==value_widget.kwargs['value']]))\n",
    "        new_dataframe = ppi_400_color_df[ppi_400_color_df[column_widget.kwargs['column']]==value_widget.kwargs['value']]\n",
    "        return new_dataframe    \n",
    "    \n",
    "    \n",
    "def select_column(column):\n",
    "    column_values_list = []\n",
    "    if column != 'SELECT A COLUMN':\n",
    "        \n",
    "        for column_value in ppi_400_color_df[column].unique():\n",
    "            # check if it's a string\n",
    "            if isinstance(column_value, str):\n",
    "                # add to values list\n",
    "                column_values_list.append(column_value)\n",
    "            # skip it if it's a nan value\n",
    "            # nan, or null, from Pandas breaks in the widgets as it's not\n",
    "            # actually selectable because there's nothing there\n",
    "            # Can rule it out by testing with the function math.isnan(x)\n",
    "            elif isnan(column_value):\n",
    "                pass\n",
    "            # add whatever else there is\n",
    "            else:\n",
    "                column_values_list.append(column_value)\n",
    "    # sort the list\n",
    "    # print(column_values_list)\n",
    "    print(f'# of Unique Values: {len(column_values_list)}')\n",
    "    try:\n",
    "        column_values_list = sorted(column_values_list)\n",
    "    except TypeError:\n",
    "        print('')\n",
    "        print('DID NOT SORT VALUES -- MIXTURE OF STRING AND INTEGER IN COLUMN VALUES')\n",
    "    column_values_list.insert(0, 'SELECT A VALUE BELOW')\n",
    "    select2.options = column_values_list   \n",
    "\n",
    "    \n",
    "select1 = widgets.Dropdown(options=df_columns)\n",
    "initial_value = 'SourceFile'\n",
    "select2 = widgets.Dropdown(options=ppi_400_color_df[initial_value])\n",
    "column_widget = widgets.interactive(select_column, column=select1)\n",
    "value_widget = widgets.interactive(print_column, value=select2, column=select1)\n",
    "display(column_widget)\n",
    "display(value_widget)\n",
    "\n",
    "# to access the column, use : column_widget.kwargs['column']\n",
    "# to access the value, use: value_widget.kwargs['value']\n",
    "# to access the dataframe where column == value: value_widget.result\n",
    "# === DATAFRAME DROPDOWNS===\n"
   ]
  },
  {
   "cell_type": "code",
   "execution_count": 5,
   "metadata": {},
   "outputs": [],
   "source": [
    "# create a list template\n",
    "show_color_list = []\n",
    "\n",
    "# creates a list of images that fit requirements of one of my list options above\n",
    "# only run this widget when the correct values are selected in the dataframe above\n",
    "# these lists are below the dataframe because they don't need multiple selections\n",
    "for image_path in value_widget.result['SourceFile']:\n",
    "\n",
    "    if image_path not in show_color_list:\n",
    "        show_color_list.append(image_path)"
   ]
  },
  {
   "cell_type": "code",
   "execution_count": 6,
   "metadata": {},
   "outputs": [
    {
     "data": {
      "text/plain": [
       "['e:/Batch2_2.toQC-Color_2/Clanton_Greg_2006/Clanton_Greg_2006/Clanton_Greg_2006_0019.tif',\n",
       " 'e:/Batch2_2.toQC-Color_2/Clanton_Greg_2006/Clanton_Greg_2006/Clanton_Greg_2006_0020.tif',\n",
       " 'e:/Batch2_2.toQC-Color_2/Clanton_Greg_2006/Clanton_Greg_2006/Clanton_Greg_2006_0021.tif',\n",
       " 'e:/Batch2_2.toQC-Color_2/Clanton_Greg_2006/Clanton_Greg_2006/Clanton_Greg_2006_0022.tif',\n",
       " 'e:/Batch2_2.toQC-Color_2/Clanton_Greg_2006/Clanton_Greg_2006/Clanton_Greg_2006_0023.tif',\n",
       " 'e:/Batch2_2.toQC-Color_2/Clanton_Greg_2006/Clanton_Greg_2006/Clanton_Greg_2006_0024.tif',\n",
       " 'e:/Batch2_2.toQC-Color_2/Clanton_Greg_2006/Clanton_Greg_2006/Clanton_Greg_2006_0026.tif',\n",
       " 'e:/Batch2_2.toQC-Color_2/Clanton_Greg_2006/Clanton_Greg_2006/Clanton_Greg_2006_0027.tif',\n",
       " 'e:/Batch2_2.toQC-Color_2/Clanton_Greg_2006/Clanton_Greg_2006/Clanton_Greg_2006_0031.tif',\n",
       " 'e:/Batch2_2.toQC-Color_2/Coats_Christine_1997/Coats_Christine_1997/Coats_Christine_1997_0038.tif',\n",
       " 'e:/Batch2_2.toQC-Color_2/Coats_Christine_1997/Coats_Christine_1997/Coats_Christine_1997_0039.tif',\n",
       " 'e:/Batch2_2.toQC-Color_2/Coats_Christine_1997/Coats_Christine_1997/Coats_Christine_1997_0040.tif',\n",
       " 'e:/Batch2_2.toQC-Color_2/Coats_Christine_1997/Coats_Christine_1997/Coats_Christine_1997_0041.tif',\n",
       " 'e:/Batch2_2.toQC-Color_2/Coats_Christine_1997/Coats_Christine_1997/Coats_Christine_1997_0042.tif',\n",
       " 'e:/Batch2_2.toQC-Color_2/Coats_Christine_1997/Coats_Christine_1997/Coats_Christine_1997_0043.tif',\n",
       " 'e:/Batch2_2.toQC-Color_2/Coats_Christine_1997/Coats_Christine_1997/Coats_Christine_1997_0044.tif',\n",
       " 'e:/Batch2_2.toQC-Color_2/Coats_Christine_1997/Coats_Christine_1997/Coats_Christine_1997_0045.tif',\n",
       " 'e:/Batch2_2.toQC-Color_2/Coats_Christine_1997/Coats_Christine_1997/Coats_Christine_1997_0046.tif',\n",
       " 'e:/Batch2_2.toQC-Color_2/Coats_Christine_1997/Coats_Christine_1997/Coats_Christine_1997_0047.tif',\n",
       " 'e:/Batch2_2.toQC-Color_2/Coats_Christine_1997/Coats_Christine_1997/Coats_Christine_1997_0048.tif',\n",
       " 'e:/Batch2_2.toQC-Color_2/Coats_Christine_1997/Coats_Christine_1997/Coats_Christine_1997_0049.tif',\n",
       " 'e:/Batch2_2.toQC-Color_2/Coats_Christine_1997/Coats_Christine_1997/Coats_Christine_1997_0058.tif',\n",
       " 'e:/Batch2_2.toQC-Color_2/Coats_Christine_1997/Coats_Christine_1997/Coats_Christine_1997_0059.tif',\n",
       " 'e:/Batch2_2.toQC-Color_2/Coats_Christine_1997/Coats_Christine_1997/Coats_Christine_1997_0061.tif',\n",
       " 'e:/Batch2_2.toQC-Color_2/Coats_Christine_1997/Coats_Christine_1997/Coats_Christine_1997_0063.tif',\n",
       " 'e:/Batch2_2.toQC-Color_2/Coats_Christine_1997/Coats_Christine_1997/Coats_Christine_1997_0064.tif',\n",
       " 'e:/Batch2_2.toQC-Color_2/Coats_Christine_1997/Coats_Christine_1997/Coats_Christine_1997_0123.tif',\n",
       " 'e:/Batch2_2.toQC-Color_2/Coats_Christine_1997/Coats_Christine_1997/Coats_Christine_1997_0124.tif',\n",
       " 'e:/Batch2_2.toQC-Color_2/Coats_Christine_1997/Coats_Christine_1997/Coats_Christine_1997_0125.tif',\n",
       " 'e:/Batch2_2.toQC-Color_2/Coats_Christine_1997/Coats_Christine_1997/Coats_Christine_1997_0126.tif',\n",
       " 'e:/Batch2_2.toQC-Color_2/Coats_Christine_1997/Coats_Christine_1997/Coats_Christine_1997_0127.tif',\n",
       " 'e:/Batch2_2.toQC-Color_2/Coats_Christine_1997/Coats_Christine_1997/Coats_Christine_1997_0128.tif',\n",
       " 'e:/Batch2_2.toQC-Color_2/Coats_Christine_1997/Coats_Christine_1997/Coats_Christine_1997_0129.tif',\n",
       " 'e:/Batch2_2.toQC-Color_2/Coats_Christine_1997/Coats_Christine_1997/Coats_Christine_1997_0130.tif',\n",
       " 'e:/Batch2_2.toQC-Color_2/Coats_Christine_1997/Coats_Christine_1997/Coats_Christine_1997_0131.tif',\n",
       " 'e:/Batch2_2.toQC-Color_2/Coats_Christine_1997/Coats_Christine_1997/Coats_Christine_1997_0132.tif',\n",
       " 'e:/Batch2_2.toQC-Color_2/Coats_Christine_1997/Coats_Christine_1997/Coats_Christine_1997_0133.tif',\n",
       " 'e:/Batch2_2.toQC-Color_2/Coats_Christine_1997/Coats_Christine_1997/Coats_Christine_1997_0134.tif',\n",
       " 'e:/Batch2_2.toQC-Color_2/Coats_Christine_1997/Coats_Christine_1997/Coats_Christine_1997_0135.tif',\n",
       " 'e:/Batch2_2.toQC-Color_2/Coats_Christine_1997/Coats_Christine_1997/Coats_Christine_1997_0136.tif',\n",
       " 'e:/Batch2_2.toQC-Color_2/Coats_Christine_1997/Coats_Christine_1997/Coats_Christine_1997_0137.tif',\n",
       " 'e:/Batch2_2.toQC-Color_2/Coats_Christine_1997/Coats_Christine_1997/Coats_Christine_1997_0138.tif',\n",
       " 'e:/Batch2_2.toQC-Color_2/Coats_Christine_1997/Coats_Christine_1997/Coats_Christine_1997_0139.tif',\n",
       " 'e:/Batch2_2.toQC-Color_2/Coats_Christine_1997/Coats_Christine_1997/Coats_Christine_1997_0140.tif',\n",
       " 'e:/Batch2_2.toQC-Color_2/Coats_Christine_1997/Coats_Christine_1997/Coats_Christine_1997_0141.tif',\n",
       " 'e:/Batch2_2.toQC-Color_2/Coats_Christine_1997/Coats_Christine_1997/Coats_Christine_1997_0142.tif',\n",
       " 'e:/Batch2_2.toQC-Color_2/Coats_Christine_1997/Coats_Christine_1997/Coats_Christine_1997_0143.tif',\n",
       " 'e:/Batch2_2.toQC-Color_2/Coats_Christine_1997/Coats_Christine_1997/Coats_Christine_1997_0144.tif',\n",
       " 'e:/Batch2_2.toQC-Color_2/Coats_Christine_1997/Coats_Christine_1997/Coats_Christine_1997_0145.tif',\n",
       " 'e:/Batch2_2.toQC-Color_2/Coats_Christine_1997/Coats_Christine_1997/Coats_Christine_1997_0146.tif',\n",
       " 'e:/Batch2_2.toQC-Color_2/Coats_Christine_1997/Coats_Christine_1997/Coats_Christine_1997_0147.tif',\n",
       " 'e:/Batch2_2.toQC-Color_2/Coats_Christine_1997/Coats_Christine_1997/Coats_Christine_1997_0148.tif',\n",
       " 'e:/Batch2_2.toQC-Color_2/Coats_Christine_1997/Coats_Christine_1997/Coats_Christine_1997_0149.tif',\n",
       " 'e:/Batch2_2.toQC-Color_2/Coats_Christine_1997/Coats_Christine_1997/Coats_Christine_1997_0150.tif',\n",
       " 'e:/Batch2_2.toQC-Color_2/Coats_Christine_1997/Coats_Christine_1997/Coats_Christine_1997_0151.tif',\n",
       " 'e:/Batch2_2.toQC-Color_2/Coats_Christine_1997/Coats_Christine_1997/Coats_Christine_1997_0152.tif',\n",
       " 'e:/Batch2_2.toQC-Color_2/Coats_Christine_1997/Coats_Christine_1997/Coats_Christine_1997_0153.tif',\n",
       " 'e:/Batch2_2.toQC-Color_2/Coats_Christine_1997/Coats_Christine_1997/Coats_Christine_1997_0154.tif',\n",
       " 'e:/Batch2_2.toQC-Color_2/Coats_Christine_1997/Coats_Christine_1997/Coats_Christine_1997_0155.tif',\n",
       " 'e:/Batch2_2.toQC-Color_2/Coats_Christine_1997/Coats_Christine_1997/Coats_Christine_1997_0156.tif',\n",
       " 'e:/Batch2_2.toQC-Color_2/Coats_Christine_1997/Coats_Christine_1997/Coats_Christine_1997_0157.tif',\n",
       " 'e:/Batch2_2.toQC-Color_2/Coats_Christine_1997/Coats_Christine_1997/Coats_Christine_1997_0158.tif',\n",
       " 'e:/Batch2_2.toQC-Color_2/Coats_Christine_1997/Coats_Christine_1997/Coats_Christine_1997_0159.tif',\n",
       " 'e:/Batch2_2.toQC-Color_2/Coats_Christine_1997/Coats_Christine_1997/Coats_Christine_1997_0160.tif',\n",
       " 'e:/Batch2_2.toQC-Color_2/Coats_Christine_1997/Coats_Christine_1997/Coats_Christine_1997_0161.tif',\n",
       " 'e:/Batch2_2.toQC-Color_2/Coats_Christine_1997/Coats_Christine_1997/Coats_Christine_1997_0162.tif',\n",
       " 'e:/Batch2_2.toQC-Color_2/Coats_Christine_1997/Coats_Christine_1997/Coats_Christine_1997_0163.tif',\n",
       " 'e:/Batch2_2.toQC-Color_2/Coats_Christine_1997/Coats_Christine_1997/Coats_Christine_1997_0164.tif',\n",
       " 'e:/Batch2_2.toQC-Color_2/Coats_Christine_1997/Coats_Christine_1997/Coats_Christine_1997_0165.tif',\n",
       " 'e:/Batch2_2.toQC-Color_2/Coats_Christine_1997/Coats_Christine_1997/Coats_Christine_1997_0166.tif',\n",
       " 'e:/Batch2_2.toQC-Color_2/Coats_Christine_1997/Coats_Christine_1997/Coats_Christine_1997_0167.tif',\n",
       " 'e:/Batch2_2.toQC-Color_2/Coats_Christine_1997/Coats_Christine_1997/Coats_Christine_1997_0168.tif',\n",
       " 'e:/Batch2_2.toQC-Color_2/Coats_Christine_1997/Coats_Christine_1997/Coats_Christine_1997_0169.tif',\n",
       " 'e:/Batch2_2.toQC-Color_2/Coats_Christine_1997/Coats_Christine_1997/Coats_Christine_1997_0170.tif',\n",
       " 'e:/Batch2_2.toQC-Color_2/Coats_Christine_1997/Coats_Christine_1997/Coats_Christine_1997_0171.tif',\n",
       " 'e:/Batch2_2.toQC-Color_2/Coats_Christine_1997/Coats_Christine_1997/Coats_Christine_1997_0172.tif',\n",
       " 'e:/Batch2_2.toQC-Color_2/Coder_Shelby_2012/Coder_Shelby_2012/Coder_Shelby_2012_0041.tif',\n",
       " 'e:/Batch2_2.toQC-Color_2/Coder_Shelby_2012/Coder_Shelby_2012/Coder_Shelby_2012_0042.tif',\n",
       " 'e:/Batch2_2.toQC-Color_2/Coder_Shelby_2012/Coder_Shelby_2012/Coder_Shelby_2012_0043.tif',\n",
       " 'e:/Batch2_2.toQC-Color_2/Coder_Shelby_2012/Coder_Shelby_2012/Coder_Shelby_2012_0044.tif',\n",
       " 'e:/Batch2_2.toQC-Color_2/Coder_Shelby_2012/Coder_Shelby_2012/Coder_Shelby_2012_0047.tif',\n",
       " 'e:/Batch2_2.toQC-Color_2/Coder_Shelby_2012/Coder_Shelby_2012/Coder_Shelby_2012_0048.tif',\n",
       " 'e:/Batch2_2.toQC-Color_2/Coder_Shelby_2012/Coder_Shelby_2012/Coder_Shelby_2012_0049.tif',\n",
       " 'e:/Batch2_2.toQC-Color_2/Coder_Shelby_2012/Coder_Shelby_2012/Coder_Shelby_2012_0050.tif',\n",
       " 'e:/Batch2_2.toQC-Color_2/Coder_Shelby_2012/Coder_Shelby_2012/Coder_Shelby_2012_0054.tif',\n",
       " 'e:/Batch2_2.toQC-Color_2/Coder_Shelby_2012/Coder_Shelby_2012/Coder_Shelby_2012_0058.tif',\n",
       " 'e:/Batch2_2.toQC-Color_2/Coder_Shelby_2012/Coder_Shelby_2012/Coder_Shelby_2012_0060.tif',\n",
       " 'e:/Batch2_2.toQC-Color_2/Coder_Shelby_2012/Coder_Shelby_2012/Coder_Shelby_2012_0063.tif',\n",
       " 'e:/Batch2_2.toQC-Color_2/Coder_Shelby_2012/Coder_Shelby_2012/Coder_Shelby_2012_0066.tif',\n",
       " 'e:/Batch2_2.toQC-Color_2/Coder_Shelby_2012/Coder_Shelby_2012/Coder_Shelby_2012_0068.tif',\n",
       " 'e:/Batch2_2.toQC-Color_2/Coder_Shelby_2012/Coder_Shelby_2012/Coder_Shelby_2012_0070.tif',\n",
       " 'e:/Batch2_2.toQC-Color_2/Coder_Shelby_2012/Coder_Shelby_2012/Coder_Shelby_2012_0072.tif',\n",
       " 'e:/Batch2_2.toQC-Color_2/Coder_Shelby_2012/Coder_Shelby_2012/Coder_Shelby_2012_0073.tif',\n",
       " 'e:/Batch2_2.toQC-Color_2/Coder_Shelby_2012/Coder_Shelby_2012/Coder_Shelby_2012_0077.tif',\n",
       " 'e:/Batch2_2.toQC-Color_2/Coder_Shelby_2012/Coder_Shelby_2012/Coder_Shelby_2012_0078.tif',\n",
       " 'e:/Batch2_2.toQC-Color_2/Coder_Shelby_2012/Coder_Shelby_2012/Coder_Shelby_2012_0081.tif',\n",
       " 'e:/Batch2_2.toQC-Color_2/Coder_Shelby_2012/Coder_Shelby_2012/Coder_Shelby_2012_0082.tif',\n",
       " 'e:/Batch2_2.toQC-Color_2/Coder_Shelby_2012/Coder_Shelby_2012/Coder_Shelby_2012_0083.tif',\n",
       " 'e:/Batch2_2.toQC-Color_2/Coder_Shelby_2012/Coder_Shelby_2012/Coder_Shelby_2012_0085.tif',\n",
       " 'e:/Batch2_2.toQC-Color_2/Coder_Shelby_2012/Coder_Shelby_2012/Coder_Shelby_2012_0086.tif',\n",
       " 'e:/Batch2_2.toQC-Color_2/Coder_Shelby_2012/Coder_Shelby_2012/Coder_Shelby_2012_0090.tif',\n",
       " 'e:/Batch2_2.toQC-Color_2/Coder_Shelby_2012/Coder_Shelby_2012/Coder_Shelby_2012_0091.tif',\n",
       " 'e:/Batch2_2.toQC-Color_2/Coder_Shelby_2012/Coder_Shelby_2012/Coder_Shelby_2012_0092.tif',\n",
       " 'e:/Batch2_2.toQC-Color_2/Coder_Shelby_2012/Coder_Shelby_2012/Coder_Shelby_2012_0093.tif',\n",
       " 'e:/Batch2_2.toQC-Color_2/Coder_Shelby_2012/Coder_Shelby_2012/Coder_Shelby_2012_0095.tif',\n",
       " 'e:/Batch2_2.toQC-Color_2/Coder_Shelby_2012/Coder_Shelby_2012/Coder_Shelby_2012_0096.tif',\n",
       " 'e:/Batch2_2.toQC-Color_2/Coder_Shelby_2012/Coder_Shelby_2012/Coder_Shelby_2012_0097.tif',\n",
       " 'e:/Batch2_2.toQC-Color_2/Coder_Shelby_2012/Coder_Shelby_2012/Coder_Shelby_2012_0099.tif',\n",
       " 'e:/Batch2_2.toQC-Color_2/Coder_Shelby_2012/Coder_Shelby_2012/Coder_Shelby_2012_0100.tif',\n",
       " 'e:/Batch2_2.toQC-Color_2/Coder_Shelby_2012/Coder_Shelby_2012/Coder_Shelby_2012_0102.tif',\n",
       " 'e:/Batch2_2.toQC-Color_2/Coder_Shelby_2012/Coder_Shelby_2012/Coder_Shelby_2012_0104.tif',\n",
       " 'e:/Batch2_2.toQC-Color_2/Coder_Shelby_2012/Coder_Shelby_2012/Coder_Shelby_2012_0106.tif',\n",
       " 'e:/Batch2_2.toQC-Color_2/Coder_Shelby_2012/Coder_Shelby_2012/Coder_Shelby_2012_0107.tif',\n",
       " 'e:/Batch2_2.toQC-Color_2/Coder_Shelby_2012/Coder_Shelby_2012/Coder_Shelby_2012_0109.tif',\n",
       " 'e:/Batch2_2.toQC-Color_2/Coder_Shelby_2012/Coder_Shelby_2012/Coder_Shelby_2012_0111.tif',\n",
       " 'e:/Batch2_2.toQC-Color_2/Coder_Shelby_2012/Coder_Shelby_2012/Coder_Shelby_2012_0113.tif',\n",
       " 'e:/Batch2_2.toQC-Color_2/Coder_Shelby_2012/Coder_Shelby_2012/Coder_Shelby_2012_0114.tif',\n",
       " 'e:/Batch2_2.toQC-Color_2/Coder_Shelby_2012/Coder_Shelby_2012/Coder_Shelby_2012_0115.tif',\n",
       " 'e:/Batch2_2.toQC-Color_2/Coder_Shelby_2012/Coder_Shelby_2012/Coder_Shelby_2012_0116.tif',\n",
       " 'e:/Batch2_2.toQC-Color_2/Coder_Shelby_2012/Coder_Shelby_2012/Coder_Shelby_2012_0118.tif',\n",
       " 'e:/Batch2_2.toQC-Color_2/Coder_Shelby_2012/Coder_Shelby_2012/Coder_Shelby_2012_0120.tif',\n",
       " 'e:/Batch2_2.toQC-Color_2/Coder_Shelby_2012/Coder_Shelby_2012/Coder_Shelby_2012_0121.tif',\n",
       " 'e:/Batch2_2.toQC-Color_2/Coder_Shelby_2012/Coder_Shelby_2012/Coder_Shelby_2012_0123.tif',\n",
       " 'e:/Batch2_2.toQC-Color_2/Coder_Shelby_2012/Coder_Shelby_2012/Coder_Shelby_2012_0124.tif',\n",
       " 'e:/Batch2_2.toQC-Color_2/Coder_Shelby_2012/Coder_Shelby_2012/Coder_Shelby_2012_0125.tif',\n",
       " 'e:/Batch2_2.toQC-Color_2/Coder_Shelby_2012/Coder_Shelby_2012/Coder_Shelby_2012_0128.tif',\n",
       " 'e:/Batch2_2.toQC-Color_2/Coder_Shelby_2012/Coder_Shelby_2012/Coder_Shelby_2012_0129.tif',\n",
       " 'e:/Batch2_2.toQC-Color_2/Coder_Shelby_2012/Coder_Shelby_2012/Coder_Shelby_2012_0130.tif',\n",
       " 'e:/Batch2_2.toQC-Color_2/Coder_Shelby_2012/Coder_Shelby_2012/Coder_Shelby_2012_0134.tif',\n",
       " 'e:/Batch2_2.toQC-Color_2/Coder_Shelby_2012/Coder_Shelby_2012/Coder_Shelby_2012_0135.tif',\n",
       " 'e:/Batch2_2.toQC-Color_2/Coder_Shelby_2012/Coder_Shelby_2012/Coder_Shelby_2012_0138.tif',\n",
       " 'e:/Batch2_2.toQC-Color_2/Coder_Shelby_2012/Coder_Shelby_2012/Coder_Shelby_2012_0139.tif',\n",
       " 'e:/Batch2_2.toQC-Color_2/Coder_Shelby_2012/Coder_Shelby_2012/Coder_Shelby_2012_0140.tif',\n",
       " 'e:/Batch2_2.toQC-Color_2/Coder_Shelby_2012/Coder_Shelby_2012/Coder_Shelby_2012_0141.tif',\n",
       " 'e:/Batch2_2.toQC-Color_2/Coder_Shelby_2012/Coder_Shelby_2012/Coder_Shelby_2012_0142.tif',\n",
       " 'e:/Batch2_2.toQC-Color_2/Coder_Shelby_2012/Coder_Shelby_2012/Coder_Shelby_2012_0143.tif',\n",
       " 'e:/Batch2_2.toQC-Color_2/Coder_Shelby_2012/Coder_Shelby_2012/Coder_Shelby_2012_0146.tif',\n",
       " 'e:/Batch2_2.toQC-Color_2/Coder_Shelby_2012/Coder_Shelby_2012/Coder_Shelby_2012_0147.tif',\n",
       " 'e:/Batch2_2.toQC-Color_2/Coder_Shelby_2012/Coder_Shelby_2012/Coder_Shelby_2012_0149.tif',\n",
       " 'e:/Batch2_2.toQC-Color_2/Coder_Shelby_2012/Coder_Shelby_2012/Coder_Shelby_2012_0150.tif',\n",
       " 'e:/Batch2_2.toQC-Color_2/Coder_Shelby_2012/Coder_Shelby_2012/Coder_Shelby_2012_0151.tif',\n",
       " 'e:/Batch2_2.toQC-Color_2/Cody_Melissa_2002/Cody_Melissa_2002/Cody_Melissa_2002_0060.tif',\n",
       " 'e:/Batch2_2.toQC-Color_2/Cody_Melissa_2002/Cody_Melissa_2002/Cody_Melissa_2002_0062.tif',\n",
       " 'e:/Batch2_2.toQC-Color_2/Cody_Melissa_2002/Cody_Melissa_2002/Cody_Melissa_2002_0064.tif',\n",
       " 'e:/Batch2_2.toQC-Color_2/Cody_Melissa_2002/Cody_Melissa_2002/Cody_Melissa_2002_0066.tif',\n",
       " 'e:/Batch2_2.toQC-Color_2/Cody_Melissa_2002/Cody_Melissa_2002/Cody_Melissa_2002_0067.tif',\n",
       " 'e:/Batch2_2.toQC-Color_2/Cody_Melissa_2002/Cody_Melissa_2002/Cody_Melissa_2002_0068.tif',\n",
       " 'e:/Batch2_2.toQC-Color_2/Cody_Melissa_2002/Cody_Melissa_2002/Cody_Melissa_2002_0069.tif',\n",
       " 'e:/Batch2_2.toQC-Color_2/Cody_Melissa_2002/Cody_Melissa_2002/Cody_Melissa_2002_0073.tif',\n",
       " 'e:/Batch2_2.toQC-Color_2/Cohen_Katrina_2008/Cohen_Katrina_2008/Cohen_Katrina_2008_0026.tif',\n",
       " 'e:/Batch2_2.toQC-Color_2/Coker_Linda_2005/Coker_Linda_2005/Coker_Linda_2005_0062.tif',\n",
       " 'e:/Batch2_2.toQC-Color_2/Coker_Linda_2005/Coker_Linda_2005/Coker_Linda_2005_0072.tif',\n",
       " 'e:/Batch2_2.toQC-Color_2/Coker_Linda_2005/Coker_Linda_2005/Coker_Linda_2005_0073.tif',\n",
       " 'e:/Batch2_2.toQC-Color_2/Coker_Linda_2005/Coker_Linda_2005/Coker_Linda_2005_0074.tif',\n",
       " 'e:/Batch2_2.toQC-Color_2/Coker_Linda_2005/Coker_Linda_2005/Coker_Linda_2005_0075.tif',\n",
       " 'e:/Batch2_2.toQC-Color_2/Coker_Linda_2005/Coker_Linda_2005/Coker_Linda_2005_0084.tif',\n",
       " 'e:/Batch2_2.toQC-Color_2/Coker_Linda_2005/Coker_Linda_2005/Coker_Linda_2005_0085.tif',\n",
       " 'e:/Batch2_2.toQC-Color_2/Collins_Margaret_2009/Collins_Margaret_2009/Collins_Margaret_2009_0038.tif',\n",
       " 'e:/Batch2_2.toQC-Color_2/Collins_Margaret_2009/Collins_Margaret_2009/Collins_Margaret_2009_0039.tif',\n",
       " 'e:/Batch2_2.toQC-Color_2/Collins_Margaret_2009/Collins_Margaret_2009/Collins_Margaret_2009_0040.tif',\n",
       " 'e:/Batch2_2.toQC-Color_2/Collins_Margaret_2009/Collins_Margaret_2009/Collins_Margaret_2009_0041.tif',\n",
       " 'e:/Batch2_2.toQC-Color_2/Collins_Margaret_2009/Collins_Margaret_2009/Collins_Margaret_2009_0042.tif',\n",
       " 'e:/Batch2_2.toQC-Color_2/Collins_Margaret_2009/Collins_Margaret_2009/Collins_Margaret_2009_0043.tif',\n",
       " 'e:/Batch2_2.toQC-Color_2/Colvin_Corrie_2007/Colvin_Corrie_2007/Colvin_Corrie_2007_0025.tif',\n",
       " 'e:/Batch2_2.toQC-Color_2/Colvin_Corrie_2007/Colvin_Corrie_2007/Colvin_Corrie_2007_0040.tif',\n",
       " 'e:/Batch2_2.toQC-Color_2/Connolly_Michael_2007/Connolly_Michael_2007/Connolly_Michael_2007_0008.tif',\n",
       " 'e:/Batch2_2.toQC-Color_2/Connolly_Michael_2007/Connolly_Michael_2007/Connolly_Michael_2007_0016.tif',\n",
       " 'e:/Batch2_2.toQC-Color_2/Connolly_Michael_2007/Connolly_Michael_2007/Connolly_Michael_2007_0033.tif',\n",
       " 'e:/Batch2_2.toQC-Color_2/Connolly_Michael_2007/Connolly_Michael_2007/Connolly_Michael_2007_0034.tif',\n",
       " 'e:/Batch2_2.toQC-Color_2/Connolly_Michael_2007/Connolly_Michael_2007/Connolly_Michael_2007_0035.tif',\n",
       " 'e:/Batch2_2.toQC-Color_2/Connolly_Michael_2007/Connolly_Michael_2007/Connolly_Michael_2007_0042.tif',\n",
       " 'e:/Batch2_2.toQC-Color_2/Connolly_Michael_2007/Connolly_Michael_2007/Connolly_Michael_2007_0050.tif',\n",
       " 'e:/Batch2_2.toQC-Color_2/Connolly_Michael_2007/Connolly_Michael_2007/Connolly_Michael_2007_0052.tif',\n",
       " 'e:/Batch2_2.toQC-Color_2/Connolly_Michael_2007/Connolly_Michael_2007/Connolly_Michael_2007_0056.tif',\n",
       " 'e:/Batch2_2.toQC-Color_2/Connolly_Michael_2007/Connolly_Michael_2007/Connolly_Michael_2007_0060.tif',\n",
       " 'e:/Batch2_2.toQC-Color_2/Connolly_Michael_2007/Connolly_Michael_2007/Connolly_Michael_2007_0062.tif',\n",
       " 'e:/Batch2_2.toQC-Color_2/Connolly_Michael_2007/Connolly_Michael_2007/Connolly_Michael_2007_0063.tif',\n",
       " 'e:/Batch2_2.toQC-Color_2/Connolly_Michael_2007/Connolly_Michael_2007/Connolly_Michael_2007_0087.tif',\n",
       " 'e:/Batch2_2.toQC-Color_2/Contreras_Guadalupe_2001/Contreras_Guadalupe_2001/Contreras_Guadalupe_2001_0087.tif',\n",
       " 'e:/Batch2_2.toQC-Color_2/Conyers_Mindy_2003/Conyers_Mindy_2003/Conyers_Mindy_2003_0016.tif',\n",
       " 'e:/Batch2_2.toQC-Color_2/Conyers_Mindy_2003/Conyers_Mindy_2003/Conyers_Mindy_2003_0023.tif',\n",
       " 'e:/Batch2_2.toQC-Color_2/Conyers_Mindy_2003/Conyers_Mindy_2003/Conyers_Mindy_2003_0026.tif',\n",
       " 'e:/Batch2_2.toQC-Color_2/Conyers_Mindy_2003/Conyers_Mindy_2003/Conyers_Mindy_2003_0029.tif',\n",
       " 'e:/Batch2_2.toQC-Color_2/Conyers_Mindy_2003/Conyers_Mindy_2003/Conyers_Mindy_2003_0037.tif',\n",
       " 'e:/Batch2_2.toQC-Color_2/Conyers_Mindy_2003/Conyers_Mindy_2003/Conyers_Mindy_2003_0038.tif',\n",
       " 'e:/Batch2_2.toQC-Color_2/Conyers_Mindy_2003/Conyers_Mindy_2003/Conyers_Mindy_2003_0039.tif',\n",
       " 'e:/Batch2_2.toQC-Color_2/Conyers_Mindy_2003/Conyers_Mindy_2003/Conyers_Mindy_2003_0043.tif',\n",
       " 'e:/Batch2_2.toQC-Color_2/Conyers_Mindy_2003/Conyers_Mindy_2003/Conyers_Mindy_2003_0044.tif',\n",
       " 'e:/Batch2_2.toQC-Color_2/Conyers_Mindy_2003/Conyers_Mindy_2003/Conyers_Mindy_2003_0045.tif',\n",
       " 'e:/Batch2_2.toQC-Color_2/Conyers_Mindy_2003/Conyers_Mindy_2003/Conyers_Mindy_2003_0060.tif',\n",
       " 'e:/Batch2_2.toQC-Color_2/Conyers_Mindy_2003/Conyers_Mindy_2003/Conyers_Mindy_2003_0061.tif',\n",
       " 'e:/Batch2_2.toQC-Color_2/Conyers_Mindy_2003/Conyers_Mindy_2003/Conyers_Mindy_2003_0062.tif',\n",
       " 'e:/Batch2_2.toQC-Color_2/Conyers_Mindy_2003/Conyers_Mindy_2003/Conyers_Mindy_2003_0063.tif',\n",
       " 'e:/Batch2_2.toQC-Color_2/Conyers_Mindy_2003/Conyers_Mindy_2003/Conyers_Mindy_2003_0065.tif',\n",
       " 'e:/Batch2_2.toQC-Color_2/Conyers_Mindy_2003/Conyers_Mindy_2003/Conyers_Mindy_2003_0067.tif',\n",
       " 'e:/Batch2_2.toQC-Color_2/Conyers_Mindy_2003/Conyers_Mindy_2003/Conyers_Mindy_2003_0069.tif',\n",
       " 'e:/Batch2_2.toQC-Color_2/Conyers_Mindy_2003/Conyers_Mindy_2003/Conyers_Mindy_2003_0070.tif',\n",
       " 'e:/Batch2_2.toQC-Color_2/Conyers_Mindy_2003/Conyers_Mindy_2003/Conyers_Mindy_2003_0071.tif',\n",
       " 'e:/Batch2_2.toQC-Color_2/Conyers_Mindy_2003/Conyers_Mindy_2003/Conyers_Mindy_2003_0072.tif',\n",
       " 'e:/Batch2_2.toQC-Color_2/Conyers_Mindy_2003/Conyers_Mindy_2003/Conyers_Mindy_2003_0073.tif',\n",
       " 'e:/Batch2_2.toQC-Color_2/Conyers_Mindy_2003/Conyers_Mindy_2003/Conyers_Mindy_2003_0074.tif',\n",
       " 'e:/Batch2_2.toQC-Color_2/Conyers_Mindy_2003/Conyers_Mindy_2003/Conyers_Mindy_2003_0075.tif',\n",
       " 'e:/Batch2_2.toQC-Color_2/Conyers_Mindy_2003/Conyers_Mindy_2003/Conyers_Mindy_2003_0076.tif',\n",
       " 'e:/Batch2_2.toQC-Color_2/Conyers_Mindy_2003/Conyers_Mindy_2003/Conyers_Mindy_2003_0078.tif',\n",
       " 'e:/Batch2_2.toQC-Color_2/Conyers_Mindy_2003/Conyers_Mindy_2003/Conyers_Mindy_2003_0080.tif',\n",
       " 'e:/Batch2_2.toQC-Color_2/Conyers_Mindy_2003/Conyers_Mindy_2003/Conyers_Mindy_2003_0082.tif',\n",
       " 'e:/Batch2_2.toQC-Color_2/Conyers_Mindy_2003/Conyers_Mindy_2003/Conyers_Mindy_2003_0083.tif',\n",
       " 'e:/Batch2_2.toQC-Color_2/Conyers_Mindy_2003/Conyers_Mindy_2003/Conyers_Mindy_2003_0084.tif',\n",
       " 'e:/Batch2_2.toQC-Color_2/Conyers_Mindy_2003/Conyers_Mindy_2003/Conyers_Mindy_2003_0085.tif',\n",
       " 'e:/Batch2_2.toQC-Color_2/Conyers_Mindy_2003/Conyers_Mindy_2003/Conyers_Mindy_2003_0086.tif',\n",
       " 'e:/Batch2_2.toQC-Color_2/Conyers_Mindy_2003/Conyers_Mindy_2003/Conyers_Mindy_2003_0088.tif',\n",
       " 'e:/Batch2_2.toQC-Color_2/Conyers_Mindy_2003/Conyers_Mindy_2003/Conyers_Mindy_2003_0090.tif',\n",
       " 'e:/Batch2_2.toQC-Color_2/Conyers_Mindy_2003/Conyers_Mindy_2003/Conyers_Mindy_2003_0092.tif',\n",
       " 'e:/Batch2_2.toQC-Color_2/Conyers_Mindy_2003/Conyers_Mindy_2003/Conyers_Mindy_2003_0093.tif',\n",
       " 'e:/Batch2_2.toQC-Color_2/Conyers_Mindy_2003/Conyers_Mindy_2003/Conyers_Mindy_2003_0095.tif',\n",
       " 'e:/Batch2_2.toQC-Color_2/Conyers_Mindy_2003/Conyers_Mindy_2003/Conyers_Mindy_2003_0096.tif',\n",
       " 'e:/Batch2_2.toQC-Color_2/Conyers_Mindy_2003/Conyers_Mindy_2003/Conyers_Mindy_2003_0097.tif',\n",
       " 'e:/Batch2_2.toQC-Color_2/Conyers_Mindy_2003/Conyers_Mindy_2003/Conyers_Mindy_2003_0098.tif',\n",
       " 'e:/Batch2_2.toQC-Color_2/Conyers_Mindy_2003/Conyers_Mindy_2003/Conyers_Mindy_2003_0099.tif',\n",
       " 'e:/Batch2_2.toQC-Color_2/Conyers_Mindy_2003/Conyers_Mindy_2003/Conyers_Mindy_2003_0100.tif',\n",
       " 'e:/Batch2_2.toQC-Color_2/Conyers_Mindy_2003/Conyers_Mindy_2003/Conyers_Mindy_2003_0101.tif',\n",
       " 'e:/Batch2_2.toQC-Color_2/Conyers_Mindy_2003/Conyers_Mindy_2003/Conyers_Mindy_2003_0102.tif',\n",
       " 'e:/Batch2_2.toQC-Color_2/Conyers_Mindy_2003/Conyers_Mindy_2003/Conyers_Mindy_2003_0103.tif',\n",
       " 'e:/Batch2_2.toQC-Color_2/Conyers_Mindy_2003/Conyers_Mindy_2003/Conyers_Mindy_2003_0104.tif',\n",
       " 'e:/Batch2_2.toQC-Color_2/Cooke_Maria_2012/Cooke_Maria_2012/Cooke_Maria_2012_0057.tif',\n",
       " 'e:/Batch2_2.toQC-Color_2/Cooke_Maria_2012/Cooke_Maria_2012/Cooke_Maria_2012_0058.tif',\n",
       " 'e:/Batch2_2.toQC-Color_2/Cooke_Maria_2012/Cooke_Maria_2012/Cooke_Maria_2012_0059.tif',\n",
       " 'e:/Batch2_2.toQC-Color_2/Cooke_Maria_2012/Cooke_Maria_2012/Cooke_Maria_2012_0060.tif',\n",
       " 'e:/Batch2_2.toQC-Color_2/Cooksey_Matthew_2007/Cooksey_Matthew_2007/Cooksey_Matthew_2007_0012.tif',\n",
       " 'e:/Batch2_2.toQC-Color_2/Cooksey_Matthew_2007/Cooksey_Matthew_2007/Cooksey_Matthew_2007_0027.tif',\n",
       " 'e:/Batch2_2.toQC-Color_2/Cooksey_Matthew_2007/Cooksey_Matthew_2007/Cooksey_Matthew_2007_0028.tif',\n",
       " 'e:/Batch2_2.toQC-Color_2/Copeland_Chad_2005/Copeland_Chad_2005/Copeland_Chad_2005_0012.tif',\n",
       " 'e:/Batch2_2.toQC-Color_2/Copeland_Chad_2005/Copeland_Chad_2005/Copeland_Chad_2005_0016.tif',\n",
       " 'e:/Batch2_2.toQC-Color_2/Copeland_Chad_2005/Copeland_Chad_2005/Copeland_Chad_2005_0031.tif',\n",
       " 'e:/Batch2_2.toQC-Color_2/Copeland_Chad_2005/Copeland_Chad_2005/Copeland_Chad_2005_0040.tif',\n",
       " 'e:/Batch2_2.toQC-Color_2/Copeland_Chad_2005/Copeland_Chad_2005/Copeland_Chad_2005_0044.tif',\n",
       " 'e:/Batch2_2.toQC-Color_2/Copeland_Chad_2005/Copeland_Chad_2005/Copeland_Chad_2005_0050.tif',\n",
       " 'e:/Batch2_2.toQC-Color_2/Crittenden_Elizabeth_2008/Crittenden_Elizabeth_2008/Crittenden_Elizabeth_2008_0027.tif',\n",
       " 'e:/Batch2_2.toQC-Color_2/Crittenden_Elizabeth_2008/Crittenden_Elizabeth_2008/Crittenden_Elizabeth_2008_0028.tif',\n",
       " 'e:/Batch2_2.toQC-Color_2/Crittenden_Elizabeth_2008/Crittenden_Elizabeth_2008/Crittenden_Elizabeth_2008_0029.tif',\n",
       " 'e:/Batch2_2.toQC-Color_2/Crosby_Sergio_2006/Crosby_Sergio_2006/Crosby_Sergio_2006_0016.tif',\n",
       " 'e:/Batch2_2.toQC-Color_2/Crosby_Sergio_2006/Crosby_Sergio_2006/Crosby_Sergio_2006_0028.tif',\n",
       " 'e:/Batch2_2.toQC-Color_2/Crosby_Sergio_2006/Crosby_Sergio_2006/Crosby_Sergio_2006_0039.tif',\n",
       " 'e:/Batch2_2.toQC-Color_2/Crosby_Sergio_2006/Crosby_Sergio_2006/Crosby_Sergio_2006_0042.tif',\n",
       " 'e:/Batch2_2.toQC-Color_2/Crosby_Sergio_2006/Crosby_Sergio_2006/Crosby_Sergio_2006_0050.tif',\n",
       " 'e:/Batch2_2.toQC-Color_2/Crosby_Sergio_2006/Crosby_Sergio_2006/Crosby_Sergio_2006_0067.tif',\n",
       " 'e:/Batch2_2.toQC-Color_2/Crowell_Lindsay_2012/Crowell_Lindsay_2012/Crowell_Lindsay_2012_0023.tif',\n",
       " 'e:/Batch2_2.toQC-Color_2/Crowell_Lindsay_2012/Crowell_Lindsay_2012/Crowell_Lindsay_2012_0024.tif',\n",
       " 'e:/Batch2_2.toQC-Color_2/Crowell_Lindsay_2012/Crowell_Lindsay_2012/Crowell_Lindsay_2012_0025.tif',\n",
       " 'e:/Batch2_2.toQC-Color_2/Crowell_Lindsay_2012/Crowell_Lindsay_2012/Crowell_Lindsay_2012_0026.tif',\n",
       " 'e:/Batch2_2.toQC-Color_2/Crowell_Lindsay_2012/Crowell_Lindsay_2012/Crowell_Lindsay_2012_0027.tif',\n",
       " 'e:/Batch2_2.toQC-Color_2/Crowell_Lindsay_2012/Crowell_Lindsay_2012/Crowell_Lindsay_2012_0028.tif',\n",
       " 'e:/Batch2_2.toQC-Color_2/Crowell_Lindsay_2012/Crowell_Lindsay_2012/Crowell_Lindsay_2012_0029.tif',\n",
       " 'e:/Batch2_2.toQC-Color_2/Crowell_Lindsay_2012/Crowell_Lindsay_2012/Crowell_Lindsay_2012_0030.tif',\n",
       " 'e:/Batch2_2.toQC-Color_2/Crowell_Lindsay_2012/Crowell_Lindsay_2012/Crowell_Lindsay_2012_0031.tif',\n",
       " 'e:/Batch2_2.toQC-Color_2/Crowell_Lindsay_2012/Crowell_Lindsay_2012/Crowell_Lindsay_2012_0032.tif',\n",
       " 'e:/Batch2_2.toQC-Color_2/Crowell_Lindsay_2012/Crowell_Lindsay_2012/Crowell_Lindsay_2012_0033.tif',\n",
       " 'e:/Batch2_2.toQC-Color_2/Crowell_Lindsay_2012/Crowell_Lindsay_2012/Crowell_Lindsay_2012_0034.tif',\n",
       " 'e:/Batch2_2.toQC-Color_2/Crowell_Lindsay_2012/Crowell_Lindsay_2012/Crowell_Lindsay_2012_0035.tif',\n",
       " 'e:/Batch2_2.toQC-Color_2/Crowell_Lindsay_2012/Crowell_Lindsay_2012/Crowell_Lindsay_2012_0036.tif',\n",
       " 'e:/Batch2_2.toQC-Color_2/Crowell_Lindsay_2012/Crowell_Lindsay_2012/Crowell_Lindsay_2012_0037.tif',\n",
       " 'e:/Batch2_2.toQC-Color_2/Crowell_Lindsay_2012/Crowell_Lindsay_2012/Crowell_Lindsay_2012_0038.tif',\n",
       " 'e:/Batch2_2.toQC-Color_2/Crowell_Lindsay_2012/Crowell_Lindsay_2012/Crowell_Lindsay_2012_0039.tif',\n",
       " 'e:/Batch2_2.toQC-Color_2/Crowell_Lindsay_2012/Crowell_Lindsay_2012/Crowell_Lindsay_2012_0040.tif',\n",
       " 'e:/Batch2_2.toQC-Color_2/Crowell_Lindsay_2012/Crowell_Lindsay_2012/Crowell_Lindsay_2012_0041.tif',\n",
       " 'e:/Batch2_2.toQC-Color_2/Crowell_Lindsay_2012/Crowell_Lindsay_2012/Crowell_Lindsay_2012_0042.tif',\n",
       " 'e:/Batch2_2.toQC-Color_2/Crowell_Lindsay_2012/Crowell_Lindsay_2012/Crowell_Lindsay_2012_0043.tif',\n",
       " 'e:/Batch2_2.toQC-Color_2/Crowell_Lindsay_2012/Crowell_Lindsay_2012/Crowell_Lindsay_2012_0044.tif',\n",
       " 'e:/Batch2_2.toQC-Color_2/Crowell_Lindsay_2012/Crowell_Lindsay_2012/Crowell_Lindsay_2012_0045.tif',\n",
       " 'e:/Batch2_2.toQC-Color_2/Crowell_Lindsay_2012/Crowell_Lindsay_2012/Crowell_Lindsay_2012_0046.tif',\n",
       " 'e:/Batch2_2.toQC-Color_2/Crowell_Lindsay_2012/Crowell_Lindsay_2012/Crowell_Lindsay_2012_0047.tif',\n",
       " 'e:/Batch2_2.toQC-Color_2/Crowell_Lindsay_2012/Crowell_Lindsay_2012/Crowell_Lindsay_2012_0048.tif',\n",
       " 'e:/Batch2_2.toQC-Color_2/Crowell_Lindsay_2012/Crowell_Lindsay_2012/Crowell_Lindsay_2012_0049.tif',\n",
       " 'e:/Batch2_2.toQC-Color_2/Crowell_Lindsay_2012/Crowell_Lindsay_2012/Crowell_Lindsay_2012_0050.tif',\n",
       " 'e:/Batch2_2.toQC-Color_2/Crowell_Lindsay_2012/Crowell_Lindsay_2012/Crowell_Lindsay_2012_0051.tif',\n",
       " 'e:/Batch2_2.toQC-Color_2/Crowell_Lindsay_2012/Crowell_Lindsay_2012/Crowell_Lindsay_2012_0052.tif',\n",
       " 'e:/Batch2_2.toQC-Color_2/Crowell_Lindsay_2012/Crowell_Lindsay_2012/Crowell_Lindsay_2012_0053.tif',\n",
       " 'e:/Batch2_2.toQC-Color_2/Crowell_Lindsay_2012/Crowell_Lindsay_2012/Crowell_Lindsay_2012_0054.tif',\n",
       " 'e:/Batch2_2.toQC-Color_2/Crowell_Lindsay_2012/Crowell_Lindsay_2012/Crowell_Lindsay_2012_0055.tif',\n",
       " 'e:/Batch2_2.toQC-Color_2/Crowell_Lindsay_2012/Crowell_Lindsay_2012/Crowell_Lindsay_2012_0056.tif',\n",
       " 'e:/Batch2_2.toQC-Color_2/Crowell_Lindsay_2012/Crowell_Lindsay_2012/Crowell_Lindsay_2012_0057.tif',\n",
       " 'e:/Batch2_2.toQC-Color_2/Crowell_Lindsay_2012/Crowell_Lindsay_2012/Crowell_Lindsay_2012_0058.tif',\n",
       " 'e:/Batch2_2.toQC-Color_2/Crowell_Lindsay_2012/Crowell_Lindsay_2012/Crowell_Lindsay_2012_0059.tif',\n",
       " 'e:/Batch2_2.toQC-Color_2/Crowell_Lindsay_2012/Crowell_Lindsay_2012/Crowell_Lindsay_2012_0060.tif',\n",
       " 'e:/Batch2_2.toQC-Color_2/Crowell_Lindsay_2012/Crowell_Lindsay_2012/Crowell_Lindsay_2012_0061.tif',\n",
       " 'e:/Batch2_2.toQC-Color_2/Crowell_Lindsay_2012/Crowell_Lindsay_2012/Crowell_Lindsay_2012_0062.tif',\n",
       " 'e:/Batch2_2.toQC-Color_2/Crowell_Lindsay_2012/Crowell_Lindsay_2012/Crowell_Lindsay_2012_0063.tif',\n",
       " 'e:/Batch2_2.toQC-Color_2/Crowell_Lindsay_2012/Crowell_Lindsay_2012/Crowell_Lindsay_2012_0064.tif',\n",
       " 'e:/Batch2_2.toQC-Color_2/Crowell_Lindsay_2012/Crowell_Lindsay_2012/Crowell_Lindsay_2012_0065.tif',\n",
       " 'e:/Batch2_2.toQC-Color_2/Crowell_Lindsay_2012/Crowell_Lindsay_2012/Crowell_Lindsay_2012_0066.tif',\n",
       " 'e:/Batch2_2.toQC-Color_2/Crowell_Lindsay_2012/Crowell_Lindsay_2012/Crowell_Lindsay_2012_0067.tif',\n",
       " 'e:/Batch2_2.toQC-Color_2/Crowell_Lindsay_2012/Crowell_Lindsay_2012/Crowell_Lindsay_2012_0068.tif',\n",
       " 'e:/Batch2_2.toQC-Color_2/Crowell_Lindsay_2012/Crowell_Lindsay_2012/Crowell_Lindsay_2012_0069.tif',\n",
       " 'e:/Batch2_2.toQC-Color_2/Crowell_Lindsay_2012/Crowell_Lindsay_2012/Crowell_Lindsay_2012_0070.tif',\n",
       " 'e:/Batch2_2.toQC-Color_2/Crowell_Lindsay_2012/Crowell_Lindsay_2012/Crowell_Lindsay_2012_0071.tif',\n",
       " 'e:/Batch2_2.toQC-Color_2/Crowell_Lindsay_2012/Crowell_Lindsay_2012/Crowell_Lindsay_2012_0072.tif',\n",
       " 'e:/Batch2_2.toQC-Color_2/Crowell_Lindsay_2012/Crowell_Lindsay_2012/Crowell_Lindsay_2012_0073.tif',\n",
       " 'e:/Batch2_2.toQC-Color_2/Crowell_Lindsay_2012/Crowell_Lindsay_2012/Crowell_Lindsay_2012_0074.tif',\n",
       " 'e:/Batch2_2.toQC-Color_2/Crowell_Lindsay_2012/Crowell_Lindsay_2012/Crowell_Lindsay_2012_0075.tif',\n",
       " 'e:/Batch2_2.toQC-Color_2/Crowell_Lindsay_2012/Crowell_Lindsay_2012/Crowell_Lindsay_2012_0076.tif',\n",
       " 'e:/Batch2_2.toQC-Color_2/Crowell_Lindsay_2012/Crowell_Lindsay_2012/Crowell_Lindsay_2012_0077.tif',\n",
       " 'e:/Batch2_2.toQC-Color_2/Crowell_Lindsay_2012/Crowell_Lindsay_2012/Crowell_Lindsay_2012_0078.tif',\n",
       " 'e:/Batch2_2.toQC-Color_2/Crowell_Lindsay_2012/Crowell_Lindsay_2012/Crowell_Lindsay_2012_0079.tif',\n",
       " 'e:/Batch2_2.toQC-Color_2/Crowell_Lindsay_2012/Crowell_Lindsay_2012/Crowell_Lindsay_2012_0080.tif',\n",
       " 'e:/Batch2_2.toQC-Color_2/Crowell_Lindsay_2012/Crowell_Lindsay_2012/Crowell_Lindsay_2012_0081.tif',\n",
       " 'e:/Batch2_2.toQC-Color_2/Crowell_Lindsay_2012/Crowell_Lindsay_2012/Crowell_Lindsay_2012_0082.tif',\n",
       " 'e:/Batch2_2.toQC-Color_2/Crowell_Lindsay_2012/Crowell_Lindsay_2012/Crowell_Lindsay_2012_0083.tif',\n",
       " 'e:/Batch2_2.toQC-Color_2/Cryer_Gregory_2003/Cryer_Gregory_2003/Cryer_Gregory_2003_0053.tif',\n",
       " 'e:/Batch2_2.toQC-Color_2/Cryer_Gregory_2003/Cryer_Gregory_2003/Cryer_Gregory_2003_0054.tif',\n",
       " 'e:/Batch2_2.toQC-Color_2/Cryer_Gregory_2003/Cryer_Gregory_2003/Cryer_Gregory_2003_0055.tif',\n",
       " 'e:/Batch2_2.toQC-Color_2/Cryer_Gregory_2003/Cryer_Gregory_2003/Cryer_Gregory_2003_0056.tif',\n",
       " 'e:/Batch2_2.toQC-Color_2/Cryer_Gregory_2003/Cryer_Gregory_2003/Cryer_Gregory_2003_0059.tif',\n",
       " 'e:/Batch2_2.toQC-Color_2/Cryer_Gregory_2003/Cryer_Gregory_2003/Cryer_Gregory_2003_0060.tif',\n",
       " 'e:/Batch2_2.toQC-Color_2/Cryer_Gregory_2003/Cryer_Gregory_2003/Cryer_Gregory_2003_0061.tif',\n",
       " 'e:/Batch2_2.toQC-Color_2/Cryer_Gregory_2003/Cryer_Gregory_2003/Cryer_Gregory_2003_0062.tif',\n",
       " 'e:/Batch2_2.toQC-Color_2/Cryer_Gregory_2003/Cryer_Gregory_2003/Cryer_Gregory_2003_0063.tif',\n",
       " 'e:/Batch2_2.toQC-Color_2/Cryer_Gregory_2003/Cryer_Gregory_2003/Cryer_Gregory_2003_0064.tif',\n",
       " 'e:/Batch2_2.toQC-Color_2/Cryer_Gregory_2003/Cryer_Gregory_2003/Cryer_Gregory_2003_0065.tif',\n",
       " 'e:/Batch2_2.toQC-Color_2/Dalton_Jesse_2011/Dalton_Jesse_2011/Dalton_Jesse_2011_0014.tif',\n",
       " 'e:/Batch2_2.toQC-Color_2/Dalton_Jesse_2011/Dalton_Jesse_2011/Dalton_Jesse_2011_0017.tif',\n",
       " 'e:/Batch2_2.toQC-Color_2/Dalton_Jesse_2011/Dalton_Jesse_2011/Dalton_Jesse_2011_0036.tif',\n",
       " 'e:/Batch2_2.toQC-Color_2/Dalton_Jesse_2011/Dalton_Jesse_2011/Dalton_Jesse_2011_0037.tif',\n",
       " 'e:/Batch2_2.toQC-Color_2/Dalton_Jesse_2011/Dalton_Jesse_2011/Dalton_Jesse_2011_0038.tif',\n",
       " 'e:/Batch2_2.toQC-Color_2/Dalton_Jesse_2011/Dalton_Jesse_2011/Dalton_Jesse_2011_0096.tif',\n",
       " 'e:/Batch2_2.toQC-Color_2/Dalton_Jesse_2011/Dalton_Jesse_2011/Dalton_Jesse_2011_0158.tif',\n",
       " 'e:/Batch2_2.toQC-Color_2/Dalton_Jesse_2011/Dalton_Jesse_2011/Dalton_Jesse_2011_0166.tif',\n",
       " 'e:/Batch2_2.toQC-Color_2/Dalton_Jesse_2011/Dalton_Jesse_2011/Dalton_Jesse_2011_0187.tif',\n",
       " 'e:/Batch2_2.toQC-Color_2/Dalton_Jesse_2011/Dalton_Jesse_2011/Dalton_Jesse_2011_0190.tif',\n",
       " 'e:/Batch2_2.toQC-Color_2/Dalton_Jesse_2011/Dalton_Jesse_2011/Dalton_Jesse_2011_0192.tif',\n",
       " 'e:/Batch2_2.toQC-Color_2/Dalton_Jesse_2011/Dalton_Jesse_2011/Dalton_Jesse_2011_0194.tif',\n",
       " 'e:/Batch2_2.toQC-Color_2/Dalton_Jesse_2011/Dalton_Jesse_2011/Dalton_Jesse_2011_0195.tif',\n",
       " 'e:/Batch2_2.toQC-Color_2/Dalton_Jesse_2011/Dalton_Jesse_2011/Dalton_Jesse_2011_0230.tif',\n",
       " 'e:/Batch2_2.toQC-Color_2/Dalton_Jesse_2011/Dalton_Jesse_2011/Dalton_Jesse_2011_0259.tif',\n",
       " 'e:/Batch2_2.toQC-Color_2/Dalton_Jesse_2011/Dalton_Jesse_2011/Dalton_Jesse_2011_0260.tif',\n",
       " 'e:/Batch2_2.toQC-Color_2/Dalton_Jesse_2011/Dalton_Jesse_2011/Dalton_Jesse_2011_0261.tif',\n",
       " 'e:/Batch2_2.toQC-Color_2/Dalton_Jesse_2011/Dalton_Jesse_2011/Dalton_Jesse_2011_0262.tif',\n",
       " 'e:/Batch2_2.toQC-Color_2/Dalton_Jesse_2011/Dalton_Jesse_2011/Dalton_Jesse_2011_0263.tif',\n",
       " 'e:/Batch2_2.toQC-Color_2/Daniels_Christina_2001/Daniels_Christina_2001/Daniels_Christina_2001_0020.tif',\n",
       " 'e:/Batch2_2.toQC-Color_2/Daniels_Christina_2001/Daniels_Christina_2001/Daniels_Christina_2001_0025.tif',\n",
       " 'e:/Batch2_2.toQC-Color_2/Daniels_Christina_2001/Daniels_Christina_2001/Daniels_Christina_2001_0030.tif',\n",
       " 'e:/Batch2_2.toQC-Color_2/Daniels_Christina_2001/Daniels_Christina_2001/Daniels_Christina_2001_0033.tif',\n",
       " 'e:/Batch2_2.toQC-Color_2/Daniels_Christina_2001/Daniels_Christina_2001/Daniels_Christina_2001_0036.tif',\n",
       " 'e:/Batch2_2.toQC-Color_2/Daniels_Christina_2001/Daniels_Christina_2001/Daniels_Christina_2001_0037.tif',\n",
       " 'e:/Batch2_2.toQC-Color_2/Daniels_Christina_2001/Daniels_Christina_2001/Daniels_Christina_2001_0040.tif',\n",
       " 'e:/Batch2_2.toQC-Color_2/Daniels_Christina_2001/Daniels_Christina_2001/Daniels_Christina_2001_0041.tif',\n",
       " 'e:/Batch2_2.toQC-Color_2/Daniels_Christina_2001/Daniels_Christina_2001/Daniels_Christina_2001_0042.tif',\n",
       " 'e:/Batch2_2.toQC-Color_2/Daniels_Christina_2001/Daniels_Christina_2001/Daniels_Christina_2001_0043.tif',\n",
       " 'e:/Batch2_2.toQC-Color_2/Daniels_Christina_2001/Daniels_Christina_2001/Daniels_Christina_2001_0047.tif',\n",
       " 'e:/Batch2_2.toQC-Color_2/Daniels_Christina_2001/Daniels_Christina_2001/Daniels_Christina_2001_0052.tif',\n",
       " 'e:/Batch2_2.toQC-Color_2/Daniels_Christina_2001/Daniels_Christina_2001/Daniels_Christina_2001_0053.tif',\n",
       " 'e:/Batch2_2.toQC-Color_2/Daniels_Christina_2001/Daniels_Christina_2001/Daniels_Christina_2001_0054.tif',\n",
       " 'e:/Batch2_2.toQC-Color_2/Daniels_Christina_2001/Daniels_Christina_2001/Daniels_Christina_2001_0055.tif',\n",
       " 'e:/Batch2_2.toQC-Color_2/Daniels_Christina_2001/Daniels_Christina_2001/Daniels_Christina_2001_0057.tif',\n",
       " 'e:/Batch2_2.toQC-Color_2/Daniels_Christina_2001/Daniels_Christina_2001/Daniels_Christina_2001_0058.tif',\n",
       " 'e:/Batch2_2.toQC-Color_2/Daniels_Christina_2001/Daniels_Christina_2001/Daniels_Christina_2001_0059.tif',\n",
       " 'e:/Batch2_2.toQC-Color_2/Daniels_Christina_2001/Daniels_Christina_2001/Daniels_Christina_2001_0060.tif',\n",
       " 'e:/Batch2_2.toQC-Color_2/Daniels_Christina_2001/Daniels_Christina_2001/Daniels_Christina_2001_0061.tif',\n",
       " 'e:/Batch2_2.toQC-Color_2/Daniels_Christina_2001/Daniels_Christina_2001/Daniels_Christina_2001_0062.tif',\n",
       " 'e:/Batch2_2.toQC-Color_2/Daniels_Christina_2001/Daniels_Christina_2001/Daniels_Christina_2001_0063.tif',\n",
       " 'e:/Batch2_2.toQC-Color_2/Daniels_Christina_2001/Daniels_Christina_2001/Daniels_Christina_2001_0064.tif',\n",
       " 'e:/Batch2_2.toQC-Color_2/Daniels_Christina_2001/Daniels_Christina_2001/Daniels_Christina_2001_0069.tif',\n",
       " 'e:/Batch2_2.toQC-Color_2/Daniels_Christina_2001/Daniels_Christina_2001/Daniels_Christina_2001_0070.tif',\n",
       " 'e:/Batch2_2.toQC-Color_2/Daniels_Christina_2001/Daniels_Christina_2001/Daniels_Christina_2001_0072.tif',\n",
       " 'e:/Batch2_2.toQC-Color_2/Daniels_Christina_2001/Daniels_Christina_2001/Daniels_Christina_2001_0073.tif',\n",
       " 'e:/Batch2_2.toQC-Color_2/Davis_Jeffrey_2009/Davis_Jeffrey_2009/Davis_Jeffrey_2009_0030.tif',\n",
       " 'e:/Batch2_2.toQC-Color_2/Davis_Jeffrey_2009/Davis_Jeffrey_2009/Davis_Jeffrey_2009_0031.tif',\n",
       " 'e:/Batch2_2.toQC-Color_2/Davis_Jeffrey_2009/Davis_Jeffrey_2009/Davis_Jeffrey_2009_0032.tif',\n",
       " 'e:/Batch2_2.toQC-Color_2/Davis_Jeffrey_2009/Davis_Jeffrey_2009/Davis_Jeffrey_2009_0038.tif',\n",
       " 'e:/Batch2_2.toQC-Color_2/Davis_Jeffrey_2009/Davis_Jeffrey_2009/Davis_Jeffrey_2009_0043.tif',\n",
       " 'e:/Batch2_2.toQC-Color_2/Davis_Jeffrey_2009/Davis_Jeffrey_2009/Davis_Jeffrey_2009_0044.tif',\n",
       " 'e:/Batch2_2.toQC-Color_2/Davis_Jeffrey_2009/Davis_Jeffrey_2009/Davis_Jeffrey_2009_0047.tif',\n",
       " 'e:/Batch2_2.toQC-Color_2/Davis_Jeffrey_2009/Davis_Jeffrey_2009/Davis_Jeffrey_2009_0049.tif',\n",
       " 'e:/Batch2_2.toQC-Color_2/Davis_Jeffrey_2009/Davis_Jeffrey_2009/Davis_Jeffrey_2009_0057.tif',\n",
       " 'e:/Batch2_2.toQC-Color_2/Davis_Jeffrey_2009/Davis_Jeffrey_2009/Davis_Jeffrey_2009_0059.tif',\n",
       " 'e:/Batch2_2.toQC-Color_2/Davis_Jeffrey_2009/Davis_Jeffrey_2009/Davis_Jeffrey_2009_0061.tif',\n",
       " 'e:/Batch2_2.toQC-Color_2/Davis_Jeffrey_2009/Davis_Jeffrey_2009/Davis_Jeffrey_2009_0063.tif',\n",
       " 'e:/Batch2_2.toQC-Color_2/Davis_Jeffrey_2009/Davis_Jeffrey_2009/Davis_Jeffrey_2009_0065.tif',\n",
       " 'e:/Batch2_2.toQC-Color_2/Davis_Jeffrey_2009/Davis_Jeffrey_2009/Davis_Jeffrey_2009_0067.tif',\n",
       " 'e:/Batch2_2.toQC-Color_2/Davis_Jeffrey_2009/Davis_Jeffrey_2009/Davis_Jeffrey_2009_0068.tif',\n",
       " 'e:/Batch2_2.toQC-Color_2/DeSimone_Ivy_2001/DeSimone_Ivy_2001/DeSimone_Ivy_2001_0012.tif',\n",
       " 'e:/Batch2_2.toQC-Color_2/DeSimone_Ivy_2001/DeSimone_Ivy_2001/DeSimone_Ivy_2001_0031.tif',\n",
       " 'e:/Batch2_2.toQC-Color_2/DeSimone_Ivy_2001/DeSimone_Ivy_2001/DeSimone_Ivy_2001_0032.tif',\n",
       " 'e:/Batch2_2.toQC-Color_2/Dean_Roy_2002/Dean_Roy_2002/Dean_Roy_2002_0035.tif',\n",
       " 'e:/Batch2_2.toQC-Color_2/Denena_Melissa_2002/Denena_Melissa_2002/Denena_Melissa_2002_0022.tif',\n",
       " 'e:/Batch2_2.toQC-Color_2/Denena_Melissa_2002/Denena_Melissa_2002/Denena_Melissa_2002_0023.tif',\n",
       " 'e:/Batch2_2.toQC-Color_2/Denena_Melissa_2002/Denena_Melissa_2002/Denena_Melissa_2002_0034.tif',\n",
       " 'e:/Batch2_2.toQC-Color_2/Denena_Melissa_2002/Denena_Melissa_2002/Denena_Melissa_2002_0035.tif',\n",
       " 'e:/Batch2_2.toQC-Color_2/Denena_Melissa_2002/Denena_Melissa_2002/Denena_Melissa_2002_0036.tif',\n",
       " 'e:/Batch2_2.toQC-Color_2/Denena_Melissa_2002/Denena_Melissa_2002/Denena_Melissa_2002_0037.tif',\n",
       " 'e:/Batch2_2.toQC-Color_2/Denena_Melissa_2002/Denena_Melissa_2002/Denena_Melissa_2002_0038.tif',\n",
       " 'e:/Batch2_2.toQC-Color_2/Denena_Melissa_2002/Denena_Melissa_2002/Denena_Melissa_2002_0039.tif',\n",
       " 'e:/Batch2_2.toQC-Color_2/Denena_Melissa_2002/Denena_Melissa_2002/Denena_Melissa_2002_0040.tif',\n",
       " 'e:/Batch2_2.toQC-Color_2/Denena_Melissa_2002/Denena_Melissa_2002/Denena_Melissa_2002_0041.tif',\n",
       " 'e:/Batch2_2.toQC-Color_2/Denena_Melissa_2002/Denena_Melissa_2002/Denena_Melissa_2002_0048.tif',\n",
       " 'e:/Batch2_2.toQC-Color_2/Denena_Melissa_2002/Denena_Melissa_2002/Denena_Melissa_2002_0049.tif',\n",
       " 'e:/Batch2_2.toQC-Color_2/Dennis_Kristine_2003/Dennis_Kristine_2003/Dennis_Kristine_2003_0046.tif',\n",
       " 'e:/Batch2_2.toQC-Color_2/Dennis_Kristine_2003/Dennis_Kristine_2003/Dennis_Kristine_2003_0047.tif',\n",
       " 'e:/Batch2_2.toQC-Color_2/DiMichele_Daniel_2010/DiMichele_Daniel_2010/DiMichele_Daniel_2010_0025.tif',\n",
       " 'e:/Batch2_2.toQC-Color_2/DiMichele_Daniel_2010/DiMichele_Daniel_2010/DiMichele_Daniel_2010_0026.tif',\n",
       " 'e:/Batch2_2.toQC-Color_2/Dickerson_Brian_2010/Dickerson_Brian_2010/Dickerson_Brian_2010_0016.tif',\n",
       " 'e:/Batch2_2.toQC-Color_2/Dickerson_Brian_2010/Dickerson_Brian_2010/Dickerson_Brian_2010_0022.tif',\n",
       " 'e:/Batch2_2.toQC-Color_2/Dickerson_Brian_2010/Dickerson_Brian_2010/Dickerson_Brian_2010_0023.tif',\n",
       " 'e:/Batch2_2.toQC-Color_2/Dickerson_Brian_2010/Dickerson_Brian_2010/Dickerson_Brian_2010_0024.tif',\n",
       " 'e:/Batch2_2.toQC-Color_2/Dickerson_Brian_2010/Dickerson_Brian_2010/Dickerson_Brian_2010_0043.tif',\n",
       " 'e:/Batch2_2.toQC-Color_2/Dickerson_Brian_2010/Dickerson_Brian_2010/Dickerson_Brian_2010_0044.tif',\n",
       " 'e:/Batch2_2.toQC-Color_2/Dickerson_Brian_2010/Dickerson_Brian_2010/Dickerson_Brian_2010_0045.tif',\n",
       " 'e:/Batch2_2.toQC-Color_2/Dickerson_Brian_2010/Dickerson_Brian_2010/Dickerson_Brian_2010_0046.tif',\n",
       " 'e:/Batch2_2.toQC-Color_2/Dickerson_Brian_2010/Dickerson_Brian_2010/Dickerson_Brian_2010_0047.tif',\n",
       " 'e:/Batch2_2.toQC-Color_2/Dickerson_Brian_2010/Dickerson_Brian_2010/Dickerson_Brian_2010_0048.tif',\n",
       " 'e:/Batch2_2.toQC-Color_2/Dickerson_Brian_2010/Dickerson_Brian_2010/Dickerson_Brian_2010_0049.tif',\n",
       " 'e:/Batch2_2.toQC-Color_2/Dickerson_Brian_2010/Dickerson_Brian_2010/Dickerson_Brian_2010_0050.tif',\n",
       " 'e:/Batch2_2.toQC-Color_2/Dickerson_Brian_2010/Dickerson_Brian_2010/Dickerson_Brian_2010_0051.tif',\n",
       " 'e:/Batch2_2.toQC-Color_2/Dickerson_Brian_2010/Dickerson_Brian_2010/Dickerson_Brian_2010_0052.tif',\n",
       " 'e:/Batch2_2.toQC-Color_2/Dickerson_Brian_2010/Dickerson_Brian_2010/Dickerson_Brian_2010_0053.tif',\n",
       " 'e:/Batch2_2.toQC-Color_2/Dickerson_Brian_2010/Dickerson_Brian_2010/Dickerson_Brian_2010_0054.tif',\n",
       " 'e:/Batch2_2.toQC-Color_2/Dickerson_Brian_2010/Dickerson_Brian_2010/Dickerson_Brian_2010_0055.tif',\n",
       " 'e:/Batch2_2.toQC-Color_2/Dickerson_Brian_2010/Dickerson_Brian_2010/Dickerson_Brian_2010_0056.tif',\n",
       " 'e:/Batch2_2.toQC-Color_2/Dickerson_Brian_2010/Dickerson_Brian_2010/Dickerson_Brian_2010_0057.tif',\n",
       " 'e:/Batch2_2.toQC-Color_2/Dickerson_Brian_2010/Dickerson_Brian_2010/Dickerson_Brian_2010_0058.tif',\n",
       " 'e:/Batch2_2.toQC-Color_2/Dickerson_Brian_2010/Dickerson_Brian_2010/Dickerson_Brian_2010_0059.tif',\n",
       " 'e:/Batch2_2.toQC-Color_2/Dickerson_Brian_2010/Dickerson_Brian_2010/Dickerson_Brian_2010_0060.tif',\n",
       " 'e:/Batch2_2.toQC-Color_2/Dickerson_Brian_2010/Dickerson_Brian_2010/Dickerson_Brian_2010_0061.tif',\n",
       " 'e:/Batch2_2.toQC-Color_2/Dickerson_Brian_2010/Dickerson_Brian_2010/Dickerson_Brian_2010_0062.tif',\n",
       " 'e:/Batch2_2.toQC-Color_2/Dickerson_Brian_2010/Dickerson_Brian_2010/Dickerson_Brian_2010_0063.tif',\n",
       " 'e:/Batch2_2.toQC-Color_2/Dickerson_Brian_2010/Dickerson_Brian_2010/Dickerson_Brian_2010_0064.tif',\n",
       " 'e:/Batch2_2.toQC-Color_2/Dickerson_Brian_2010/Dickerson_Brian_2010/Dickerson_Brian_2010_0065.tif',\n",
       " 'e:/Batch2_2.toQC-Color_2/Dickerson_Brian_2010/Dickerson_Brian_2010/Dickerson_Brian_2010_0066.tif',\n",
       " 'e:/Batch2_2.toQC-Color_2/Dickerson_Brian_2010/Dickerson_Brian_2010/Dickerson_Brian_2010_0067.tif',\n",
       " 'e:/Batch2_2.toQC-Color_2/Dickerson_Brian_2010/Dickerson_Brian_2010/Dickerson_Brian_2010_0068.tif',\n",
       " 'e:/Batch2_2.toQC-Color_2/Dickerson_Brian_2010/Dickerson_Brian_2010/Dickerson_Brian_2010_0069.tif',\n",
       " 'e:/Batch2_2.toQC-Color_2/Dickerson_Brian_2010/Dickerson_Brian_2010/Dickerson_Brian_2010_0070.tif',\n",
       " 'e:/Batch2_2.toQC-Color_2/Dickerson_Brian_2010/Dickerson_Brian_2010/Dickerson_Brian_2010_0071.tif',\n",
       " 'e:/Batch2_2.toQC-Color_2/Dickerson_Brian_2010/Dickerson_Brian_2010/Dickerson_Brian_2010_0072.tif',\n",
       " 'e:/Batch2_2.toQC-Color_2/Dickerson_Brian_2010/Dickerson_Brian_2010/Dickerson_Brian_2010_0073.tif',\n",
       " 'e:/Batch2_2.toQC-Color_2/Dickerson_Brian_2010/Dickerson_Brian_2010/Dickerson_Brian_2010_0074.tif',\n",
       " 'e:/Batch2_2.toQC-Color_2/Dickerson_Brian_2010/Dickerson_Brian_2010/Dickerson_Brian_2010_0075.tif',\n",
       " 'e:/Batch2_2.toQC-Color_2/Dickerson_Brian_2010/Dickerson_Brian_2010/Dickerson_Brian_2010_0076.tif',\n",
       " 'e:/Batch2_2.toQC-Color_2/Dickerson_Brian_2010/Dickerson_Brian_2010/Dickerson_Brian_2010_0077.tif',\n",
       " 'e:/Batch2_2.toQC-Color_2/Dickerson_Brian_2010/Dickerson_Brian_2010/Dickerson_Brian_2010_0078.tif',\n",
       " 'e:/Batch2_2.toQC-Color_2/Dickerson_Candice_2008/Dickerson_Candice_2008/Dickerson_Candice_2008_0011.tif',\n",
       " 'e:/Batch2_2.toQC-Color_2/Dickerson_Candice_2008/Dickerson_Candice_2008/Dickerson_Candice_2008_0016.tif',\n",
       " 'e:/Batch2_2.toQC-Color_2/Dickerson_Candice_2008/Dickerson_Candice_2008/Dickerson_Candice_2008_0017.tif',\n",
       " 'e:/Batch2_2.toQC-Color_2/Dickerson_Candice_2008/Dickerson_Candice_2008/Dickerson_Candice_2008_0034.tif',\n",
       " 'e:/Batch2_2.toQC-Color_2/Dickerson_Candice_2008/Dickerson_Candice_2008/Dickerson_Candice_2008_0080.tif',\n",
       " 'e:/Batch2_2.toQC-Color_2/Dickerson_Candice_2008/Dickerson_Candice_2008/Dickerson_Candice_2008_0081.tif',\n",
       " 'e:/Batch2_2.toQC-Color_2/Dickerson_Candice_2008/Dickerson_Candice_2008/Dickerson_Candice_2008_0082.tif',\n",
       " 'e:/Batch2_2.toQC-Color_2/Dickerson_Candice_2008/Dickerson_Candice_2008/Dickerson_Candice_2008_0083.tif',\n",
       " 'e:/Batch2_2.toQC-Color_2/Dickerson_Candice_2008/Dickerson_Candice_2008/Dickerson_Candice_2008_0097.tif',\n",
       " 'e:/Batch2_2.toQC-Color_2/Dickerson_Candice_2008/Dickerson_Candice_2008/Dickerson_Candice_2008_0100.tif',\n",
       " 'e:/Batch2_2.toQC-Color_2/Dickerson_Candice_2008/Dickerson_Candice_2008/Dickerson_Candice_2008_0101.tif',\n",
       " 'e:/Batch2_2.toQC-Color_2/Dixson_Jamie_2001/Dixson_Jamie_2001/Dixson_Jamie_2001_0066.tif',\n",
       " 'e:/Batch2_2.toQC-Color_2/Dodson_Darren_2001/Dodson_Darren_2001/Dodson_Darren_2001_0021.tif',\n",
       " 'e:/Batch2_2.toQC-Color_2/Dodson_Darren_2001/Dodson_Darren_2001/Dodson_Darren_2001_0022.tif',\n",
       " 'e:/Batch2_2.toQC-Color_2/Dodson_Darren_2001/Dodson_Darren_2001/Dodson_Darren_2001_0023.tif']"
      ]
     },
     "execution_count": 6,
     "metadata": {},
     "output_type": "execute_result"
    }
   ],
   "source": [
    "show_color_list"
   ]
  },
  {
   "cell_type": "code",
   "execution_count": 8,
   "metadata": {
    "scrolled": true
   },
   "outputs": [
    {
     "data": {
      "text/plain": [
       "4362"
      ]
     },
     "execution_count": 8,
     "metadata": {},
     "output_type": "execute_result"
    }
   ],
   "source": [
    "3651+257+454"
   ]
  },
  {
   "cell_type": "code",
   "execution_count": 9,
   "metadata": {},
   "outputs": [
    {
     "data": {
      "text/plain": [
       "711"
      ]
     },
     "execution_count": 9,
     "metadata": {},
     "output_type": "execute_result"
    }
   ],
   "source": [
    "257+454"
   ]
  },
  {
   "cell_type": "code",
   "execution_count": 49,
   "metadata": {
    "code_folding": []
   },
   "outputs": [],
   "source": [
    "names_list = []\n",
    "\n",
    "for filefilename in filefilename_list:\n",
    "    if filefilename not in names_list:\n",
    "        names_list.append(filefilename)\n",
    "    else:\n",
    "        print(filefilename)"
   ]
  },
  {
   "cell_type": "code",
   "execution_count": 50,
   "metadata": {},
   "outputs": [
    {
     "data": {
      "text/plain": [
       "[]"
      ]
     },
     "execution_count": 50,
     "metadata": {},
     "output_type": "execute_result"
    }
   ],
   "source": [
    "names_list"
   ]
  },
  {
   "cell_type": "markdown",
   "metadata": {},
   "source": [
    "## ------- Math for quickly checking numbers -------"
   ]
  },
  {
   "cell_type": "code",
   "execution_count": 6,
   "metadata": {
    "code_folding": []
   },
   "outputs": [
    {
     "data": {
      "text/plain": [
       "751"
      ]
     },
     "execution_count": 6,
     "metadata": {},
     "output_type": "execute_result"
    }
   ],
   "source": [
    "# first three are checking bit depth\n",
    "# mismatch is in unique names, several directories have incorrect naming\n",
    "# mismatch here, FileNames lists 4593, Unamed:0 is 4622, 4622 would be accurate.  Potential unnamed files?\n",
    "4494-3743"
   ]
  },
  {
   "cell_type": "code",
   "execution_count": 20,
   "metadata": {},
   "outputs": [
    {
     "data": {
      "text/plain": [
       "751"
      ]
     },
     "execution_count": 20,
     "metadata": {},
     "output_type": "execute_result"
    }
   ],
   "source": [
    "# color + gray\n",
    "291 + 460"
   ]
  },
  {
   "cell_type": "code",
   "execution_count": 19,
   "metadata": {},
   "outputs": [
    {
     "data": {
      "text/plain": [
       "4494"
      ]
     },
     "execution_count": 19,
     "metadata": {},
     "output_type": "execute_result"
    }
   ],
   "source": [
    "# compression check\n",
    "847 + 3647"
   ]
  },
  {
   "cell_type": "code",
   "execution_count": 18,
   "metadata": {},
   "outputs": [
    {
     "data": {
      "text/plain": [
       "96"
      ]
     },
     "execution_count": 18,
     "metadata": {},
     "output_type": "execute_result"
    }
   ],
   "source": [
    "# how many bitonal need group 4 compression\n",
    "847 - 751"
   ]
  },
  {
   "cell_type": "markdown",
   "metadata": {},
   "source": [
    "## ------- Horizontal Page Rotation Check -------"
   ]
  },
  {
   "cell_type": "code",
   "execution_count": 5,
   "metadata": {},
   "outputs": [],
   "source": [
    "width_4400_df = value_widget.result"
   ]
  },
  {
   "cell_type": "markdown",
   "metadata": {},
   "source": [
    "### ask Jeremy why this works tomorrow 6/19/18"
   ]
  },
  {
   "cell_type": "code",
   "execution_count": 9,
   "metadata": {},
   "outputs": [],
   "source": [
    "height_3400_df = value_widget.result"
   ]
  },
  {
   "cell_type": "code",
   "execution_count": 10,
   "metadata": {},
   "outputs": [
    {
     "ename": "NameError",
     "evalue": "name 'width_3400_df' is not defined",
     "output_type": "error",
     "traceback": [
      "\u001b[1;31m---------------------------------------------------------------------------\u001b[0m",
      "\u001b[1;31mNameError\u001b[0m                                 Traceback (most recent call last)",
      "\u001b[1;32m<ipython-input-10-0f0bb5b142e4>\u001b[0m in \u001b[0;36m<module>\u001b[1;34m()\u001b[0m\n\u001b[0;32m      1\u001b[0m \u001b[1;31m# https://stackoverflow.com/questions/26921943/pandas-intersection-of-two-data-frames-based-on-column-entries/26921975\u001b[0m\u001b[1;33m\u001b[0m\u001b[1;33m\u001b[0m\u001b[0m\n\u001b[1;32m----> 2\u001b[1;33m \u001b[0mimage_list\u001b[0m \u001b[1;33m=\u001b[0m \u001b[0mpd\u001b[0m\u001b[1;33m.\u001b[0m\u001b[0mmerge\u001b[0m\u001b[1;33m(\u001b[0m\u001b[0mwidth_3400_df\u001b[0m\u001b[1;33m,\u001b[0m \u001b[0mheight_4400_df\u001b[0m\u001b[1;33m,\u001b[0m \u001b[0mhow\u001b[0m\u001b[1;33m=\u001b[0m\u001b[1;34m'inner'\u001b[0m\u001b[1;33m,\u001b[0m \u001b[0mon\u001b[0m\u001b[1;33m=\u001b[0m\u001b[1;33m[\u001b[0m\u001b[1;34m'SourceFile'\u001b[0m\u001b[1;33m]\u001b[0m\u001b[1;33m)\u001b[0m\u001b[1;33m\u001b[0m\u001b[0m\n\u001b[0m",
      "\u001b[1;31mNameError\u001b[0m: name 'width_3400_df' is not defined"
     ]
    }
   ],
   "source": [
    "# https://stackoverflow.com/questions/26921943/pandas-intersection-of-two-data-frames-based-on-column-entries/26921975\n",
    "image_list = pd.merge(width_3400_df, height_4400_df, how='inner', on=['SourceFile'])"
   ]
  },
  {
   "cell_type": "code",
   "execution_count": null,
   "metadata": {},
   "outputs": [],
   "source": [
    "if len(image_list) == len(width_4400_df) and len(image_list) == len(height_3400_df):\n",
    "    print('All images accounted for')"
   ]
  },
  {
   "cell_type": "code",
   "execution_count": 11,
   "metadata": {},
   "outputs": [
    {
     "data": {
      "text/plain": [
       "32"
      ]
     },
     "execution_count": 11,
     "metadata": {},
     "output_type": "execute_result"
    }
   ],
   "source": [
    "len(height_3400_df)"
   ]
  },
  {
   "cell_type": "code",
   "execution_count": null,
   "metadata": {},
   "outputs": [],
   "source": [
    "height_5100_df = value_widget.result"
   ]
  },
  {
   "cell_type": "code",
   "execution_count": 12,
   "metadata": {
    "code_folding": []
   },
   "outputs": [
    {
     "name": "stdout",
     "output_type": "stream",
     "text": [
      "e:/Batch2_2.toQC-Color_2/Chhopel_G_2003/Chhopel_G_2003/Chhopel_G_2003_0057.tif\n",
      "e:/Batch2_2.toQC-Color_2/Chhopel_G_2003/Chhopel_G_2003/Chhopel_G_2003_0058.tif\n",
      "e:/Batch2_2.toQC-Color_2/Coder_Shelby_2012/Coder_Shelby_2012/Coder_Shelby_2012_0125.tif\n",
      "e:/Batch2_2.toQC-Color_2/Coder_Shelby_2012/Coder_Shelby_2012/Coder_Shelby_2012_0130.tif\n",
      "e:/Batch2_2.toQC-Color_2/Coder_Shelby_2012/Coder_Shelby_2012/Coder_Shelby_2012_0134.tif\n",
      "e:/Batch2_2.toQC-Color_2/Coder_Shelby_2012/Coder_Shelby_2012/Coder_Shelby_2012_0135.tif\n",
      "e:/Batch2_2.toQC-Color_2/Coder_Shelby_2012/Coder_Shelby_2012/Coder_Shelby_2012_0138.tif\n",
      "e:/Batch2_2.toQC-Color_2/Coder_Shelby_2012/Coder_Shelby_2012/Coder_Shelby_2012_0140.tif\n",
      "e:/Batch2_2.toQC-Color_2/Coder_Shelby_2012/Coder_Shelby_2012/Coder_Shelby_2012_0141.tif\n",
      "e:/Batch2_2.toQC-Color_2/Coder_Shelby_2012/Coder_Shelby_2012/Coder_Shelby_2012_0142.tif\n",
      "e:/Batch2_2.toQC-Color_2/Coder_Shelby_2012/Coder_Shelby_2012/Coder_Shelby_2012_0147.tif\n",
      "e:/Batch2_2.toQC-Color_2/Colvin_Corrie_2007/Colvin_Corrie_2007/Colvin_Corrie_2007_0042.tif\n",
      "e:/Batch2_2.toQC-Color_2/Copeland_Chad_2005/Copeland_Chad_2005/Copeland_Chad_2005_0044.tif\n",
      "e:/Batch2_2.toQC-Color_2/Copeland_Chad_2005/Copeland_Chad_2005/Copeland_Chad_2005_0050.tif\n",
      "e:/Batch2_2.toQC-Color_2/Crittenden_Elizabeth_2008/Crittenden_Elizabeth_2008/Crittenden_Elizabeth_2008_0027.tif\n",
      "e:/Batch2_2.toQC-Color_2/Crittenden_Elizabeth_2008/Crittenden_Elizabeth_2008/Crittenden_Elizabeth_2008_0028.tif\n",
      "e:/Batch2_2.toQC-Color_2/Curtis_Stephen_2012/Curtis_Stephen_2012/Curtis_Stephen_2012_0039.tif\n",
      "e:/Batch2_2.toQC-Color_2/Daniels_Christina_2001/Daniels_Christina_2001/Daniels_Christina_2001_0030.tif\n",
      "e:/Batch2_2.toQC-Color_2/Daniels_Christina_2001/Daniels_Christina_2001/Daniels_Christina_2001_0040.tif\n",
      "e:/Batch2_2.toQC-Color_2/Dennis_Kristine_2003/Dennis_Kristine_2003/Dennis_Kristine_2003_0046.tif\n",
      "e:/Batch2_2.toQC-Color_2/Dennis_Kristine_2003/Dennis_Kristine_2003/Dennis_Kristine_2003_0047.tif\n",
      "e:/Batch2_2.toQC-Color_2/Dennis_Kristine_2003/Dennis_Kristine_2003/Dennis_Kristine_2003_0048.tif\n",
      "e:/Batch2_2.toQC-Color_2/Dennis_Kristine_2003/Dennis_Kristine_2003/Dennis_Kristine_2003_0049.tif\n",
      "e:/Batch2_2.toQC-Color_2/Dennis_Kristine_2003/Dennis_Kristine_2003/Dennis_Kristine_2003_0050.tif\n",
      "e:/Batch2_2.toQC-Color_2/Dennis_Kristine_2003/Dennis_Kristine_2003/Dennis_Kristine_2003_0051.tif\n",
      "e:/Batch2_2.toQC-Color_2/Dennis_Kristine_2003/Dennis_Kristine_2003/Dennis_Kristine_2003_0052.tif\n",
      "e:/Batch2_2.toQC-Color_2/Dennis_Kristine_2003/Dennis_Kristine_2003/Dennis_Kristine_2003_0053.tif\n",
      "e:/Batch2_2.toQC-Color_2/Dennis_Kristine_2003/Dennis_Kristine_2003/Dennis_Kristine_2003_0054.tif\n",
      "e:/Batch2_2.toQC-Color_2/Dennis_Kristine_2003/Dennis_Kristine_2003/Dennis_Kristine_2003_0055.tif\n",
      "e:/Batch2_2.toQC-Color_2/Dixson_Jamie_2001/Dixson_Jamie_2001/Dixson_Jamie_2001_0022.tif\n",
      "e:/Batch2_2.toQC-Color_2/Dixson_Jamie_2001/Dixson_Jamie_2001/Dixson_Jamie_2001_0023.tif\n",
      "e:/Batch2_2.toQC-Color_2/Dixson_Jamie_2001/Dixson_Jamie_2001/Dixson_Jamie_2001_0024.tif\n"
     ]
    }
   ],
   "source": [
    "for image_path in height_3400_df['SourceFile']:\n",
    "    path = Path(image_path)\n",
    "    print(image_path)"
   ]
  },
  {
   "cell_type": "markdown",
   "metadata": {},
   "source": [
    "###########################################################"
   ]
  },
  {
   "cell_type": "markdown",
   "metadata": {},
   "source": [
    "## ------- Dataframes -------\n",
    "\n",
    " The dataframes below separate bitonal, grayscale and color so they can be checked individually as needed.\n",
    "\n",
    "To find and replace a dataframe below, select the cell but don't enter into it and click F to activate find and replace.  So ppi_400_color_df can be changed quickly to ppi_400_gray_df"
   ]
  },
  {
   "cell_type": "code",
   "execution_count": 7,
   "metadata": {},
   "outputs": [],
   "source": [
    "# sorted list of SourceFile paths\n",
    "file_list = sorted(list(images_df[images_df['EXIF:XResolution'] == 600]['SourceFile']))\n",
    "\n",
    "# dataframe where XResolution == 600\n",
    "ppi_600_df = images_df[images_df['EXIF:XResolution'] == 600]"
   ]
  },
  {
   "cell_type": "code",
   "execution_count": 8,
   "metadata": {},
   "outputs": [],
   "source": [
    "# dataframe where XResolution == 400\n",
    "ppi_400_df = images_df[images_df['EXIF:XResolution'] == 400]\n",
    "                       \n",
    "# dataframe where bits per sample is color\n",
    "ppi_400_color_df = ppi_400_df[ppi_400_df['EXIF:BitsPerSample'] == '8 8 8']"
   ]
  },
  {
   "cell_type": "code",
   "execution_count": 9,
   "metadata": {},
   "outputs": [],
   "source": [
    "# dataframe where XResolution == 400\n",
    "ppi_400_df = images_df[images_df['EXIF:XResolution'] == 400]\n",
    "                       \n",
    "# dataframe where bits per sample is gray\n",
    "ppi_400_gray_df = ppi_400_df[ppi_400_df['EXIF:BitsPerSample'] == '8']"
   ]
  },
  {
   "cell_type": "code",
   "execution_count": 10,
   "metadata": {},
   "outputs": [],
   "source": [
    "# this listmust be called before the dataframe below in order to add multiple selections, otherwise will erase previous additions\n",
    "# use this to fix height and width\n",
    "images_to_fix_list = []"
   ]
  },
  {
   "cell_type": "code",
   "execution_count": 11,
   "metadata": {},
   "outputs": [],
   "source": [
    "# dataframe where XResolution == 400\n",
    "gray_gamma_df = images_df[images_df['XMP:ICCProfileName'] == 'Gray Gamma 2.2']"
   ]
  },
  {
   "cell_type": "code",
   "execution_count": 24,
   "metadata": {
    "code_folding": []
   },
   "outputs": [
    {
     "data": {
      "application/vnd.jupyter.widget-view+json": {
       "model_id": "385ce3436b8b46058cee3799d8908aac",
       "version_major": 2,
       "version_minor": 0
      },
      "text/plain": [
       "interactive(children=(Dropdown(description='column', options=('Unnamed: 0', 'Composite:ImageSize', 'Composite:…"
      ]
     },
     "metadata": {},
     "output_type": "display_data"
    },
    {
     "data": {
      "application/vnd.jupyter.widget-view+json": {
       "model_id": "2e3b1b92f3d347feadf98bdfbb61648c",
       "version_major": 2,
       "version_minor": 0
      },
      "text/plain": [
       "interactive(children=(Dropdown(description='value', options=('SELECT A VALUE BELOW', 288, 289, 290, 291, 292, …"
      ]
     },
     "metadata": {},
     "output_type": "display_data"
    }
   ],
   "source": [
    "# === ppi_400_color_df DATAFRAME DROPDOWNS===\n",
    "df_columns = list(ppi_400_color_df.columns.values)\n",
    "\n",
    "def print_column(value, column):\n",
    "    value = str(value)\n",
    "    column = str(column)\n",
    "    if value == 'SELECT A VALUE BELOW':\n",
    "        pass\n",
    "    else:\n",
    "        print(f\"# of images in {column_widget.kwargs['column']} == {value_widget.kwargs['value']}\")\n",
    "        print(len(ppi_400_color_df[ppi_400_color_df[column_widget.kwargs['column']]==value_widget.kwargs['value']]))\n",
    "        new_dataframe = ppi_400_color_df[ppi_400_color_df[column_widget.kwargs['column']]==value_widget.kwargs['value']]\n",
    "        return new_dataframe    \n",
    "    \n",
    "    \n",
    "def select_column(column):\n",
    "    column_values_list = []\n",
    "    if column != 'SELECT A COLUMN':\n",
    "        \n",
    "        for column_value in ppi_400_color_df[column].unique():\n",
    "            # check if it's a string\n",
    "            if isinstance(column_value, str):\n",
    "                # add to values list\n",
    "                column_values_list.append(column_value)\n",
    "            # skip it if it's a nan value\n",
    "            # nan, or null, from Pandas breaks in the widgets as it's not\n",
    "            # actually selectable because there's nothing there\n",
    "            # Can rule it out by testing with the function math.isnan(x)\n",
    "            elif isnan(column_value):\n",
    "                pass\n",
    "            # add whatever else there is\n",
    "            else:\n",
    "                column_values_list.append(column_value)\n",
    "    # sort the list\n",
    "    # print(column_values_list)\n",
    "    print(f'# of Unique Values: {len(column_values_list)}')\n",
    "    try:\n",
    "        column_values_list = sorted(column_values_list)\n",
    "    except TypeError:\n",
    "        print('')\n",
    "        print('DID NOT SORT VALUES -- MIXTURE OF STRING AND INTEGER IN COLUMN VALUES')\n",
    "    column_values_list.insert(0, 'SELECT A VALUE BELOW')\n",
    "    select2.options = column_values_list   \n",
    "\n",
    "    \n",
    "select1 = widgets.Dropdown(options=df_columns)\n",
    "initial_value = 'SourceFile'\n",
    "select2 = widgets.Dropdown(options=ppi_400_color_df[initial_value])\n",
    "column_widget = widgets.interactive(select_column, column=select1)\n",
    "value_widget = widgets.interactive(print_column, value=select2, column=select1)\n",
    "display(column_widget)\n",
    "display(value_widget)\n",
    "\n",
    "# to access the column, use : column_widget.kwargs['column']\n",
    "# to access the value, use: value_widget.kwargs['value']\n",
    "# to access the dataframe where column == value: value_widget.result\n",
    "# === DATAFRAME DROPDOWNS===\n"
   ]
  },
  {
   "cell_type": "markdown",
   "metadata": {},
   "source": [
    "## ------- A List of Lists -------\n",
    "\n",
    "Things I've used before and may want to again, plus a template"
   ]
  },
  {
   "cell_type": "code",
   "execution_count": 8,
   "metadata": {},
   "outputs": [],
   "source": [
    "group_5_compression = []"
   ]
  },
  {
   "cell_type": "code",
   "execution_count": 5,
   "metadata": {},
   "outputs": [],
   "source": [
    "# Use this to find files with an ICC profile of Dot Gain 20%\n",
    "dot_gain_list = []"
   ]
  },
  {
   "cell_type": "code",
   "execution_count": null,
   "metadata": {},
   "outputs": [],
   "source": [
    "# Use this to find files that are 400 ppi and bitonal\n",
    "bitonal_400_list = []"
   ]
  },
  {
   "cell_type": "code",
   "execution_count": null,
   "metadata": {},
   "outputs": [],
   "source": [
    "# Use this to find files that should be group 4 compression\n",
    "uncompressed_bitonal_list = []"
   ]
  },
  {
   "cell_type": "code",
   "execution_count": 25,
   "metadata": {},
   "outputs": [],
   "source": [
    "# Use this to find files that are grayscale to manually check\n",
    "move_gray_list = []\n",
    "\n",
    "# Use this to find files that are color to manually check\n",
    "move_color_list = []"
   ]
  },
  {
   "cell_type": "code",
   "execution_count": 14,
   "metadata": {},
   "outputs": [
    {
     "data": {
      "text/plain": [
       "['e:/Batch2_2.toQC-Color_2/Chhopel_G_2003/Chhopel_G_2003/Chhopel_G_2003_0050.tif',\n",
       " 'e:/Batch2_2.toQC-Color_2/Chhopel_G_2003/Chhopel_G_2003/Chhopel_G_2003_0051.tif',\n",
       " 'e:/Batch2_2.toQC-Color_2/Chhopel_G_2003/Chhopel_G_2003/Chhopel_G_2003_0052.tif',\n",
       " 'e:/Batch2_2.toQC-Color_2/Chhopel_G_2003/Chhopel_G_2003/Chhopel_G_2003_0054.tif',\n",
       " 'e:/Batch2_2.toQC-Color_2/Chhopel_G_2003/Chhopel_G_2003/Chhopel_G_2003_0056.tif',\n",
       " 'e:/Batch2_2.toQC-Color_2/Chhopel_G_2003/Chhopel_G_2003/Chhopel_G_2003_0057.tif',\n",
       " 'e:/Batch2_2.toQC-Color_2/Chhopel_G_2003/Chhopel_G_2003/Chhopel_G_2003_0058.tif',\n",
       " 'e:/Batch2_2.toQC-Color_2/Chiroro_Dominic_2012/Chiroro_Dominic_2012/Chiroro_Dominic_2012_0016.tif',\n",
       " 'e:/Batch2_2.toQC-Color_2/Chiroro_Dominic_2012/Chiroro_Dominic_2012/Chiroro_Dominic_2012_0017.tif',\n",
       " 'e:/Batch2_2.toQC-Color_2/Chiroro_Dominic_2012/Chiroro_Dominic_2012/Chiroro_Dominic_2012_0019.tif',\n",
       " 'e:/Batch2_2.toQC-Color_2/Chiroro_Dominic_2012/Chiroro_Dominic_2012/Chiroro_Dominic_2012_0020.tif',\n",
       " 'e:/Batch2_2.toQC-Color_2/Chiroro_Dominic_2012/Chiroro_Dominic_2012/Chiroro_Dominic_2012_0021.tif',\n",
       " 'e:/Batch2_2.toQC-Color_2/Chiroro_Dominic_2012/Chiroro_Dominic_2012/Chiroro_Dominic_2012_0028.tif',\n",
       " 'e:/Batch2_2.toQC-Color_2/Christenson_Christopher_2004/Christenson_Christopher_2004/Christenson_Christopher_2004_0042.tif',\n",
       " 'e:/Batch2_2.toQC-Color_2/Christenson_Christopher_2004/Christenson_Christopher_2004/Christenson_Christopher_2004_0043.tif',\n",
       " 'e:/Batch2_2.toQC-Color_2/Christenson_Christopher_2004/Christenson_Christopher_2004/Christenson_Christopher_2004_0075.tif',\n",
       " 'e:/Batch2_2.toQC-Color_2/Christenson_Christopher_2004/Christenson_Christopher_2004/Christenson_Christopher_2004_0079.tif',\n",
       " 'e:/Batch2_2.toQC-Color_2/Christenson_Christopher_2004/Christenson_Christopher_2004/Christenson_Christopher_2004_0082.tif',\n",
       " 'e:/Batch2_2.toQC-Color_2/Christenson_Christopher_2004/Christenson_Christopher_2004/Christenson_Christopher_2004_0092.tif',\n",
       " 'e:/Batch2_2.toQC-Color_2/Christenson_Christopher_2004/Christenson_Christopher_2004/Christenson_Christopher_2004_0093.tif',\n",
       " 'e:/Batch2_2.toQC-Color_2/Christenson_Christopher_2004/Christenson_Christopher_2004/Christenson_Christopher_2004_0094.tif',\n",
       " 'e:/Batch2_2.toQC-Color_2/Christenson_Christopher_2004/Christenson_Christopher_2004/Christenson_Christopher_2004_0095.tif',\n",
       " 'e:/Batch2_2.toQC-Color_2/Christenson_Christopher_2004/Christenson_Christopher_2004/Christenson_Christopher_2004_0096.tif',\n",
       " 'e:/Batch2_2.toQC-Color_2/Christenson_Christopher_2004/Christenson_Christopher_2004/Christenson_Christopher_2004_0097.tif',\n",
       " 'e:/Batch2_2.toQC-Color_2/Christenson_Christopher_2004/Christenson_Christopher_2004/Christenson_Christopher_2004_0098.tif',\n",
       " 'e:/Batch2_2.toQC-Color_2/Christenson_Christopher_2004/Christenson_Christopher_2004/Christenson_Christopher_2004_0099.tif',\n",
       " 'e:/Batch2_2.toQC-Color_2/Christenson_Christopher_2004/Christenson_Christopher_2004/Christenson_Christopher_2004_0100.tif',\n",
       " 'e:/Batch2_2.toQC-Color_2/Christenson_Christopher_2004/Christenson_Christopher_2004/Christenson_Christopher_2004_0101.tif',\n",
       " 'e:/Batch2_2.toQC-Color_2/Christenson_Christopher_2004/Christenson_Christopher_2004/Christenson_Christopher_2004_0102.tif',\n",
       " 'e:/Batch2_2.toQC-Color_2/Christenson_Christopher_2004/Christenson_Christopher_2004/Christenson_Christopher_2004_0105.tif',\n",
       " 'e:/Batch2_2.toQC-Color_2/Christenson_Christopher_2004/Christenson_Christopher_2004/Christenson_Christopher_2004_0106.tif',\n",
       " 'e:/Batch2_2.toQC-Color_2/Christenson_Christopher_2004/Christenson_Christopher_2004/Christenson_Christopher_2004_0107.tif',\n",
       " 'e:/Batch2_2.toQC-Color_2/Christenson_Christopher_2004/Christenson_Christopher_2004/Christenson_Christopher_2004_0108.tif',\n",
       " 'e:/Batch2_2.toQC-Color_2/Christenson_Christopher_2004/Christenson_Christopher_2004/Christenson_Christopher_2004_0109.tif',\n",
       " 'e:/Batch2_2.toQC-Color_2/Christenson_Christopher_2004/Christenson_Christopher_2004/Christenson_Christopher_2004_0110.tif',\n",
       " 'e:/Batch2_2.toQC-Color_2/Christenson_Christopher_2004/Christenson_Christopher_2004/Christenson_Christopher_2004_0111.tif',\n",
       " 'e:/Batch2_2.toQC-Color_2/Christenson_Christopher_2004/Christenson_Christopher_2004/Christenson_Christopher_2004_0112.tif',\n",
       " 'e:/Batch2_2.toQC-Color_2/Christenson_Christopher_2004/Christenson_Christopher_2004/Christenson_Christopher_2004_0113.tif',\n",
       " 'e:/Batch2_2.toQC-Color_2/Christenson_Christopher_2004/Christenson_Christopher_2004/Christenson_Christopher_2004_0114.tif',\n",
       " 'e:/Batch2_2.toQC-Color_2/Christenson_Christopher_2004/Christenson_Christopher_2004/Christenson_Christopher_2004_0115.tif',\n",
       " 'e:/Batch2_2.toQC-Color_2/Christenson_Christopher_2004/Christenson_Christopher_2004/Christenson_Christopher_2004_0116.tif',\n",
       " 'e:/Batch2_2.toQC-Color_2/Christenson_Christopher_2004/Christenson_Christopher_2004/Christenson_Christopher_2004_0117.tif',\n",
       " 'e:/Batch2_2.toQC-Color_2/Christenson_Christopher_2004/Christenson_Christopher_2004/Christenson_Christopher_2004_0118.tif',\n",
       " 'e:/Batch2_2.toQC-Color_2/Christenson_Christopher_2004/Christenson_Christopher_2004/Christenson_Christopher_2004_0119.tif',\n",
       " 'e:/Batch2_2.toQC-Color_2/Christenson_Christopher_2004/Christenson_Christopher_2004/Christenson_Christopher_2004_0120.tif',\n",
       " 'e:/Batch2_2.toQC-Color_2/Christenson_Christopher_2004/Christenson_Christopher_2004/Christenson_Christopher_2004_0121.tif',\n",
       " 'e:/Batch2_2.toQC-Color_2/Christenson_Christopher_2004/Christenson_Christopher_2004/Christenson_Christopher_2004_0122.tif',\n",
       " 'e:/Batch2_2.toQC-Color_2/Christenson_Christopher_2004/Christenson_Christopher_2004/Christenson_Christopher_2004_0123.tif',\n",
       " 'e:/Batch2_2.toQC-Color_2/Christenson_Christopher_2004/Christenson_Christopher_2004/Christenson_Christopher_2004_0124.tif',\n",
       " 'e:/Batch2_2.toQC-Color_2/Christenson_Christopher_2004/Christenson_Christopher_2004/Christenson_Christopher_2004_0125.tif',\n",
       " 'e:/Batch2_2.toQC-Color_2/Christenson_Christopher_2004/Christenson_Christopher_2004/Christenson_Christopher_2004_0126.tif',\n",
       " 'e:/Batch2_2.toQC-Color_2/Christenson_Christopher_2004/Christenson_Christopher_2004/Christenson_Christopher_2004_0127.tif',\n",
       " 'e:/Batch2_2.toQC-Color_2/Christenson_Christopher_2004/Christenson_Christopher_2004/Christenson_Christopher_2004_0128.tif',\n",
       " 'e:/Batch2_2.toQC-Color_2/Cody_Melissa_2002/Cody_Melissa_2002/Cody_Melissa_2002_0055.tif',\n",
       " 'e:/Batch2_2.toQC-Color_2/Cody_Melissa_2002/Cody_Melissa_2002/Cody_Melissa_2002_0056.tif',\n",
       " 'e:/Batch2_2.toQC-Color_2/Cody_Melissa_2002/Cody_Melissa_2002/Cody_Melissa_2002_0057.tif',\n",
       " 'e:/Batch2_2.toQC-Color_2/Cody_Melissa_2002/Cody_Melissa_2002/Cody_Melissa_2002_0058.tif',\n",
       " 'e:/Batch2_2.toQC-Color_2/Cody_Melissa_2002/Cody_Melissa_2002/Cody_Melissa_2002_0059.tif',\n",
       " 'e:/Batch2_2.toQC-Color_2/Cody_Melissa_2002/Cody_Melissa_2002/Cody_Melissa_2002_0070.tif',\n",
       " 'e:/Batch2_2.toQC-Color_2/Cody_Melissa_2002/Cody_Melissa_2002/Cody_Melissa_2002_0071.tif',\n",
       " 'e:/Batch2_2.toQC-Color_2/Cody_Melissa_2002/Cody_Melissa_2002/Cody_Melissa_2002_0072.tif',\n",
       " 'e:/Batch2_2.toQC-Color_2/Cohen_Katrina_2008/Cohen_Katrina_2008/Cohen_Katrina_2008_0031.tif',\n",
       " 'e:/Batch2_2.toQC-Color_2/Cole_Dennis_2003/Cole_Dennis_2003/Cole_Dennis_2003_0167.tif',\n",
       " 'e:/Batch2_2.toQC-Color_2/Cole_Dennis_2003/Cole_Dennis_2003/Cole_Dennis_2003_0174.tif',\n",
       " 'e:/Batch2_2.toQC-Color_2/Cole_Dennis_2003/Cole_Dennis_2003/Cole_Dennis_2003_0186.tif',\n",
       " 'e:/Batch2_2.toQC-Color_2/Colvin_Corrie_2007/Colvin_Corrie_2007/Colvin_Corrie_2007_0035.tif',\n",
       " 'e:/Batch2_2.toQC-Color_2/Colvin_Corrie_2007/Colvin_Corrie_2007/Colvin_Corrie_2007_0042.tif',\n",
       " 'e:/Batch2_2.toQC-Color_2/Colvin_Corrie_2007/Colvin_Corrie_2007/Colvin_Corrie_2007_0043.tif',\n",
       " 'e:/Batch2_2.toQC-Color_2/Connell_Wesley_2009/Connell_Wesley_2009/Connell_Wesley_2009_0028.tif',\n",
       " 'e:/Batch2_2.toQC-Color_2/Connell_Wesley_2009/Connell_Wesley_2009/Connell_Wesley_2009_0043.tif',\n",
       " 'e:/Batch2_2.toQC-Color_2/Connell_Wesley_2009/Connell_Wesley_2009/Connell_Wesley_2009_0044.tif',\n",
       " 'e:/Batch2_2.toQC-Color_2/Connell_Wesley_2009/Connell_Wesley_2009/Connell_Wesley_2009_0045.tif',\n",
       " 'e:/Batch2_2.toQC-Color_2/Connell_Wesley_2009/Connell_Wesley_2009/Connell_Wesley_2009_0046.tif',\n",
       " 'e:/Batch2_2.toQC-Color_2/Connell_Wesley_2009/Connell_Wesley_2009/Connell_Wesley_2009_0047.tif',\n",
       " 'e:/Batch2_2.toQC-Color_2/Connell_Wesley_2009/Connell_Wesley_2009/Connell_Wesley_2009_0048.tif',\n",
       " 'e:/Batch2_2.toQC-Color_2/Connell_Wesley_2009/Connell_Wesley_2009/Connell_Wesley_2009_0049.tif',\n",
       " 'e:/Batch2_2.toQC-Color_2/Connell_Wesley_2009/Connell_Wesley_2009/Connell_Wesley_2009_0050.tif',\n",
       " 'e:/Batch2_2.toQC-Color_2/Connell_Wesley_2009/Connell_Wesley_2009/Connell_Wesley_2009_0051.tif',\n",
       " 'e:/Batch2_2.toQC-Color_2/Connell_Wesley_2009/Connell_Wesley_2009/Connell_Wesley_2009_0052.tif',\n",
       " 'e:/Batch2_2.toQC-Color_2/Connell_Wesley_2009/Connell_Wesley_2009/Connell_Wesley_2009_0053.tif',\n",
       " 'e:/Batch2_2.toQC-Color_2/Connell_Wesley_2009/Connell_Wesley_2009/Connell_Wesley_2009_0054.tif',\n",
       " 'e:/Batch2_2.toQC-Color_2/Connell_Wesley_2009/Connell_Wesley_2009/Connell_Wesley_2009_0055.tif',\n",
       " 'e:/Batch2_2.toQC-Color_2/Connell_Wesley_2009/Connell_Wesley_2009/Connell_Wesley_2009_0056.tif',\n",
       " 'e:/Batch2_2.toQC-Color_2/Connell_Wesley_2009/Connell_Wesley_2009/Connell_Wesley_2009_0057.tif',\n",
       " 'e:/Batch2_2.toQC-Color_2/Connell_Wesley_2009/Connell_Wesley_2009/Connell_Wesley_2009_0058.tif',\n",
       " 'e:/Batch2_2.toQC-Color_2/Connell_Wesley_2009/Connell_Wesley_2009/Connell_Wesley_2009_0059.tif',\n",
       " 'e:/Batch2_2.toQC-Color_2/Connell_Wesley_2009/Connell_Wesley_2009/Connell_Wesley_2009_0060.tif',\n",
       " 'e:/Batch2_2.toQC-Color_2/Connell_Wesley_2009/Connell_Wesley_2009/Connell_Wesley_2009_0063.tif',\n",
       " 'e:/Batch2_2.toQC-Color_2/Connolly_Michael_2007/Connolly_Michael_2007/Connolly_Michael_2007_0010.tif',\n",
       " 'e:/Batch2_2.toQC-Color_2/Connolly_Michael_2007/Connolly_Michael_2007/Connolly_Michael_2007_0015.tif',\n",
       " 'e:/Batch2_2.toQC-Color_2/Connolly_Michael_2007/Connolly_Michael_2007/Connolly_Michael_2007_0017.tif',\n",
       " 'e:/Batch2_2.toQC-Color_2/Connolly_Michael_2007/Connolly_Michael_2007/Connolly_Michael_2007_0022.tif',\n",
       " 'e:/Batch2_2.toQC-Color_2/Connolly_Michael_2007/Connolly_Michael_2007/Connolly_Michael_2007_0024.tif',\n",
       " 'e:/Batch2_2.toQC-Color_2/Connolly_Michael_2007/Connolly_Michael_2007/Connolly_Michael_2007_0026.tif',\n",
       " 'e:/Batch2_2.toQC-Color_2/Connolly_Michael_2007/Connolly_Michael_2007/Connolly_Michael_2007_0027.tif',\n",
       " 'e:/Batch2_2.toQC-Color_2/Connolly_Michael_2007/Connolly_Michael_2007/Connolly_Michael_2007_0029.tif',\n",
       " 'e:/Batch2_2.toQC-Color_2/Connolly_Michael_2007/Connolly_Michael_2007/Connolly_Michael_2007_0031.tif',\n",
       " 'e:/Batch2_2.toQC-Color_2/Connolly_Michael_2007/Connolly_Michael_2007/Connolly_Michael_2007_0044.tif',\n",
       " 'e:/Batch2_2.toQC-Color_2/Connolly_Michael_2007/Connolly_Michael_2007/Connolly_Michael_2007_0045.tif',\n",
       " 'e:/Batch2_2.toQC-Color_2/Connolly_Michael_2007/Connolly_Michael_2007/Connolly_Michael_2007_0049.tif',\n",
       " 'e:/Batch2_2.toQC-Color_2/Connolly_Michael_2007/Connolly_Michael_2007/Connolly_Michael_2007_0054.tif',\n",
       " 'e:/Batch2_2.toQC-Color_2/Connolly_Michael_2007/Connolly_Michael_2007/Connolly_Michael_2007_0057.tif',\n",
       " 'e:/Batch2_2.toQC-Color_2/Connolly_Michael_2007/Connolly_Michael_2007/Connolly_Michael_2007_0058.tif',\n",
       " 'e:/Batch2_2.toQC-Color_2/Connolly_Michael_2007/Connolly_Michael_2007/Connolly_Michael_2007_0064.tif',\n",
       " 'e:/Batch2_2.toQC-Color_2/Connolly_Michael_2007/Connolly_Michael_2007/Connolly_Michael_2007_0068.tif',\n",
       " 'e:/Batch2_2.toQC-Color_2/Connolly_Michael_2007/Connolly_Michael_2007/Connolly_Michael_2007_0069.tif',\n",
       " 'e:/Batch2_2.toQC-Color_2/Connolly_Michael_2007/Connolly_Michael_2007/Connolly_Michael_2007_0071.tif',\n",
       " 'e:/Batch2_2.toQC-Color_2/Connolly_Michael_2007/Connolly_Michael_2007/Connolly_Michael_2007_0073.tif',\n",
       " 'e:/Batch2_2.toQC-Color_2/Connolly_Michael_2007/Connolly_Michael_2007/Connolly_Michael_2007_0074.tif',\n",
       " 'e:/Batch2_2.toQC-Color_2/Connolly_Michael_2007/Connolly_Michael_2007/Connolly_Michael_2007_0078.tif',\n",
       " 'e:/Batch2_2.toQC-Color_2/Connolly_Michael_2007/Connolly_Michael_2007/Connolly_Michael_2007_0079.tif',\n",
       " 'e:/Batch2_2.toQC-Color_2/Connolly_Michael_2007/Connolly_Michael_2007/Connolly_Michael_2007_0082.tif',\n",
       " 'e:/Batch2_2.toQC-Color_2/Cooke_Maria_2012/Cooke_Maria_2012/Cooke_Maria_2012_0061.tif',\n",
       " 'e:/Batch2_2.toQC-Color_2/Cooke_Maria_2012/Cooke_Maria_2012/Cooke_Maria_2012_0062.tif',\n",
       " 'e:/Batch2_2.toQC-Color_2/Cooke_Maria_2012/Cooke_Maria_2012/Cooke_Maria_2012_0063.tif',\n",
       " 'e:/Batch2_2.toQC-Color_2/Cooke_Maria_2012/Cooke_Maria_2012/Cooke_Maria_2012_0064.tif',\n",
       " 'e:/Batch2_2.toQC-Color_2/Cooke_Maria_2012/Cooke_Maria_2012/Cooke_Maria_2012_0065.tif',\n",
       " 'e:/Batch2_2.toQC-Color_2/Cooke_Maria_2012/Cooke_Maria_2012/Cooke_Maria_2012_0066.tif',\n",
       " 'e:/Batch2_2.toQC-Color_2/Cooke_Maria_2012/Cooke_Maria_2012/Cooke_Maria_2012_0067.tif',\n",
       " 'e:/Batch2_2.toQC-Color_2/Cooke_Maria_2012/Cooke_Maria_2012/Cooke_Maria_2012_0068.tif',\n",
       " 'e:/Batch2_2.toQC-Color_2/Cooper_Beth_2005/Cooper_Beth_2005/Cooper_Beth_2005_0047.tif',\n",
       " 'e:/Batch2_2.toQC-Color_2/Cotten_Reese_2010/Cotten_Reese_2010/Cotten_Reese_2010_0011.tif',\n",
       " 'e:/Batch2_2.toQC-Color_2/Cotten_Reese_2010/Cotten_Reese_2010/Cotten_Reese_2010_0036.tif',\n",
       " 'e:/Batch2_2.toQC-Color_2/Cotten_Reese_2010/Cotten_Reese_2010/Cotten_Reese_2010_0038.tif',\n",
       " 'e:/Batch2_2.toQC-Color_2/Cotten_Reese_2010/Cotten_Reese_2010/Cotten_Reese_2010_0040.tif',\n",
       " 'e:/Batch2_2.toQC-Color_2/Cotten_Reese_2010/Cotten_Reese_2010/Cotten_Reese_2010_0048.tif',\n",
       " 'e:/Batch2_2.toQC-Color_2/Cotten_Reese_2010/Cotten_Reese_2010/Cotten_Reese_2010_0055.tif',\n",
       " 'e:/Batch2_2.toQC-Color_2/Cotten_Reese_2010/Cotten_Reese_2010/Cotten_Reese_2010_0057.tif',\n",
       " 'e:/Batch2_2.toQC-Color_2/Cotten_Reese_2010/Cotten_Reese_2010/Cotten_Reese_2010_0059.tif',\n",
       " 'e:/Batch2_2.toQC-Color_2/Cotten_Reese_2010/Cotten_Reese_2010/Cotten_Reese_2010_0061.tif',\n",
       " 'e:/Batch2_2.toQC-Color_2/Cotten_Reese_2010/Cotten_Reese_2010/Cotten_Reese_2010_0063.tif',\n",
       " 'e:/Batch2_2.toQC-Color_2/Cotten_Reese_2010/Cotten_Reese_2010/Cotten_Reese_2010_0069.tif',\n",
       " 'e:/Batch2_2.toQC-Color_2/Cotter_Bitsy_2004/Cotter_Bitsy_2004/Cotter_Bitsy_2004_0027.tif',\n",
       " 'e:/Batch2_2.toQC-Color_2/Cotter_Bitsy_2004/Cotter_Bitsy_2004/Cotter_Bitsy_2004_0028.tif',\n",
       " 'e:/Batch2_2.toQC-Color_2/Cotter_Bitsy_2004/Cotter_Bitsy_2004/Cotter_Bitsy_2004_0029.tif',\n",
       " 'e:/Batch2_2.toQC-Color_2/Cotter_Bitsy_2004/Cotter_Bitsy_2004/Cotter_Bitsy_2004_0045.tif',\n",
       " 'e:/Batch2_2.toQC-Color_2/Cotter_Bitsy_2004/Cotter_Bitsy_2004/Cotter_Bitsy_2004_0046.tif',\n",
       " 'e:/Batch2_2.toQC-Color_2/Cotter_Bitsy_2004/Cotter_Bitsy_2004/Cotter_Bitsy_2004_0047.tif',\n",
       " 'e:/Batch2_2.toQC-Color_2/Cotter_Bitsy_2004/Cotter_Bitsy_2004/Cotter_Bitsy_2004_0048.tif',\n",
       " 'e:/Batch2_2.toQC-Color_2/Cotter_Bitsy_2004/Cotter_Bitsy_2004/Cotter_Bitsy_2004_0049.tif',\n",
       " 'e:/Batch2_2.toQC-Color_2/Cotter_Bitsy_2004/Cotter_Bitsy_2004/Cotter_Bitsy_2004_0050.tif',\n",
       " 'e:/Batch2_2.toQC-Color_2/Cotter_Bitsy_2004/Cotter_Bitsy_2004/Cotter_Bitsy_2004_0051.tif',\n",
       " 'e:/Batch2_2.toQC-Color_2/Cotter_Bitsy_2004/Cotter_Bitsy_2004/Cotter_Bitsy_2004_0052.tif',\n",
       " 'e:/Batch2_2.toQC-Color_2/Cotter_Bitsy_2004/Cotter_Bitsy_2004/Cotter_Bitsy_2004_0053.tif',\n",
       " 'e:/Batch2_2.toQC-Color_2/Cotter_Bitsy_2004/Cotter_Bitsy_2004/Cotter_Bitsy_2004_0054.tif',\n",
       " 'e:/Batch2_2.toQC-Color_2/Cotter_Bitsy_2004/Cotter_Bitsy_2004/Cotter_Bitsy_2004_0055.tif',\n",
       " 'e:/Batch2_2.toQC-Color_2/Cotter_Bitsy_2004/Cotter_Bitsy_2004/Cotter_Bitsy_2004_0056.tif',\n",
       " 'e:/Batch2_2.toQC-Color_2/Cotter_Bitsy_2004/Cotter_Bitsy_2004/Cotter_Bitsy_2004_0057.tif',\n",
       " 'e:/Batch2_2.toQC-Color_2/Cotter_Bitsy_2004/Cotter_Bitsy_2004/Cotter_Bitsy_2004_0058.tif',\n",
       " 'e:/Batch2_2.toQC-Color_2/Cotter_Bitsy_2004/Cotter_Bitsy_2004/Cotter_Bitsy_2004_0059.tif',\n",
       " 'e:/Batch2_2.toQC-Color_2/Cotter_Bitsy_2004/Cotter_Bitsy_2004/Cotter_Bitsy_2004_0060.tif',\n",
       " 'e:/Batch2_2.toQC-Color_2/Cotter_Bitsy_2004/Cotter_Bitsy_2004/Cotter_Bitsy_2004_0061.tif',\n",
       " 'e:/Batch2_2.toQC-Color_2/Cotter_Bitsy_2004/Cotter_Bitsy_2004/Cotter_Bitsy_2004_0062.tif',\n",
       " 'e:/Batch2_2.toQC-Color_2/Crittenden_Elizabeth_2008/Crittenden_Elizabeth_2008/Crittenden_Elizabeth_2008_0015.tif',\n",
       " 'e:/Batch2_2.toQC-Color_2/Crittenden_Elizabeth_2008/Crittenden_Elizabeth_2008/Crittenden_Elizabeth_2008_0030.tif',\n",
       " 'e:/Batch2_2.toQC-Color_2/Crittenden_Elizabeth_2008/Crittenden_Elizabeth_2008/Crittenden_Elizabeth_2008_0036.tif',\n",
       " 'e:/Batch2_2.toQC-Color_2/Crosby_Sergio_2006/Crosby_Sergio_2006/Crosby_Sergio_2006_0045.tif',\n",
       " 'e:/Batch2_2.toQC-Color_2/Curtis_Stephen_2012/Curtis_Stephen_2012/Curtis_Stephen_2012_0039.tif',\n",
       " 'e:/Batch2_2.toQC-Color_2/Curtis_Stephen_2012/Curtis_Stephen_2012/Curtis_Stephen_2012_0040.tif',\n",
       " 'e:/Batch2_2.toQC-Color_2/Curtis_Stephen_2012/Curtis_Stephen_2012/Curtis_Stephen_2012_0042.tif',\n",
       " 'e:/Batch2_2.toQC-Color_2/Dalton_Jesse_2011/Dalton_Jesse_2011/Dalton_Jesse_2011_0020.tif',\n",
       " 'e:/Batch2_2.toQC-Color_2/Dalton_Jesse_2011/Dalton_Jesse_2011/Dalton_Jesse_2011_0052.tif',\n",
       " 'e:/Batch2_2.toQC-Color_2/Dalton_Jesse_2011/Dalton_Jesse_2011/Dalton_Jesse_2011_0055.tif',\n",
       " 'e:/Batch2_2.toQC-Color_2/Dalton_Jesse_2011/Dalton_Jesse_2011/Dalton_Jesse_2011_0094.tif',\n",
       " 'e:/Batch2_2.toQC-Color_2/Dalton_Jesse_2011/Dalton_Jesse_2011/Dalton_Jesse_2011_0109.tif',\n",
       " 'e:/Batch2_2.toQC-Color_2/Dalton_Jesse_2011/Dalton_Jesse_2011/Dalton_Jesse_2011_0160.tif',\n",
       " 'e:/Batch2_2.toQC-Color_2/Dalton_Jesse_2011/Dalton_Jesse_2011/Dalton_Jesse_2011_0165.tif',\n",
       " 'e:/Batch2_2.toQC-Color_2/Dalton_Jesse_2011/Dalton_Jesse_2011/Dalton_Jesse_2011_0228.tif',\n",
       " 'e:/Batch2_2.toQC-Color_2/Dalton_Jesse_2011/Dalton_Jesse_2011/Dalton_Jesse_2011_0232.tif',\n",
       " 'e:/Batch2_2.toQC-Color_2/Dalton_Jesse_2011/Dalton_Jesse_2011/Dalton_Jesse_2011_0237.tif',\n",
       " 'e:/Batch2_2.toQC-Color_2/Dammeyer_Nathan_2010/Dammeyer_Nathan_2010/Dammeyer_Nathan_2010_0033.tif',\n",
       " 'e:/Batch2_2.toQC-Color_2/Dammeyer_Nathan_2010/Dammeyer_Nathan_2010/Dammeyer_Nathan_2010_0034.tif',\n",
       " 'e:/Batch2_2.toQC-Color_2/Daniels_Christina_2001/Daniels_Christina_2001/Daniels_Christina_2001_0038.tif',\n",
       " 'e:/Batch2_2.toQC-Color_2/Daniels_Christina_2001/Daniels_Christina_2001/Daniels_Christina_2001_0045.tif',\n",
       " 'e:/Batch2_2.toQC-Color_2/Daniels_Christina_2001/Daniels_Christina_2001/Daniels_Christina_2001_0046.tif',\n",
       " 'e:/Batch2_2.toQC-Color_2/Daniels_Christina_2001/Daniels_Christina_2001/Daniels_Christina_2001_0048.tif',\n",
       " 'e:/Batch2_2.toQC-Color_2/Daniels_Christina_2001/Daniels_Christina_2001/Daniels_Christina_2001_0049.tif',\n",
       " 'e:/Batch2_2.toQC-Color_2/DeLeon_Robert_2010/DeLeon_Robert_2010/DeLeon_Robert_2010_0040.tif',\n",
       " 'e:/Batch2_2.toQC-Color_2/DeLeon_Robert_2010/DeLeon_Robert_2010/DeLeon_Robert_2010_0044.tif',\n",
       " 'e:/Batch2_2.toQC-Color_2/DeLeon_Robert_2010/DeLeon_Robert_2010/DeLeon_Robert_2010_0048.tif',\n",
       " 'e:/Batch2_2.toQC-Color_2/DeLeon_Robert_2010/DeLeon_Robert_2010/DeLeon_Robert_2010_0052.tif',\n",
       " 'e:/Batch2_2.toQC-Color_2/DeLeon_Robert_2010/DeLeon_Robert_2010/DeLeon_Robert_2010_0056.tif',\n",
       " 'e:/Batch2_2.toQC-Color_2/DeLeon_Robert_2010/DeLeon_Robert_2010/DeLeon_Robert_2010_0060.tif',\n",
       " 'e:/Batch2_2.toQC-Color_2/DeLeon_Robert_2010/DeLeon_Robert_2010/DeLeon_Robert_2010_0064.tif',\n",
       " 'e:/Batch2_2.toQC-Color_2/DeLeon_Robert_2010/DeLeon_Robert_2010/DeLeon_Robert_2010_0145.tif',\n",
       " 'e:/Batch2_2.toQC-Color_2/DeLeon_Robert_2010/DeLeon_Robert_2010/DeLeon_Robert_2010_0148.tif',\n",
       " 'e:/Batch2_2.toQC-Color_2/DeLeon_Robert_2010/DeLeon_Robert_2010/DeLeon_Robert_2010_0151.tif',\n",
       " 'e:/Batch2_2.toQC-Color_2/DeLeon_Robert_2010/DeLeon_Robert_2010/DeLeon_Robert_2010_0154.tif',\n",
       " 'e:/Batch2_2.toQC-Color_2/DeLeon_Robert_2010/DeLeon_Robert_2010/DeLeon_Robert_2010_0157.tif',\n",
       " 'e:/Batch2_2.toQC-Color_2/DeLeon_Robert_2010/DeLeon_Robert_2010/DeLeon_Robert_2010_0160.tif',\n",
       " 'e:/Batch2_2.toQC-Color_2/DeLeon_Robert_2010/DeLeon_Robert_2010/DeLeon_Robert_2010_0163.tif',\n",
       " 'e:/Batch2_2.toQC-Color_2/DeLeon_Robert_2010/DeLeon_Robert_2010/DeLeon_Robert_2010_0166.tif',\n",
       " 'e:/Batch2_2.toQC-Color_2/DeLeon_Robert_2010/DeLeon_Robert_2010/DeLeon_Robert_2010_0169.tif',\n",
       " 'e:/Batch2_2.toQC-Color_2/DeLeon_Robert_2010/DeLeon_Robert_2010/DeLeon_Robert_2010_0172.tif',\n",
       " 'e:/Batch2_2.toQC-Color_2/DeLeon_Robert_2010/DeLeon_Robert_2010/DeLeon_Robert_2010_0175.tif',\n",
       " 'e:/Batch2_2.toQC-Color_2/DeLeon_Robert_2010/DeLeon_Robert_2010/DeLeon_Robert_2010_0178.tif',\n",
       " 'e:/Batch2_2.toQC-Color_2/DeLeon_Robert_2010/DeLeon_Robert_2010/DeLeon_Robert_2010_0181.tif',\n",
       " 'e:/Batch2_2.toQC-Color_2/DeLeon_Robert_2010/DeLeon_Robert_2010/DeLeon_Robert_2010_0184.tif',\n",
       " 'e:/Batch2_2.toQC-Color_2/DeSimone_Ivy_2001/DeSimone_Ivy_2001/DeSimone_Ivy_2001_0028.tif',\n",
       " 'e:/Batch2_2.toQC-Color_2/Deal_Julia_2002/Deal_Julia_2002/Deal_Julia_2002_0016.tif',\n",
       " 'e:/Batch2_2.toQC-Color_2/Deal_Julia_2002/Deal_Julia_2002/Deal_Julia_2002_0062.tif',\n",
       " 'e:/Batch2_2.toQC-Color_2/Deal_Julia_2002/Deal_Julia_2002/Deal_Julia_2002_0064.tif',\n",
       " 'e:/Batch2_2.toQC-Color_2/Deal_Julia_2002/Deal_Julia_2002/Deal_Julia_2002_0065.tif',\n",
       " 'e:/Batch2_2.toQC-Color_2/Deal_Julia_2002/Deal_Julia_2002/Deal_Julia_2002_0066.tif',\n",
       " 'e:/Batch2_2.toQC-Color_2/Deal_Julia_2002/Deal_Julia_2002/Deal_Julia_2002_0068.tif',\n",
       " 'e:/Batch2_2.toQC-Color_2/Deal_Julia_2002/Deal_Julia_2002/Deal_Julia_2002_0120.tif',\n",
       " 'e:/Batch2_2.toQC-Color_2/Dean_Roy_2002/Dean_Roy_2002/Dean_Roy_2002_0036.tif',\n",
       " 'e:/Batch2_2.toQC-Color_2/Dean_Roy_2002/Dean_Roy_2002/Dean_Roy_2002_0037.tif',\n",
       " 'e:/Batch2_2.toQC-Color_2/Dean_Roy_2002/Dean_Roy_2002/Dean_Roy_2002_0039.tif',\n",
       " 'e:/Batch2_2.toQC-Color_2/Dean_Roy_2002/Dean_Roy_2002/Dean_Roy_2002_0041.tif',\n",
       " 'e:/Batch2_2.toQC-Color_2/Dekar_Aicha_2000/Dekar_Aicha_2000/Dekar_Aicha_2000_0026.tif',\n",
       " 'e:/Batch2_2.toQC-Color_2/Dekar_Aicha_2000/Dekar_Aicha_2000/Dekar_Aicha_2000_0029.tif',\n",
       " 'e:/Batch2_2.toQC-Color_2/Dekar_Aicha_2000/Dekar_Aicha_2000/Dekar_Aicha_2000_0036.tif',\n",
       " 'e:/Batch2_2.toQC-Color_2/Dekar_Aicha_2000/Dekar_Aicha_2000/Dekar_Aicha_2000_0043.tif',\n",
       " 'e:/Batch2_2.toQC-Color_2/Dekar_Aicha_2000/Dekar_Aicha_2000/Dekar_Aicha_2000_0044.tif',\n",
       " 'e:/Batch2_2.toQC-Color_2/Dekar_Aicha_2000/Dekar_Aicha_2000/Dekar_Aicha_2000_0046.tif',\n",
       " 'e:/Batch2_2.toQC-Color_2/Dekar_Aicha_2000/Dekar_Aicha_2000/Dekar_Aicha_2000_0048.tif',\n",
       " 'e:/Batch2_2.toQC-Color_2/Dekar_Aicha_2000/Dekar_Aicha_2000/Dekar_Aicha_2000_0049.tif',\n",
       " 'e:/Batch2_2.toQC-Color_2/Dekar_Aicha_2000/Dekar_Aicha_2000/Dekar_Aicha_2000_0050.tif',\n",
       " 'e:/Batch2_2.toQC-Color_2/Denena_Melissa_2002/Denena_Melissa_2002/Denena_Melissa_2002_0012.tif',\n",
       " 'e:/Batch2_2.toQC-Color_2/Dennis_Kristine_2003/Dennis_Kristine_2003/Dennis_Kristine_2003_0048.tif',\n",
       " 'e:/Batch2_2.toQC-Color_2/Dennis_Kristine_2003/Dennis_Kristine_2003/Dennis_Kristine_2003_0049.tif',\n",
       " 'e:/Batch2_2.toQC-Color_2/Dennis_Kristine_2003/Dennis_Kristine_2003/Dennis_Kristine_2003_0050.tif',\n",
       " 'e:/Batch2_2.toQC-Color_2/Dennis_Kristine_2003/Dennis_Kristine_2003/Dennis_Kristine_2003_0051.tif',\n",
       " 'e:/Batch2_2.toQC-Color_2/Dennis_Kristine_2003/Dennis_Kristine_2003/Dennis_Kristine_2003_0052.tif',\n",
       " 'e:/Batch2_2.toQC-Color_2/Dennis_Kristine_2003/Dennis_Kristine_2003/Dennis_Kristine_2003_0053.tif',\n",
       " 'e:/Batch2_2.toQC-Color_2/Dennis_Kristine_2003/Dennis_Kristine_2003/Dennis_Kristine_2003_0054.tif',\n",
       " 'e:/Batch2_2.toQC-Color_2/Dennis_Kristine_2003/Dennis_Kristine_2003/Dennis_Kristine_2003_0055.tif',\n",
       " 'e:/Batch2_2.toQC-Color_2/Dennis_Kristine_2003/Dennis_Kristine_2003/Dennis_Kristine_2003_0056.tif',\n",
       " 'e:/Batch2_2.toQC-Color_2/Dennis_Kristine_2003/Dennis_Kristine_2003/Dennis_Kristine_2003_0058.tif',\n",
       " 'e:/Batch2_2.toQC-Color_2/Dennis_Kristine_2003/Dennis_Kristine_2003/Dennis_Kristine_2003_0059.tif',\n",
       " 'e:/Batch2_2.toQC-Color_2/Diaz_Peter_2010/Diaz_Peter_2010/Diaz_Peter_2010_0037.tif',\n",
       " 'e:/Batch2_2.toQC-Color_2/Diaz_Peter_2010/Diaz_Peter_2010/Diaz_Peter_2010_0041.tif',\n",
       " 'e:/Batch2_2.toQC-Color_2/Dickerson_Brian_2010/Dickerson_Brian_2010/Dickerson_Brian_2010_0015.tif',\n",
       " 'e:/Batch2_2.toQC-Color_2/Dickerson_Brian_2010/Dickerson_Brian_2010/Dickerson_Brian_2010_0026.tif',\n",
       " 'e:/Batch2_2.toQC-Color_2/Dickerson_Brian_2010/Dickerson_Brian_2010/Dickerson_Brian_2010_0032.tif',\n",
       " 'e:/Batch2_2.toQC-Color_2/Dickerson_Brian_2010/Dickerson_Brian_2010/Dickerson_Brian_2010_0033.tif',\n",
       " 'e:/Batch2_2.toQC-Color_2/Dickerson_Brian_2010/Dickerson_Brian_2010/Dickerson_Brian_2010_0034.tif',\n",
       " 'e:/Batch2_2.toQC-Color_2/Dickerson_Brian_2010/Dickerson_Brian_2010/Dickerson_Brian_2010_0035.tif',\n",
       " 'e:/Batch2_2.toQC-Color_2/Dickerson_Brian_2010/Dickerson_Brian_2010/Dickerson_Brian_2010_0036.tif',\n",
       " 'e:/Batch2_2.toQC-Color_2/Dix_Ross_2008/Dix_Ross_2008/Dix_Ross_2008_0041.tif',\n",
       " 'e:/Batch2_2.toQC-Color_2/Dix_Ross_2008/Dix_Ross_2008/Dix_Ross_2008_0042.tif',\n",
       " 'e:/Batch2_2.toQC-Color_2/Dix_Ross_2008/Dix_Ross_2008/Dix_Ross_2008_0043.tif',\n",
       " 'e:/Batch2_2.toQC-Color_2/Dix_Ross_2008/Dix_Ross_2008/Dix_Ross_2008_0049.tif',\n",
       " 'e:/Batch2_2.toQC-Color_2/Dix_Ross_2008/Dix_Ross_2008/Dix_Ross_2008_0050.tif',\n",
       " 'e:/Batch2_2.toQC-Color_2/Dix_Ross_2008/Dix_Ross_2008/Dix_Ross_2008_0051.tif',\n",
       " 'e:/Batch2_2.toQC-Color_2/Dix_Ross_2008/Dix_Ross_2008/Dix_Ross_2008_0052.tif',\n",
       " 'e:/Batch2_2.toQC-Color_2/Dix_Ross_2008/Dix_Ross_2008/Dix_Ross_2008_0053.tif',\n",
       " 'e:/Batch2_2.toQC-Color_2/Dixson_Jamie_2001/Dixson_Jamie_2001/Dixson_Jamie_2001_0022.tif',\n",
       " 'e:/Batch2_2.toQC-Color_2/Dixson_Jamie_2001/Dixson_Jamie_2001/Dixson_Jamie_2001_0023.tif',\n",
       " 'e:/Batch2_2.toQC-Color_2/Dixson_Jamie_2001/Dixson_Jamie_2001/Dixson_Jamie_2001_0024.tif',\n",
       " 'e:/Batch2_2.toQC-Color_2/Dixson_Jamie_2001/Dixson_Jamie_2001/Dixson_Jamie_2001_0031.tif',\n",
       " 'e:/Batch2_2.toQC-Color_2/Dixson_Jamie_2001/Dixson_Jamie_2001/Dixson_Jamie_2001_0036.tif',\n",
       " 'e:/Batch2_2.toQC-Color_2/Dixson_Jamie_2001/Dixson_Jamie_2001/Dixson_Jamie_2001_0040.tif',\n",
       " 'e:/Batch2_2.toQC-Color_2/Dixson_Jamie_2001/Dixson_Jamie_2001/Dixson_Jamie_2001_0064.tif',\n",
       " 'e:/Batch2_2.toQC-Color_2/Dixson_Jamie_2001/Dixson_Jamie_2001/Dixson_Jamie_2001_0073.tif',\n",
       " 'e:/Batch2_2.toQC-Color_2/Dixson_Jamie_2001/Dixson_Jamie_2001/Dixson_Jamie_2001_0076.tif',\n",
       " 'e:/Batch2_2.toQC-Color_2/Dixson_Jamie_2001/Dixson_Jamie_2001/Dixson_Jamie_2001_0079.tif',\n",
       " 'e:/Batch2_2.toQC-Color_2/Dixson_Jamie_2001/Dixson_Jamie_2001/Dixson_Jamie_2001_0082.tif',\n",
       " 'e:/Batch2_2.toQC-Color_2/Dixson_Jamie_2001/Dixson_Jamie_2001/Dixson_Jamie_2001_0083.tif',\n",
       " 'e:/Batch2_2.toQC-Color_2/Dixson_Jamie_2001/Dixson_Jamie_2001/Dixson_Jamie_2001_0084.tif',\n",
       " 'e:/Batch2_2.toQC-Color_2/Dixson_Jamie_2001/Dixson_Jamie_2001/Dixson_Jamie_2001_0085.tif',\n",
       " 'e:/Batch2_2.toQC-Color_2/Dixson_Jamie_2001/Dixson_Jamie_2001/Dixson_Jamie_2001_0086.tif',\n",
       " 'e:/Batch2_2.toQC-Color_2/Doddameti_Sandesh_2003/Doddameti_Sandesh_2003/Doddameti_Sandesh_2003_0028.tif',\n",
       " 'e:/Batch2_2.toQC-Color_2/Doddameti_Sandesh_2003/Doddameti_Sandesh_2003/Doddameti_Sandesh_2003_0034.tif',\n",
       " 'e:/Batch2_2.toQC-Color_2/Doddameti_Sandesh_2003/Doddameti_Sandesh_2003/Doddameti_Sandesh_2003_0035.tif',\n",
       " 'e:/Batch2_2.toQC-Color_2/Doddameti_Sandesh_2003/Doddameti_Sandesh_2003/Doddameti_Sandesh_2003_0054.tif',\n",
       " 'e:/Batch2_2.toQC-Color_2/Doddameti_Sandesh_2003/Doddameti_Sandesh_2003/Doddameti_Sandesh_2003_0058.tif',\n",
       " 'e:/Batch2_2.toQC-Color_2/Doddameti_Sandesh_2003/Doddameti_Sandesh_2003/Doddameti_Sandesh_2003_0059.tif',\n",
       " 'e:/Batch2_2.toQC-Color_2/Doddameti_Sandesh_2003/Doddameti_Sandesh_2003/Doddameti_Sandesh_2003_0060.tif',\n",
       " 'e:/Batch2_2.toQC-Color_2/Doddameti_Sandesh_2003/Doddameti_Sandesh_2003/Doddameti_Sandesh_2003_0073.tif',\n",
       " 'e:/Batch2_2.toQC-Color_2/Doddameti_Sandesh_2003/Doddameti_Sandesh_2003/Doddameti_Sandesh_2003_0074.tif',\n",
       " 'e:/Batch2_2.toQC-Color_2/Doddameti_Sandesh_2003/Doddameti_Sandesh_2003/Doddameti_Sandesh_2003_0075.tif',\n",
       " 'e:/Batch2_2.toQC-Color_2/Doddameti_Sandesh_2003/Doddameti_Sandesh_2003/Doddameti_Sandesh_2003_0076.tif',\n",
       " 'e:/Batch2_2.toQC-Color_2/Doddameti_Sandesh_2003/Doddameti_Sandesh_2003/Doddameti_Sandesh_2003_0096.tif',\n",
       " 'e:/Batch2_2.toQC-Color_2/Doddameti_Sandesh_2003/Doddameti_Sandesh_2003/Doddameti_Sandesh_2003_0097.tif',\n",
       " 'e:/Batch2_2.toQC-Color_2/Doddameti_Sandesh_2003/Doddameti_Sandesh_2003/Doddameti_Sandesh_2003_0102.tif',\n",
       " 'e:/Batch2_2.toQC-Color_2/Doddameti_Sandesh_2003/Doddameti_Sandesh_2003/Doddameti_Sandesh_2003_0103.tif',\n",
       " 'e:/Batch2_2.toQC-Color_2/Doddameti_Sandesh_2003/Doddameti_Sandesh_2003/Doddameti_Sandesh_2003_0104.tif',\n",
       " 'e:/Batch2_2.toQC-Color_2/Doddameti_Sandesh_2003/Doddameti_Sandesh_2003/Doddameti_Sandesh_2003_0108.tif',\n",
       " 'e:/Batch2_2.toQC-Color_2/Doddameti_Sandesh_2003/Doddameti_Sandesh_2003/Doddameti_Sandesh_2003_0109.tif',\n",
       " 'e:/Batch2_2.toQC-Color_2/Doddameti_Sandesh_2003/Doddameti_Sandesh_2003/Doddameti_Sandesh_2003_0110.tif',\n",
       " 'e:/Batch2_2.toQC-Color_2/Doddameti_Sandesh_2003/Doddameti_Sandesh_2003/Doddameti_Sandesh_2003_0112.tif',\n",
       " 'e:/Batch2_2.toQC-Color_2/Doddameti_Sandesh_2003/Doddameti_Sandesh_2003/Doddameti_Sandesh_2003_0113.tif',\n",
       " 'e:/Batch2_2.toQC-Color_2/Doddameti_Sandesh_2003/Doddameti_Sandesh_2003/Doddameti_Sandesh_2003_0114.tif',\n",
       " 'e:/Batch2_2.toQC-Color_2/Dodson_Darren_2001/Dodson_Darren_2001/Dodson_Darren_2001_0020.tif',\n",
       " 'e:/Batch2_2.toQC-Color_2/Dodson_Darren_2001/Dodson_Darren_2001/Dodson_Darren_2001_0038.tif',\n",
       " 'e:/Batch2_2.toQC-Color_2/Dodson_Darren_2001/Dodson_Darren_2001/Dodson_Darren_2001_0039.tif',\n",
       " 'e:/Batch2_2.toQC-Color_2/Dodson_Darren_2001/Dodson_Darren_2001/Dodson_Darren_2001_0046.tif',\n",
       " 'e:/Batch2_2.toQC-Color_2/Donahue_Patricia_2004/Donahue_Patricia_2004/Donahue_Patricia_2004_0149.tif',\n",
       " 'e:/Batch2_2.toQC-Color_2/Donahue_Patricia_2004/Donahue_Patricia_2004/Donahue_Patricia_2004_0150.tif']"
      ]
     },
     "execution_count": 14,
     "metadata": {},
     "output_type": "execute_result"
    }
   ],
   "source": [
    "#list of grayscale images\n",
    "gray_images_list = [filename for filename in ppi_400_gray_df['SourceFile']]\n",
    "gray_images_list"
   ]
  },
  {
   "cell_type": "code",
   "execution_count": 25,
   "metadata": {},
   "outputs": [
    {
     "ename": "NameError",
     "evalue": "name 'gray_images_list' is not defined",
     "output_type": "error",
     "traceback": [
      "\u001b[1;31m---------------------------------------------------------------------------\u001b[0m",
      "\u001b[1;31mNameError\u001b[0m                                 Traceback (most recent call last)",
      "\u001b[1;32m<ipython-input-25-431e76503ea7>\u001b[0m in \u001b[0;36m<module>\u001b[1;34m()\u001b[0m\n\u001b[1;32m----> 1\u001b[1;33m \u001b[0mwhat_is_not_gray_gamma_list\u001b[0m \u001b[1;33m=\u001b[0m \u001b[1;33m[\u001b[0m\u001b[0mfilename\u001b[0m \u001b[1;32mfor\u001b[0m \u001b[0mfilename\u001b[0m \u001b[1;32min\u001b[0m \u001b[0mgray_images_list\u001b[0m \u001b[1;32mif\u001b[0m \u001b[0mfilename\u001b[0m \u001b[1;32mnot\u001b[0m \u001b[1;32min\u001b[0m \u001b[0mgray_gamma_list\u001b[0m\u001b[1;33m]\u001b[0m\u001b[1;33m\u001b[0m\u001b[0m\n\u001b[0m\u001b[0;32m      2\u001b[0m \u001b[0mwhat_is_not_gray_gamma_list\u001b[0m\u001b[1;33m\u001b[0m\u001b[0m\n",
      "\u001b[1;31mNameError\u001b[0m: name 'gray_images_list' is not defined"
     ]
    }
   ],
   "source": [
    "what_is_not_gray_gamma_list = [filename for filename in gray_images_list if filename not in gray_gamma_list]\n",
    "what_is_not_gray_gamma_list"
   ]
  },
  {
   "cell_type": "code",
   "execution_count": 27,
   "metadata": {
    "scrolled": true
   },
   "outputs": [
    {
     "data": {
      "text/plain": [
       "['e:/Batch2_2.toQC-Color_2/Coker_Linda_2005/Coker_Linda_2005/Coker_Linda_2005_0001.tif',\n",
       " 'e:/Batch2_2.toQC-Color_2/Coker_Linda_2005/Coker_Linda_2005/Coker_Linda_2005_0002.tif',\n",
       " 'e:/Batch2_2.toQC-Color_2/Coker_Linda_2005/Coker_Linda_2005/Coker_Linda_2005_0003.tif',\n",
       " 'e:/Batch2_2.toQC-Color_2/Coker_Linda_2005/Coker_Linda_2005/Coker_Linda_2005_0004.tif',\n",
       " 'e:/Batch2_2.toQC-Color_2/Coker_Linda_2005/Coker_Linda_2005/Coker_Linda_2005_0005.tif',\n",
       " 'e:/Batch2_2.toQC-Color_2/Coker_Linda_2005/Coker_Linda_2005/Coker_Linda_2005_0006.tif',\n",
       " 'e:/Batch2_2.toQC-Color_2/Coker_Linda_2005/Coker_Linda_2005/Coker_Linda_2005_0007.tif',\n",
       " 'e:/Batch2_2.toQC-Color_2/Coker_Linda_2005/Coker_Linda_2005/Coker_Linda_2005_0008.tif',\n",
       " 'e:/Batch2_2.toQC-Color_2/Coker_Linda_2005/Coker_Linda_2005/Coker_Linda_2005_0009.tif',\n",
       " 'e:/Batch2_2.toQC-Color_2/Coker_Linda_2005/Coker_Linda_2005/Coker_Linda_2005_0010.tif',\n",
       " 'e:/Batch2_2.toQC-Color_2/Coker_Linda_2005/Coker_Linda_2005/Coker_Linda_2005_0011.tif',\n",
       " 'e:/Batch2_2.toQC-Color_2/Coker_Linda_2005/Coker_Linda_2005/Coker_Linda_2005_0012.tif',\n",
       " 'e:/Batch2_2.toQC-Color_2/Coker_Linda_2005/Coker_Linda_2005/Coker_Linda_2005_0013.tif',\n",
       " 'e:/Batch2_2.toQC-Color_2/Coker_Linda_2005/Coker_Linda_2005/Coker_Linda_2005_0014.tif',\n",
       " 'e:/Batch2_2.toQC-Color_2/Coker_Linda_2005/Coker_Linda_2005/Coker_Linda_2005_0015.tif',\n",
       " 'e:/Batch2_2.toQC-Color_2/Coker_Linda_2005/Coker_Linda_2005/Coker_Linda_2005_0016.tif',\n",
       " 'e:/Batch2_2.toQC-Color_2/Coker_Linda_2005/Coker_Linda_2005/Coker_Linda_2005_0017.tif',\n",
       " 'e:/Batch2_2.toQC-Color_2/Coker_Linda_2005/Coker_Linda_2005/Coker_Linda_2005_0018.tif',\n",
       " 'e:/Batch2_2.toQC-Color_2/Coker_Linda_2005/Coker_Linda_2005/Coker_Linda_2005_0019.tif',\n",
       " 'e:/Batch2_2.toQC-Color_2/Coker_Linda_2005/Coker_Linda_2005/Coker_Linda_2005_0020.tif',\n",
       " 'e:/Batch2_2.toQC-Color_2/Coker_Linda_2005/Coker_Linda_2005/Coker_Linda_2005_0021.tif',\n",
       " 'e:/Batch2_2.toQC-Color_2/Coker_Linda_2005/Coker_Linda_2005/Coker_Linda_2005_0022.tif',\n",
       " 'e:/Batch2_2.toQC-Color_2/Coker_Linda_2005/Coker_Linda_2005/Coker_Linda_2005_0023.tif',\n",
       " 'e:/Batch2_2.toQC-Color_2/Coker_Linda_2005/Coker_Linda_2005/Coker_Linda_2005_0024.tif',\n",
       " 'e:/Batch2_2.toQC-Color_2/Coker_Linda_2005/Coker_Linda_2005/Coker_Linda_2005_0025.tif',\n",
       " 'e:/Batch2_2.toQC-Color_2/Coker_Linda_2005/Coker_Linda_2005/Coker_Linda_2005_0026.tif',\n",
       " 'e:/Batch2_2.toQC-Color_2/Coker_Linda_2005/Coker_Linda_2005/Coker_Linda_2005_0027.tif',\n",
       " 'e:/Batch2_2.toQC-Color_2/Coker_Linda_2005/Coker_Linda_2005/Coker_Linda_2005_0028.tif',\n",
       " 'e:/Batch2_2.toQC-Color_2/Coker_Linda_2005/Coker_Linda_2005/Coker_Linda_2005_0029.tif',\n",
       " 'e:/Batch2_2.toQC-Color_2/Coker_Linda_2005/Coker_Linda_2005/Coker_Linda_2005_0030.tif',\n",
       " 'e:/Batch2_2.toQC-Color_2/Coker_Linda_2005/Coker_Linda_2005/Coker_Linda_2005_0031.tif',\n",
       " 'e:/Batch2_2.toQC-Color_2/Coker_Linda_2005/Coker_Linda_2005/Coker_Linda_2005_0032.tif',\n",
       " 'e:/Batch2_2.toQC-Color_2/Coker_Linda_2005/Coker_Linda_2005/Coker_Linda_2005_0033.tif',\n",
       " 'e:/Batch2_2.toQC-Color_2/Coker_Linda_2005/Coker_Linda_2005/Coker_Linda_2005_0034.tif',\n",
       " 'e:/Batch2_2.toQC-Color_2/Coker_Linda_2005/Coker_Linda_2005/Coker_Linda_2005_0035.tif',\n",
       " 'e:/Batch2_2.toQC-Color_2/Coker_Linda_2005/Coker_Linda_2005/Coker_Linda_2005_0036.tif',\n",
       " 'e:/Batch2_2.toQC-Color_2/Coker_Linda_2005/Coker_Linda_2005/Coker_Linda_2005_0037.tif',\n",
       " 'e:/Batch2_2.toQC-Color_2/Coker_Linda_2005/Coker_Linda_2005/Coker_Linda_2005_0038.tif',\n",
       " 'e:/Batch2_2.toQC-Color_2/Coker_Linda_2005/Coker_Linda_2005/Coker_Linda_2005_0039.tif',\n",
       " 'e:/Batch2_2.toQC-Color_2/Coker_Linda_2005/Coker_Linda_2005/Coker_Linda_2005_0040.tif',\n",
       " 'e:/Batch2_2.toQC-Color_2/Coker_Linda_2005/Coker_Linda_2005/Coker_Linda_2005_0041.tif',\n",
       " 'e:/Batch2_2.toQC-Color_2/Coker_Linda_2005/Coker_Linda_2005/Coker_Linda_2005_0042.tif',\n",
       " 'e:/Batch2_2.toQC-Color_2/Coker_Linda_2005/Coker_Linda_2005/Coker_Linda_2005_0043.tif',\n",
       " 'e:/Batch2_2.toQC-Color_2/Coker_Linda_2005/Coker_Linda_2005/Coker_Linda_2005_0044.tif',\n",
       " 'e:/Batch2_2.toQC-Color_2/Coker_Linda_2005/Coker_Linda_2005/Coker_Linda_2005_0045.tif',\n",
       " 'e:/Batch2_2.toQC-Color_2/Coker_Linda_2005/Coker_Linda_2005/Coker_Linda_2005_0046.tif',\n",
       " 'e:/Batch2_2.toQC-Color_2/Coker_Linda_2005/Coker_Linda_2005/Coker_Linda_2005_0047.tif',\n",
       " 'e:/Batch2_2.toQC-Color_2/Coker_Linda_2005/Coker_Linda_2005/Coker_Linda_2005_0048.tif',\n",
       " 'e:/Batch2_2.toQC-Color_2/Coker_Linda_2005/Coker_Linda_2005/Coker_Linda_2005_0049.tif',\n",
       " 'e:/Batch2_2.toQC-Color_2/Coker_Linda_2005/Coker_Linda_2005/Coker_Linda_2005_0050.tif',\n",
       " 'e:/Batch2_2.toQC-Color_2/Coker_Linda_2005/Coker_Linda_2005/Coker_Linda_2005_0051.tif',\n",
       " 'e:/Batch2_2.toQC-Color_2/Coker_Linda_2005/Coker_Linda_2005/Coker_Linda_2005_0052.tif',\n",
       " 'e:/Batch2_2.toQC-Color_2/Coker_Linda_2005/Coker_Linda_2005/Coker_Linda_2005_0053.tif',\n",
       " 'e:/Batch2_2.toQC-Color_2/Coker_Linda_2005/Coker_Linda_2005/Coker_Linda_2005_0054.tif',\n",
       " 'e:/Batch2_2.toQC-Color_2/Coker_Linda_2005/Coker_Linda_2005/Coker_Linda_2005_0055.tif',\n",
       " 'e:/Batch2_2.toQC-Color_2/Coker_Linda_2005/Coker_Linda_2005/Coker_Linda_2005_0056.tif',\n",
       " 'e:/Batch2_2.toQC-Color_2/Coker_Linda_2005/Coker_Linda_2005/Coker_Linda_2005_0057.tif',\n",
       " 'e:/Batch2_2.toQC-Color_2/Coker_Linda_2005/Coker_Linda_2005/Coker_Linda_2005_0058.tif',\n",
       " 'e:/Batch2_2.toQC-Color_2/Coker_Linda_2005/Coker_Linda_2005/Coker_Linda_2005_0059.tif',\n",
       " 'e:/Batch2_2.toQC-Color_2/Coker_Linda_2005/Coker_Linda_2005/Coker_Linda_2005_0060.tif',\n",
       " 'e:/Batch2_2.toQC-Color_2/Coker_Linda_2005/Coker_Linda_2005/Coker_Linda_2005_0061.tif',\n",
       " 'e:/Batch2_2.toQC-Color_2/Coker_Linda_2005/Coker_Linda_2005/Coker_Linda_2005_0063.tif',\n",
       " 'e:/Batch2_2.toQC-Color_2/Coker_Linda_2005/Coker_Linda_2005/Coker_Linda_2005_0064.tif',\n",
       " 'e:/Batch2_2.toQC-Color_2/Coker_Linda_2005/Coker_Linda_2005/Coker_Linda_2005_0065.tif',\n",
       " 'e:/Batch2_2.toQC-Color_2/Coker_Linda_2005/Coker_Linda_2005/Coker_Linda_2005_0066.tif',\n",
       " 'e:/Batch2_2.toQC-Color_2/Coker_Linda_2005/Coker_Linda_2005/Coker_Linda_2005_0067.tif',\n",
       " 'e:/Batch2_2.toQC-Color_2/Coker_Linda_2005/Coker_Linda_2005/Coker_Linda_2005_0068.tif',\n",
       " 'e:/Batch2_2.toQC-Color_2/Coker_Linda_2005/Coker_Linda_2005/Coker_Linda_2005_0069.tif',\n",
       " 'e:/Batch2_2.toQC-Color_2/Coker_Linda_2005/Coker_Linda_2005/Coker_Linda_2005_0070.tif',\n",
       " 'e:/Batch2_2.toQC-Color_2/Coker_Linda_2005/Coker_Linda_2005/Coker_Linda_2005_0071.tif',\n",
       " 'e:/Batch2_2.toQC-Color_2/Coker_Linda_2005/Coker_Linda_2005/Coker_Linda_2005_0076.tif',\n",
       " 'e:/Batch2_2.toQC-Color_2/Coker_Linda_2005/Coker_Linda_2005/Coker_Linda_2005_0077.tif',\n",
       " 'e:/Batch2_2.toQC-Color_2/Coker_Linda_2005/Coker_Linda_2005/Coker_Linda_2005_0078.tif',\n",
       " 'e:/Batch2_2.toQC-Color_2/Coker_Linda_2005/Coker_Linda_2005/Coker_Linda_2005_0079.tif',\n",
       " 'e:/Batch2_2.toQC-Color_2/Coker_Linda_2005/Coker_Linda_2005/Coker_Linda_2005_0080.tif',\n",
       " 'e:/Batch2_2.toQC-Color_2/Coker_Linda_2005/Coker_Linda_2005/Coker_Linda_2005_0081.tif',\n",
       " 'e:/Batch2_2.toQC-Color_2/Coker_Linda_2005/Coker_Linda_2005/Coker_Linda_2005_0082.tif',\n",
       " 'e:/Batch2_2.toQC-Color_2/Coker_Linda_2005/Coker_Linda_2005/Coker_Linda_2005_0083.tif',\n",
       " 'e:/Batch2_2.toQC-Color_2/Coker_Linda_2005/Coker_Linda_2005/Coker_Linda_2005_0086.tif',\n",
       " 'e:/Batch2_2.toQC-Color_2/Coker_Linda_2005/Coker_Linda_2005/Coker_Linda_2005_0087.tif',\n",
       " 'e:/Batch2_2.toQC-Color_2/Coker_Linda_2005/Coker_Linda_2005/Coker_Linda_2005_0088.tif',\n",
       " 'e:/Batch2_2.toQC-Color_2/Coker_Linda_2005/Coker_Linda_2005/Coker_Linda_2005_0089.tif',\n",
       " 'e:/Batch2_2.toQC-Color_2/Coker_Linda_2005/Coker_Linda_2005/Coker_Linda_2005_0090.tif',\n",
       " 'e:/Batch2_2.toQC-Color_2/Coker_Linda_2005/Coker_Linda_2005/Coker_Linda_2005_0091.tif',\n",
       " 'e:/Batch2_2.toQC-Color_2/Coker_Linda_2005/Coker_Linda_2005/Coker_Linda_2005_0092.tif',\n",
       " 'e:/Batch2_2.toQC-Color_2/Coker_Linda_2005/Coker_Linda_2005/Coker_Linda_2005_0093.tif',\n",
       " 'e:/Batch2_2.toQC-Color_2/Coker_Linda_2005/Coker_Linda_2005/Coker_Linda_2005_0094.tif',\n",
       " 'e:/Batch2_2.toQC-Color_2/Coker_Linda_2005/Coker_Linda_2005/Coker_Linda_2005_0095.tif',\n",
       " 'e:/Batch2_2.toQC-Color_2/Coker_Linda_2005/Coker_Linda_2005/Coker_Linda_2005_0096.tif',\n",
       " 'e:/Batch2_2.toQC-Color_2/Coker_Linda_2005/Coker_Linda_2005/Coker_Linda_2005_0097.tif',\n",
       " 'e:/Batch2_2.toQC-Color_2/Coker_Linda_2005/Coker_Linda_2005/Coker_Linda_2005_0098.tif',\n",
       " 'e:/Batch2_2.toQC-Color_2/Coker_Linda_2005/Coker_Linda_2005/Coker_Linda_2005_0099.tif',\n",
       " 'e:/Batch2_2.toQC-Color_2/Coker_Linda_2005/Coker_Linda_2005/Coker_Linda_2005_0100.tif',\n",
       " 'e:/Batch2_2.toQC-Color_2/Copeland_Chad_2005/Copeland_Chad_2005/Copeland_Chad_2005_0046.tif',\n",
       " 'e:/Batch2_2.toQC-Color_2/Cotter_Bitsy_2004/Cotter_Bitsy_2004/Cotter_Bitsy_2004_0044.tif',\n",
       " 'e:/Batch2_2.toQC-Color_2/Dammeyer_Nathan_2010/Dammeyer_Nathan_2010/Dammeyer_Nathan_2010_0001.tif']"
      ]
     },
     "execution_count": 27,
     "metadata": {},
     "output_type": "execute_result"
    }
   ],
   "source": [
    "images_uncompressed_bitonal_list"
   ]
  },
  {
   "cell_type": "code",
   "execution_count": 9,
   "metadata": {},
   "outputs": [],
   "source": [
    "# create a list template\n",
    "show_color_list = []\n",
    "\n",
    "# creates a list of images that fit requirements of one of my list options above\n",
    "# only run this widget when the correct values are selected in the dataframe above\n",
    "# these lists are below the dataframe because they don't need multiple selections\n",
    "for image_path in value_widget.result['SourceFile']:\n",
    "\n",
    "    if image_path not in show_color_list:\n",
    "        show_color_list.append(image_path)"
   ]
  },
  {
   "cell_type": "code",
   "execution_count": 10,
   "metadata": {},
   "outputs": [
    {
     "data": {
      "text/plain": [
       "['e:/Batch2_2.toQC-Color_2/Denena_Melissa_2002/Denena_Melissa_2002/Denena_Melissa_2002_0012.tif']"
      ]
     },
     "execution_count": 10,
     "metadata": {},
     "output_type": "execute_result"
    }
   ],
   "source": [
    "show_color_list"
   ]
  },
  {
   "cell_type": "code",
   "execution_count": 28,
   "metadata": {},
   "outputs": [
    {
     "data": {
      "text/plain": [
       "460"
      ]
     },
     "execution_count": 28,
     "metadata": {},
     "output_type": "execute_result"
    }
   ],
   "source": [
    "len(move_color_list)"
   ]
  },
  {
   "cell_type": "markdown",
   "metadata": {},
   "source": [
    "####################################################################################################"
   ]
  },
  {
   "cell_type": "markdown",
   "metadata": {},
   "source": [
    "## ------- Tools -------"
   ]
  },
  {
   "cell_type": "code",
   "execution_count": null,
   "metadata": {},
   "outputs": [],
   "source": [
    "# This resizes 400 ppi images to the correct height and weight and saves them\n",
    "# Check orientation before running this code\n",
    "for image_path in images_to_fix_list:\n",
    "    path = Path(image_path)\n",
    "    \n",
    "    print(f'opening {path.name}')\n",
    "    \n",
    "    image = Image.open(image_path)\n",
    "    \n",
    "    image = image.crop(box=(0, 0, 4400, 3400))\n",
    "    image.save(image_path, compression='None', dpi=(400.0, 400.0))"
   ]
  },
  {
   "cell_type": "code",
   "execution_count": 31,
   "metadata": {},
   "outputs": [
    {
     "name": "stdout",
     "output_type": "stream",
     "text": [
      "e:/Batch2_2.toQC-Color_2/Coker_Linda_2005/Coker_Linda_2005/Coker_Linda_2005_0001.tif\n",
      "saving Coker_Linda_2005_0001.tif\n",
      "e:/Batch2_2.toQC-Color_2/Coker_Linda_2005/Coker_Linda_2005/Coker_Linda_2005_0002.tif\n",
      "saving Coker_Linda_2005_0002.tif\n",
      "e:/Batch2_2.toQC-Color_2/Coker_Linda_2005/Coker_Linda_2005/Coker_Linda_2005_0003.tif\n",
      "saving Coker_Linda_2005_0003.tif\n",
      "e:/Batch2_2.toQC-Color_2/Coker_Linda_2005/Coker_Linda_2005/Coker_Linda_2005_0004.tif\n",
      "saving Coker_Linda_2005_0004.tif\n",
      "e:/Batch2_2.toQC-Color_2/Coker_Linda_2005/Coker_Linda_2005/Coker_Linda_2005_0005.tif\n",
      "saving Coker_Linda_2005_0005.tif\n",
      "e:/Batch2_2.toQC-Color_2/Coker_Linda_2005/Coker_Linda_2005/Coker_Linda_2005_0006.tif\n",
      "saving Coker_Linda_2005_0006.tif\n",
      "e:/Batch2_2.toQC-Color_2/Coker_Linda_2005/Coker_Linda_2005/Coker_Linda_2005_0007.tif\n",
      "saving Coker_Linda_2005_0007.tif\n",
      "e:/Batch2_2.toQC-Color_2/Coker_Linda_2005/Coker_Linda_2005/Coker_Linda_2005_0008.tif\n",
      "saving Coker_Linda_2005_0008.tif\n",
      "e:/Batch2_2.toQC-Color_2/Coker_Linda_2005/Coker_Linda_2005/Coker_Linda_2005_0009.tif\n",
      "saving Coker_Linda_2005_0009.tif\n",
      "e:/Batch2_2.toQC-Color_2/Coker_Linda_2005/Coker_Linda_2005/Coker_Linda_2005_0010.tif\n",
      "saving Coker_Linda_2005_0010.tif\n",
      "e:/Batch2_2.toQC-Color_2/Coker_Linda_2005/Coker_Linda_2005/Coker_Linda_2005_0011.tif\n",
      "saving Coker_Linda_2005_0011.tif\n",
      "e:/Batch2_2.toQC-Color_2/Coker_Linda_2005/Coker_Linda_2005/Coker_Linda_2005_0012.tif\n",
      "saving Coker_Linda_2005_0012.tif\n",
      "e:/Batch2_2.toQC-Color_2/Coker_Linda_2005/Coker_Linda_2005/Coker_Linda_2005_0013.tif\n",
      "saving Coker_Linda_2005_0013.tif\n",
      "e:/Batch2_2.toQC-Color_2/Coker_Linda_2005/Coker_Linda_2005/Coker_Linda_2005_0014.tif\n",
      "saving Coker_Linda_2005_0014.tif\n",
      "e:/Batch2_2.toQC-Color_2/Coker_Linda_2005/Coker_Linda_2005/Coker_Linda_2005_0015.tif\n",
      "saving Coker_Linda_2005_0015.tif\n",
      "e:/Batch2_2.toQC-Color_2/Coker_Linda_2005/Coker_Linda_2005/Coker_Linda_2005_0016.tif\n",
      "saving Coker_Linda_2005_0016.tif\n",
      "e:/Batch2_2.toQC-Color_2/Coker_Linda_2005/Coker_Linda_2005/Coker_Linda_2005_0017.tif\n",
      "saving Coker_Linda_2005_0017.tif\n",
      "e:/Batch2_2.toQC-Color_2/Coker_Linda_2005/Coker_Linda_2005/Coker_Linda_2005_0018.tif\n",
      "saving Coker_Linda_2005_0018.tif\n",
      "e:/Batch2_2.toQC-Color_2/Coker_Linda_2005/Coker_Linda_2005/Coker_Linda_2005_0019.tif\n",
      "saving Coker_Linda_2005_0019.tif\n",
      "e:/Batch2_2.toQC-Color_2/Coker_Linda_2005/Coker_Linda_2005/Coker_Linda_2005_0020.tif\n",
      "saving Coker_Linda_2005_0020.tif\n",
      "e:/Batch2_2.toQC-Color_2/Coker_Linda_2005/Coker_Linda_2005/Coker_Linda_2005_0021.tif\n",
      "saving Coker_Linda_2005_0021.tif\n",
      "e:/Batch2_2.toQC-Color_2/Coker_Linda_2005/Coker_Linda_2005/Coker_Linda_2005_0022.tif\n",
      "saving Coker_Linda_2005_0022.tif\n",
      "e:/Batch2_2.toQC-Color_2/Coker_Linda_2005/Coker_Linda_2005/Coker_Linda_2005_0023.tif\n",
      "saving Coker_Linda_2005_0023.tif\n",
      "e:/Batch2_2.toQC-Color_2/Coker_Linda_2005/Coker_Linda_2005/Coker_Linda_2005_0024.tif\n",
      "saving Coker_Linda_2005_0024.tif\n",
      "e:/Batch2_2.toQC-Color_2/Coker_Linda_2005/Coker_Linda_2005/Coker_Linda_2005_0025.tif\n",
      "saving Coker_Linda_2005_0025.tif\n",
      "e:/Batch2_2.toQC-Color_2/Coker_Linda_2005/Coker_Linda_2005/Coker_Linda_2005_0026.tif\n",
      "saving Coker_Linda_2005_0026.tif\n",
      "e:/Batch2_2.toQC-Color_2/Coker_Linda_2005/Coker_Linda_2005/Coker_Linda_2005_0027.tif\n",
      "saving Coker_Linda_2005_0027.tif\n",
      "e:/Batch2_2.toQC-Color_2/Coker_Linda_2005/Coker_Linda_2005/Coker_Linda_2005_0028.tif\n",
      "saving Coker_Linda_2005_0028.tif\n",
      "e:/Batch2_2.toQC-Color_2/Coker_Linda_2005/Coker_Linda_2005/Coker_Linda_2005_0029.tif\n",
      "saving Coker_Linda_2005_0029.tif\n",
      "e:/Batch2_2.toQC-Color_2/Coker_Linda_2005/Coker_Linda_2005/Coker_Linda_2005_0030.tif\n",
      "saving Coker_Linda_2005_0030.tif\n",
      "e:/Batch2_2.toQC-Color_2/Coker_Linda_2005/Coker_Linda_2005/Coker_Linda_2005_0031.tif\n",
      "saving Coker_Linda_2005_0031.tif\n",
      "e:/Batch2_2.toQC-Color_2/Coker_Linda_2005/Coker_Linda_2005/Coker_Linda_2005_0032.tif\n",
      "saving Coker_Linda_2005_0032.tif\n",
      "e:/Batch2_2.toQC-Color_2/Coker_Linda_2005/Coker_Linda_2005/Coker_Linda_2005_0033.tif\n",
      "saving Coker_Linda_2005_0033.tif\n",
      "e:/Batch2_2.toQC-Color_2/Coker_Linda_2005/Coker_Linda_2005/Coker_Linda_2005_0034.tif\n",
      "saving Coker_Linda_2005_0034.tif\n",
      "e:/Batch2_2.toQC-Color_2/Coker_Linda_2005/Coker_Linda_2005/Coker_Linda_2005_0035.tif\n",
      "saving Coker_Linda_2005_0035.tif\n",
      "e:/Batch2_2.toQC-Color_2/Coker_Linda_2005/Coker_Linda_2005/Coker_Linda_2005_0036.tif\n",
      "saving Coker_Linda_2005_0036.tif\n",
      "e:/Batch2_2.toQC-Color_2/Coker_Linda_2005/Coker_Linda_2005/Coker_Linda_2005_0037.tif\n",
      "saving Coker_Linda_2005_0037.tif\n",
      "e:/Batch2_2.toQC-Color_2/Coker_Linda_2005/Coker_Linda_2005/Coker_Linda_2005_0038.tif\n",
      "saving Coker_Linda_2005_0038.tif\n",
      "e:/Batch2_2.toQC-Color_2/Coker_Linda_2005/Coker_Linda_2005/Coker_Linda_2005_0039.tif\n",
      "saving Coker_Linda_2005_0039.tif\n",
      "e:/Batch2_2.toQC-Color_2/Coker_Linda_2005/Coker_Linda_2005/Coker_Linda_2005_0040.tif\n",
      "saving Coker_Linda_2005_0040.tif\n",
      "e:/Batch2_2.toQC-Color_2/Coker_Linda_2005/Coker_Linda_2005/Coker_Linda_2005_0041.tif\n",
      "saving Coker_Linda_2005_0041.tif\n",
      "e:/Batch2_2.toQC-Color_2/Coker_Linda_2005/Coker_Linda_2005/Coker_Linda_2005_0042.tif\n",
      "saving Coker_Linda_2005_0042.tif\n",
      "e:/Batch2_2.toQC-Color_2/Coker_Linda_2005/Coker_Linda_2005/Coker_Linda_2005_0043.tif\n",
      "saving Coker_Linda_2005_0043.tif\n",
      "e:/Batch2_2.toQC-Color_2/Coker_Linda_2005/Coker_Linda_2005/Coker_Linda_2005_0044.tif\n",
      "saving Coker_Linda_2005_0044.tif\n",
      "e:/Batch2_2.toQC-Color_2/Coker_Linda_2005/Coker_Linda_2005/Coker_Linda_2005_0045.tif\n",
      "saving Coker_Linda_2005_0045.tif\n",
      "e:/Batch2_2.toQC-Color_2/Coker_Linda_2005/Coker_Linda_2005/Coker_Linda_2005_0046.tif\n",
      "saving Coker_Linda_2005_0046.tif\n",
      "e:/Batch2_2.toQC-Color_2/Coker_Linda_2005/Coker_Linda_2005/Coker_Linda_2005_0047.tif\n",
      "saving Coker_Linda_2005_0047.tif\n",
      "e:/Batch2_2.toQC-Color_2/Coker_Linda_2005/Coker_Linda_2005/Coker_Linda_2005_0048.tif\n",
      "saving Coker_Linda_2005_0048.tif\n",
      "e:/Batch2_2.toQC-Color_2/Coker_Linda_2005/Coker_Linda_2005/Coker_Linda_2005_0049.tif\n",
      "saving Coker_Linda_2005_0049.tif\n",
      "e:/Batch2_2.toQC-Color_2/Coker_Linda_2005/Coker_Linda_2005/Coker_Linda_2005_0050.tif\n",
      "saving Coker_Linda_2005_0050.tif\n",
      "e:/Batch2_2.toQC-Color_2/Coker_Linda_2005/Coker_Linda_2005/Coker_Linda_2005_0051.tif\n",
      "saving Coker_Linda_2005_0051.tif\n",
      "e:/Batch2_2.toQC-Color_2/Coker_Linda_2005/Coker_Linda_2005/Coker_Linda_2005_0052.tif\n",
      "saving Coker_Linda_2005_0052.tif\n",
      "e:/Batch2_2.toQC-Color_2/Coker_Linda_2005/Coker_Linda_2005/Coker_Linda_2005_0053.tif\n",
      "saving Coker_Linda_2005_0053.tif\n",
      "e:/Batch2_2.toQC-Color_2/Coker_Linda_2005/Coker_Linda_2005/Coker_Linda_2005_0054.tif\n",
      "saving Coker_Linda_2005_0054.tif\n",
      "e:/Batch2_2.toQC-Color_2/Coker_Linda_2005/Coker_Linda_2005/Coker_Linda_2005_0055.tif\n",
      "saving Coker_Linda_2005_0055.tif\n",
      "e:/Batch2_2.toQC-Color_2/Coker_Linda_2005/Coker_Linda_2005/Coker_Linda_2005_0056.tif\n",
      "saving Coker_Linda_2005_0056.tif\n",
      "e:/Batch2_2.toQC-Color_2/Coker_Linda_2005/Coker_Linda_2005/Coker_Linda_2005_0057.tif\n",
      "saving Coker_Linda_2005_0057.tif\n",
      "e:/Batch2_2.toQC-Color_2/Coker_Linda_2005/Coker_Linda_2005/Coker_Linda_2005_0058.tif\n",
      "saving Coker_Linda_2005_0058.tif\n",
      "e:/Batch2_2.toQC-Color_2/Coker_Linda_2005/Coker_Linda_2005/Coker_Linda_2005_0059.tif\n",
      "saving Coker_Linda_2005_0059.tif\n",
      "e:/Batch2_2.toQC-Color_2/Coker_Linda_2005/Coker_Linda_2005/Coker_Linda_2005_0060.tif\n",
      "saving Coker_Linda_2005_0060.tif\n",
      "e:/Batch2_2.toQC-Color_2/Coker_Linda_2005/Coker_Linda_2005/Coker_Linda_2005_0061.tif\n",
      "saving Coker_Linda_2005_0061.tif\n",
      "e:/Batch2_2.toQC-Color_2/Coker_Linda_2005/Coker_Linda_2005/Coker_Linda_2005_0063.tif\n",
      "saving Coker_Linda_2005_0063.tif\n",
      "e:/Batch2_2.toQC-Color_2/Coker_Linda_2005/Coker_Linda_2005/Coker_Linda_2005_0064.tif\n",
      "saving Coker_Linda_2005_0064.tif\n",
      "e:/Batch2_2.toQC-Color_2/Coker_Linda_2005/Coker_Linda_2005/Coker_Linda_2005_0065.tif\n",
      "saving Coker_Linda_2005_0065.tif\n",
      "e:/Batch2_2.toQC-Color_2/Coker_Linda_2005/Coker_Linda_2005/Coker_Linda_2005_0066.tif\n",
      "saving Coker_Linda_2005_0066.tif\n",
      "e:/Batch2_2.toQC-Color_2/Coker_Linda_2005/Coker_Linda_2005/Coker_Linda_2005_0067.tif\n",
      "saving Coker_Linda_2005_0067.tif\n",
      "e:/Batch2_2.toQC-Color_2/Coker_Linda_2005/Coker_Linda_2005/Coker_Linda_2005_0068.tif\n",
      "saving Coker_Linda_2005_0068.tif\n",
      "e:/Batch2_2.toQC-Color_2/Coker_Linda_2005/Coker_Linda_2005/Coker_Linda_2005_0069.tif\n",
      "saving Coker_Linda_2005_0069.tif\n",
      "e:/Batch2_2.toQC-Color_2/Coker_Linda_2005/Coker_Linda_2005/Coker_Linda_2005_0070.tif\n",
      "saving Coker_Linda_2005_0070.tif\n",
      "e:/Batch2_2.toQC-Color_2/Coker_Linda_2005/Coker_Linda_2005/Coker_Linda_2005_0071.tif\n",
      "saving Coker_Linda_2005_0071.tif\n",
      "e:/Batch2_2.toQC-Color_2/Coker_Linda_2005/Coker_Linda_2005/Coker_Linda_2005_0076.tif\n",
      "saving Coker_Linda_2005_0076.tif\n"
     ]
    },
    {
     "name": "stdout",
     "output_type": "stream",
     "text": [
      "e:/Batch2_2.toQC-Color_2/Coker_Linda_2005/Coker_Linda_2005/Coker_Linda_2005_0077.tif\n",
      "saving Coker_Linda_2005_0077.tif\n",
      "e:/Batch2_2.toQC-Color_2/Coker_Linda_2005/Coker_Linda_2005/Coker_Linda_2005_0078.tif\n",
      "saving Coker_Linda_2005_0078.tif\n",
      "e:/Batch2_2.toQC-Color_2/Coker_Linda_2005/Coker_Linda_2005/Coker_Linda_2005_0079.tif\n",
      "saving Coker_Linda_2005_0079.tif\n",
      "e:/Batch2_2.toQC-Color_2/Coker_Linda_2005/Coker_Linda_2005/Coker_Linda_2005_0080.tif\n",
      "saving Coker_Linda_2005_0080.tif\n",
      "e:/Batch2_2.toQC-Color_2/Coker_Linda_2005/Coker_Linda_2005/Coker_Linda_2005_0081.tif\n",
      "saving Coker_Linda_2005_0081.tif\n",
      "e:/Batch2_2.toQC-Color_2/Coker_Linda_2005/Coker_Linda_2005/Coker_Linda_2005_0082.tif\n",
      "saving Coker_Linda_2005_0082.tif\n",
      "e:/Batch2_2.toQC-Color_2/Coker_Linda_2005/Coker_Linda_2005/Coker_Linda_2005_0083.tif\n",
      "saving Coker_Linda_2005_0083.tif\n",
      "e:/Batch2_2.toQC-Color_2/Coker_Linda_2005/Coker_Linda_2005/Coker_Linda_2005_0086.tif\n",
      "saving Coker_Linda_2005_0086.tif\n",
      "e:/Batch2_2.toQC-Color_2/Coker_Linda_2005/Coker_Linda_2005/Coker_Linda_2005_0087.tif\n",
      "saving Coker_Linda_2005_0087.tif\n",
      "e:/Batch2_2.toQC-Color_2/Coker_Linda_2005/Coker_Linda_2005/Coker_Linda_2005_0088.tif\n",
      "saving Coker_Linda_2005_0088.tif\n",
      "e:/Batch2_2.toQC-Color_2/Coker_Linda_2005/Coker_Linda_2005/Coker_Linda_2005_0089.tif\n",
      "saving Coker_Linda_2005_0089.tif\n",
      "e:/Batch2_2.toQC-Color_2/Coker_Linda_2005/Coker_Linda_2005/Coker_Linda_2005_0090.tif\n",
      "saving Coker_Linda_2005_0090.tif\n",
      "e:/Batch2_2.toQC-Color_2/Coker_Linda_2005/Coker_Linda_2005/Coker_Linda_2005_0091.tif\n",
      "saving Coker_Linda_2005_0091.tif\n",
      "e:/Batch2_2.toQC-Color_2/Coker_Linda_2005/Coker_Linda_2005/Coker_Linda_2005_0092.tif\n",
      "saving Coker_Linda_2005_0092.tif\n",
      "e:/Batch2_2.toQC-Color_2/Coker_Linda_2005/Coker_Linda_2005/Coker_Linda_2005_0093.tif\n",
      "saving Coker_Linda_2005_0093.tif\n",
      "e:/Batch2_2.toQC-Color_2/Coker_Linda_2005/Coker_Linda_2005/Coker_Linda_2005_0094.tif\n",
      "saving Coker_Linda_2005_0094.tif\n",
      "e:/Batch2_2.toQC-Color_2/Coker_Linda_2005/Coker_Linda_2005/Coker_Linda_2005_0095.tif\n",
      "saving Coker_Linda_2005_0095.tif\n",
      "e:/Batch2_2.toQC-Color_2/Coker_Linda_2005/Coker_Linda_2005/Coker_Linda_2005_0096.tif\n",
      "saving Coker_Linda_2005_0096.tif\n",
      "e:/Batch2_2.toQC-Color_2/Coker_Linda_2005/Coker_Linda_2005/Coker_Linda_2005_0097.tif\n",
      "saving Coker_Linda_2005_0097.tif\n",
      "e:/Batch2_2.toQC-Color_2/Coker_Linda_2005/Coker_Linda_2005/Coker_Linda_2005_0098.tif\n",
      "saving Coker_Linda_2005_0098.tif\n",
      "e:/Batch2_2.toQC-Color_2/Coker_Linda_2005/Coker_Linda_2005/Coker_Linda_2005_0099.tif\n",
      "saving Coker_Linda_2005_0099.tif\n",
      "e:/Batch2_2.toQC-Color_2/Coker_Linda_2005/Coker_Linda_2005/Coker_Linda_2005_0100.tif\n",
      "saving Coker_Linda_2005_0100.tif\n",
      "e:/Batch2_2.toQC-Color_2/Copeland_Chad_2005/Copeland_Chad_2005/Copeland_Chad_2005_0046.tif\n",
      "saving Copeland_Chad_2005_0046.tif\n",
      "e:/Batch2_2.toQC-Color_2/Cotter_Bitsy_2004/Cotter_Bitsy_2004/Cotter_Bitsy_2004_0044.tif\n",
      "saving Cotter_Bitsy_2004_0044.tif\n",
      "e:/Batch2_2.toQC-Color_2/Dammeyer_Nathan_2010/Dammeyer_Nathan_2010/Dammeyer_Nathan_2010_0001.tif\n",
      "saving Dammeyer_Nathan_2010_0001.tif\n"
     ]
    }
   ],
   "source": [
    "#saves the images in the list with group 4 compression at 600 ppi\n",
    "for image_path in images_uncompressed_bitonal_list:\n",
    "    path = Path(image_path)\n",
    "    print(image_path)\n",
    "    \n",
    "    image = Image.open(image_path)\n",
    "    image = image.resize((5100, 6600), resample=Image.LANCZOS)\n",
    "    print(f'saving {path.name}')\n",
    "    image.save(image_path, compression='group4', dpi=(600.0, 600.0))"
   ]
  },
  {
   "cell_type": "code",
   "execution_count": null,
   "metadata": {},
   "outputs": [],
   "source": [
    "len(bitonal_400_list)"
   ]
  },
  {
   "cell_type": "code",
   "execution_count": null,
   "metadata": {},
   "outputs": [],
   "source": [
    "# creates a list of images where height and width are NOT the expected 3400 or 4400\n",
    "# run this widget when EXIF height or width values are selected in a ppi_400_gray_df dataframe above\n",
    "for image_path in value_widget.result['SourceFile']:\n",
    "    #image = Image.open(image_path)\n",
    "    #plt.figure()\n",
    "    #plt.title(image_path)\n",
    "    #plt.imshow(image)\n",
    "    \n",
    "    if image_path not in images_to_fix_list:\n",
    "        images_to_fix_list.append(image_path)"
   ]
  },
  {
   "cell_type": "code",
   "execution_count": 17,
   "metadata": {},
   "outputs": [
    {
     "ename": "NameError",
     "evalue": "name 'bitonal_400_list_copied' is not defined",
     "output_type": "error",
     "traceback": [
      "\u001b[1;31m---------------------------------------------------------------------------\u001b[0m",
      "\u001b[1;31mNameError\u001b[0m                                 Traceback (most recent call last)",
      "\u001b[1;32m<ipython-input-17-11616893f094>\u001b[0m in \u001b[0;36m<module>\u001b[1;34m()\u001b[0m\n\u001b[0;32m      1\u001b[0m \u001b[1;31m# lets me know if if the number of files in my list match\u001b[0m\u001b[1;33m\u001b[0m\u001b[1;33m\u001b[0m\u001b[0m\n\u001b[1;32m----> 2\u001b[1;33m \u001b[0mlen\u001b[0m\u001b[1;33m(\u001b[0m\u001b[0mgray_images_list\u001b[0m\u001b[1;33m)\u001b[0m\u001b[1;33m,\u001b[0m \u001b[0mlen\u001b[0m\u001b[1;33m(\u001b[0m\u001b[0mbitonal_400_list_copied\u001b[0m\u001b[1;33m)\u001b[0m\u001b[1;33m\u001b[0m\u001b[0m\n\u001b[0m",
      "\u001b[1;31mNameError\u001b[0m: name 'bitonal_400_list_copied' is not defined"
     ]
    }
   ],
   "source": [
    "# lets me know if if the number of files in my list match\n",
    "len(bitonal_400_list), len(bitonal_400_list_copied)"
   ]
  },
  {
   "cell_type": "code",
   "execution_count": null,
   "metadata": {},
   "outputs": [],
   "source": [
    "# crops an image to the correct dimensions and saves at the correct resolution\n",
    "# important to remember, the crop is from the upper right corner, not evenly on both sides.\n",
    "# use another method for cropping more than a few pixels, bitonal method is above\n",
    "for image_path in images_to_fix_list:\n",
    "    path = Path(image_path)\n",
    "    \n",
    "    print(f'opening {path.name}')\n",
    "    \n",
    "    image = Image.open(image_path)\n",
    "    \n",
    "    image = image.crop(box=(0, 0, 4400, 3400))\n",
    "    image.save(image_path, compression='None', dpi=(400.0, 400.0))"
   ]
  },
  {
   "cell_type": "code",
   "execution_count": null,
   "metadata": {
    "code_folding": [
     0
    ]
   },
   "outputs": [],
   "source": [
    "# moves pdfs to separate folder\n",
    "pdf_directory = 'e:Batch2_2.toQC-Color_1/000_pdfs/'\n",
    "pdf_list = list(qc_directory.glob('**/*.pdf'))\n",
    "for pdf in pdf_list:\n",
    "    shutil.move(str(pdf), pdf_directory)"
   ]
  },
  {
   "cell_type": "code",
   "execution_count": 29,
   "metadata": {},
   "outputs": [],
   "source": [
    "out_path = 'e:/Batch2_2.toQC-Color_2/0_to_fix/'"
   ]
  },
  {
   "cell_type": "code",
   "execution_count": 30,
   "metadata": {},
   "outputs": [
    {
     "data": {
      "text/plain": [
       "WindowsPath('e:/Batch2_2.toQC-Color_2/0_to_fix')"
      ]
     },
     "execution_count": 30,
     "metadata": {},
     "output_type": "execute_result"
    }
   ],
   "source": [
    "check = Path(out_path)\n",
    "check"
   ]
  },
  {
   "cell_type": "code",
   "execution_count": 31,
   "metadata": {},
   "outputs": [],
   "source": [
    "# don't run again -- copies images!\n",
    "for image in move_color_list:\n",
    "    shutil.copy(image, out_path)"
   ]
  },
  {
   "cell_type": "code",
   "execution_count": null,
   "metadata": {},
   "outputs": [],
   "source": [
    "# find bitonal images that are 400ppi\n",
    "ppi_400_bitonal_df = ppi_400_df[ppi_400_df['EXIF:BitsPerSample'] == 1]\n",
    "\n",
    "# list unique directories with 400 ppi bitonal\n",
    "ppi_400_bitonal_df['File:Directory'].unique()"
   ]
  },
  {
   "cell_type": "code",
   "execution_count": 5,
   "metadata": {},
   "outputs": [
    {
     "name": "stdout",
     "output_type": "stream",
     "text": [
      "assume bitonal (0-1mb): 3743\n",
      "assume gray (13-16mb): 293\n",
      "assume color (42-45mb): 458\n",
      "*************************\n",
      "total assumed: 4494\n",
      "total images: 4494\n",
      "*************************\n",
      "images to classify: 0\n"
     ]
    }
   ],
   "source": [
    "# okay, looking at this from a QC perspective:\n",
    "# letter-size 8-bit 400ppi color: 42mb < x < 45mb\n",
    "# letter-size 8-bit 400ppi grayscale: 13mb < x < 16mb\n",
    "# letter-size 1-bit 600ppi bitonal: 0b < x < 1mb\n",
    "\n",
    "# therefore\n",
    "assume_bitonal_df = images_df[images_df['File:FileSize'] < 1048576 ]\n",
    "# grayscale and color; just do the range as 2 processes because I know it works\n",
    "assume_gray_df = images_df[images_df['File:FileSize'] > 13631488]\n",
    "assume_gray_df = assume_gray_df[assume_gray_df['File:FileSize'] < 16777216]\n",
    "assume_color_df = images_df[images_df['File:FileSize'] > 44040192]\n",
    "assume_color_df = assume_color_df[assume_color_df['File:FileSize'] < 47185920]\n",
    "\n",
    "total_assumed_bitonal = len(assume_bitonal_df)\n",
    "total_assumed_gray = len(assume_gray_df)\n",
    "total_assumed_color = len(assume_color_df)\n",
    "total_assumed = total_assumed_bitonal + total_assumed_color + total_assumed_gray\n",
    "\n",
    "print(f\"\"\"assume bitonal (0-1mb): {total_assumed_bitonal}\n",
    "assume gray (13-16mb): {total_assumed_gray}\n",
    "assume color (42-45mb): {total_assumed_color}\n",
    "*************************\n",
    "total assumed: {total_assumed}\n",
    "total images: {len(images_df)}\n",
    "*************************\n",
    "images to classify: {len(images_df) - total_assumed}\"\"\")"
   ]
  },
  {
   "cell_type": "markdown",
   "metadata": {},
   "source": [
    "#####################################################################################################"
   ]
  },
  {
   "cell_type": "markdown",
   "metadata": {},
   "source": [
    "## To fix file naming errors\n"
   ]
  },
  {
   "cell_type": "code",
   "execution_count": 6,
   "metadata": {
    "code_folding": [
     0
    ]
   },
   "outputs": [],
   "source": [
    "# dropdown to see purpose\n",
    "filenaming_error_list = []\n",
    "def check_directory_for_first_tiff(directory,\n",
    "                                   with_extension,\n",
    "                                   zeropad=4,\n",
    "                                  ):\n",
    "    \"\"\"-- Purpose --\n",
    "    Check that directory contains 1 tif per number in the form:\n",
    "    <directory_name>_0001.tif\n",
    "    <directory_name>_nnnn.tif\n",
    "    \n",
    "    -- Arguments --\n",
    "    in_directory: the directory to check for one image per name\n",
    "    with_extensions: takes a list of extensions; must be 1+\n",
    "    zeropad: number of digits to zeropad\n",
    "    \n",
    "    -- Returns -- \n",
    "    TODO\"\"\"\n",
    "    \n",
    "    # get Path to directory\n",
    "    directory_to_check = Path(directory)\n",
    "    \n",
    "    if directory_to_check.is_dir():\n",
    "    \n",
    "        # get directory name by indexing the last part of the Path before the name\n",
    "        directory_name = directory_to_check.parts[-1]\n",
    "    \n",
    "        # Log the directory name\n",
    "        logging.info(f'... checking {directory_name} . . .')\n",
    "        \n",
    "        # get formatted extension\n",
    "        extension = img_qc.get_formatted_extension(with_extension)\n",
    "        \n",
    "        # create file name in form <directory_name>_<zeropad><n>.suffix\n",
    "        file_name_to_test = directory_name + '_' + str(1).zfill(zeropad) + extension\n",
    "        \n",
    "        # create file path\n",
    "        file_path_to_test = Path(directory).joinpath(file_name_to_test)\n",
    "    \n",
    "        # create list of all files in directory\n",
    "        directory_contents_list = list(directory_to_check.glob('**/*'))\n",
    "    \n",
    "        if file_path_to_test.is_file():\n",
    "            # can process image futher here if necessary\n",
    "            pass\n",
    "        else:\n",
    "            # log error \n",
    "            logging.error(f'Filenaming ERROR in {directory}')\n",
    "            # MAJOR ERROR: extra/missing files in the folder with correct extension\n",
    "            # this could be where we move this folder into a new location\n",
    "            # or create/add to a problems.txt for tracking\n",
    "            filenaming_error_list.append(directory)\n",
    "    \n",
    "    # else we error\n",
    "    else:\n",
    "        logging.error(f'NOT A DIRECTORY: {in_directory}')"
   ]
  },
  {
   "cell_type": "code",
   "execution_count": 7,
   "metadata": {},
   "outputs": [
    {
     "name": "stderr",
     "output_type": "stream",
     "text": [
      "2018-08-29 12:10:22,281 - root - INFO - ... checking Chhopel_G_2003 . . .\n",
      "2018-08-29 12:10:22,323 - root - INFO - ... checking Chiroro_Dominic_2012 . . .\n",
      "2018-08-29 12:10:22,356 - root - INFO - ... checking Christenson_Christopher_2004 . . .\n",
      "2018-08-29 12:10:22,457 - root - INFO - ... checking Clanton_Greg_2006 . . .\n",
      "2018-08-29 12:10:22,478 - root - INFO - ... checking Coats_Christine_1997 . . .\n",
      "2018-08-29 12:10:22,551 - root - INFO - ... checking Coder_Shelby_2012 . . .\n",
      "2018-08-29 12:10:22,619 - root - INFO - ... checking Cody_Melissa_2002 . . .\n",
      "2018-08-29 12:10:22,624 - root - INFO - ... checking Cohen_Katrina_2008 . . .\n",
      "2018-08-29 12:10:22,645 - root - INFO - ... checking Coker_Linda_2005 . . .\n",
      "2018-08-29 12:10:22,666 - root - INFO - ... checking Cole_Dennis_2003 . . .\n",
      "2018-08-29 12:10:22,702 - root - INFO - ... checking Collins_Brian_1997 . . .\n",
      "2018-08-29 12:10:22,756 - root - INFO - ... checking Collins_Margaret_2009 . . .\n",
      "2018-08-29 12:10:22,774 - root - INFO - ... checking Colvin_Corrie_2007 . . .\n",
      "2018-08-29 12:10:22,821 - root - INFO - ... checking Connell_Wesley_2009 . . .\n",
      "2018-08-29 12:10:22,837 - root - INFO - ... checking Connolly_Michael_2007 . . .\n",
      "2018-08-29 12:10:22,899 - root - INFO - ... checking Contreras_Guadalupe_2001 . . .\n",
      "2018-08-29 12:10:22,929 - root - INFO - ... checking Conyers_Mindy_2003 . . .\n",
      "2018-08-29 12:10:23,001 - root - INFO - ... checking Cooke_Maria_2012 . . .\n",
      "2018-08-29 12:10:23,030 - root - INFO - ... checking Cooksey_Matthew_2007 . . .\n",
      "2018-08-29 12:10:23,058 - root - INFO - ... checking Cooper_Beth_2005 . . .\n",
      "2018-08-29 12:10:23,126 - root - INFO - ... checking Copeland_Chad_2005 . . .\n",
      "2018-08-29 12:10:23,178 - root - INFO - ... checking Cotten_Reese_2010 . . .\n",
      "2018-08-29 12:10:23,222 - root - INFO - ... checking Cotter_Bitsy_2004 . . .\n",
      "2018-08-29 12:10:23,264 - root - INFO - ... checking Crittenden_Elizabeth_2008 . . .\n",
      "2018-08-29 12:10:23,284 - root - INFO - ... checking Crosby_Sergio_2006 . . .\n",
      "2018-08-29 12:10:23,310 - root - INFO - ... checking Crowell_Lindsay_2012 . . .\n",
      "2018-08-29 12:10:23,352 - root - INFO - ... checking Cryer_Gregory_2003 . . .\n",
      "2018-08-29 12:10:23,399 - root - INFO - ... checking Curtis_Stephen_2012 . . .\n",
      "2018-08-29 12:10:23,424 - root - INFO - ... checking Dalton_Jesse_2011 . . .\n",
      "2018-08-29 12:10:23,494 - root - INFO - ... checking Dammeyer_Nathan_2010 . . .\n",
      "2018-08-29 12:10:23,513 - root - INFO - ... checking Daniels_Christina_2001 . . .\n",
      "2018-08-29 12:10:23,564 - root - INFO - ... checking Davis_Jeffrey_2009 . . .\n",
      "2018-08-29 12:10:23,617 - root - INFO - ... checking DeLeon_Robert_2010 . . .\n",
      "2018-08-29 12:10:23,682 - root - INFO - ... checking DeSimone_Ivy_2001 . . .\n",
      "2018-08-29 12:10:23,706 - root - INFO - ... checking Deal_Julia_2002 . . .\n",
      "2018-08-29 12:10:23,751 - root - INFO - ... checking Dean_Roy_2002 . . .\n",
      "2018-08-29 12:10:23,758 - root - INFO - ... checking Dekar_Aicha_2000 . . .\n",
      "2018-08-29 12:10:23,804 - root - INFO - ... checking Denena_Melissa_2002 . . .\n",
      "2018-08-29 12:10:23,811 - root - INFO - ... checking Dennis_Kristine_2003 . . .\n",
      "2018-08-29 12:10:23,845 - root - INFO - ... checking DiMichele_Daniel_2010 . . .\n",
      "2018-08-29 12:10:23,877 - root - INFO - ... checking Diaz_Peter_2010 . . .\n",
      "2018-08-29 12:10:23,906 - root - INFO - ... checking Dickerson_Brian_2010 . . .\n",
      "2018-08-29 12:10:23,924 - root - INFO - ... checking Dickerson_Candice_2008 . . .\n",
      "2018-08-29 12:10:23,958 - root - INFO - ... checking Dix_Ross_2008 . . .\n",
      "2018-08-29 12:10:23,975 - root - INFO - ... checking Dixson_Jamie_2001 . . .\n",
      "2018-08-29 12:10:24,010 - root - INFO - ... checking Doddameti_Sandesh_2003 . . .\n",
      "2018-08-29 12:10:24,081 - root - INFO - ... checking Dodson_Darren_2001 . . .\n",
      "2018-08-29 12:10:24,115 - root - INFO - ... checking Donahue_Patricia_2004 . . .\n"
     ]
    }
   ],
   "source": [
    "directory_list = sorted(images_df['File:Directory'].unique())\n",
    "for directory in directory_list:\n",
    "    check_directory_for_first_tiff(directory, 'tif')"
   ]
  },
  {
   "cell_type": "code",
   "execution_count": 8,
   "metadata": {},
   "outputs": [
    {
     "data": {
      "text/plain": [
       "[]"
      ]
     },
     "execution_count": 8,
     "metadata": {},
     "output_type": "execute_result"
    }
   ],
   "source": [
    "filenaming_error_list"
   ]
  },
  {
   "cell_type": "code",
   "execution_count": null,
   "metadata": {
    "code_folding": [
     0
    ]
   },
   "outputs": [],
   "source": [
    "def rename_directory(directory, extension, zeropad=4):\n",
    "    \n",
    "    # get Path to directory\n",
    "    directory_to_rename = Path(directory)\n",
    "    \n",
    "    # get formatted extension\n",
    "    extension = img_qc.get_formatted_extension(extension)\n",
    "    \n",
    "    if directory_to_rename.is_dir():\n",
    "    \n",
    "        # get directory name by indexing the last part of the Path before the name\n",
    "        directory_name = directory_to_rename.parts[-1]\n",
    "        \n",
    "        print(directory_name)\n",
    "        \n",
    "        # create glob abbreviation\n",
    "        files_to_glob = '*' + extension\n",
    "        \n",
    "        # get list of files in directory\n",
    "        file_list = directory_to_rename.glob(files_to_glob)\n",
    "        \n",
    "        # sort file list\n",
    "        file_list = sorted(file_list)\n",
    "        \n",
    "        # iterate over file list\n",
    "        for index, file in enumerate(file_list, start=1):\n",
    "            \n",
    "            # set new filename\n",
    "            new_filename = directory_name + '_' + str(index).zfill(zeropad*2) + extension\n",
    "            \n",
    "            # get old path\n",
    "            old_path = Path(file)\n",
    "            \n",
    "            # set new path\n",
    "            new_path = directory_to_rename.joinpath(new_filename)\n",
    "            \n",
    "            # rename files\n",
    "            old_path.rename(new_path)\n",
    "        \n",
    "        # get list of files in directory\n",
    "        file_list = directory_to_rename.glob(files_to_glob)\n",
    "        \n",
    "        # sort file list\n",
    "        file_list = sorted(file_list)\n",
    "            \n",
    "        # iterate over file list\n",
    "        for index, file in enumerate(file_list, start=1):\n",
    "            \n",
    "            # set new filename\n",
    "            new_filename = directory_name + '_' + str(index).zfill(zeropad) + extension\n",
    "            \n",
    "            # get old path\n",
    "            old_path = Path(file)\n",
    "            \n",
    "            # set new path\n",
    "            new_path = directory_to_rename.joinpath(new_filename)\n",
    "            \n",
    "            # rename files\n",
    "            old_path.rename(new_path)"
   ]
  },
  {
   "cell_type": "code",
   "execution_count": null,
   "metadata": {
    "code_folding": [
     0
    ]
   },
   "outputs": [],
   "source": [
    "for directory in filenaming_error_list:\n",
    "    rename_directory(directory, 'tif')"
   ]
  },
  {
   "cell_type": "markdown",
   "metadata": {},
   "source": [
    "#####################################################################################################"
   ]
  },
  {
   "cell_type": "markdown",
   "metadata": {},
   "source": [
    "## MRC record and Pagination check"
   ]
  },
  {
   "cell_type": "code",
   "execution_count": 28,
   "metadata": {
    "scrolled": true
   },
   "outputs": [
    {
     "data": {
      "text/plain": [
       "['e:/Batch2_2.toQC-Color_2/Chhopel_G_2003/Chhopel_G_2003',\n",
       " 'e:/Batch2_2.toQC-Color_2/Chiroro_Dominic_2012/Chiroro_Dominic_2012',\n",
       " 'e:/Batch2_2.toQC-Color_2/Christenson_Christopher_2004/Christenson_Christopher_2004',\n",
       " 'e:/Batch2_2.toQC-Color_2/Clanton_Greg_2006/Clanton_Greg_2006',\n",
       " 'e:/Batch2_2.toQC-Color_2/Coats_Christine_1997/Coats_Christine_1997',\n",
       " 'e:/Batch2_2.toQC-Color_2/Coder_Shelby_2012/Coder_Shelby_2012',\n",
       " 'e:/Batch2_2.toQC-Color_2/Cody_Melissa_2002/Cody_Melissa_2002',\n",
       " 'e:/Batch2_2.toQC-Color_2/Cohen_Katrina_2008/Cohen_Katrina_2008',\n",
       " 'e:/Batch2_2.toQC-Color_2/Coker_Linda_2005/Coker_Linda_2005',\n",
       " 'e:/Batch2_2.toQC-Color_2/Cole_Dennis_2003/Cole_Dennis_2003',\n",
       " 'e:/Batch2_2.toQC-Color_2/Collins_Brian_1997/Collins_Brian_1997',\n",
       " 'e:/Batch2_2.toQC-Color_2/Collins_Margaret_2009/Collins_Margaret_2009',\n",
       " 'e:/Batch2_2.toQC-Color_2/Colvin_Corrie_2007/Colvin_Corrie_2007',\n",
       " 'e:/Batch2_2.toQC-Color_2/Connell_Wesley_2009/Connell_Wesley_2009',\n",
       " 'e:/Batch2_2.toQC-Color_2/Connolly_Michael_2007/Connolly_Michael_2007',\n",
       " 'e:/Batch2_2.toQC-Color_2/Contreras_Guadalupe_2001/Contreras_Guadalupe_2001',\n",
       " 'e:/Batch2_2.toQC-Color_2/Conyers_Mindy_2003/Conyers_Mindy_2003',\n",
       " 'e:/Batch2_2.toQC-Color_2/Cooke_Maria_2012/Cooke_Maria_2012',\n",
       " 'e:/Batch2_2.toQC-Color_2/Cooksey_Matthew_2007/Cooksey_Matthew_2007',\n",
       " 'e:/Batch2_2.toQC-Color_2/Cooper_Beth_2005/Cooper_Beth_2005',\n",
       " 'e:/Batch2_2.toQC-Color_2/Copeland_Chad_2005/Copeland_Chad_2005',\n",
       " 'e:/Batch2_2.toQC-Color_2/Cotten_Reese_2010/Cotten_Reese_2010',\n",
       " 'e:/Batch2_2.toQC-Color_2/Cotter_Bitsy_2004/Cotter_Bitsy_2004',\n",
       " 'e:/Batch2_2.toQC-Color_2/Crittenden_Elizabeth_2008/Crittenden_Elizabeth_2008',\n",
       " 'e:/Batch2_2.toQC-Color_2/Crosby_Sergio_2006/Crosby_Sergio_2006',\n",
       " 'e:/Batch2_2.toQC-Color_2/Crowell_Lindsay_2012/Crowell_Lindsay_2012',\n",
       " 'e:/Batch2_2.toQC-Color_2/Cryer_Gregory_2003/Cryer_Gregory_2003',\n",
       " 'e:/Batch2_2.toQC-Color_2/Curtis_Stephen_2012/Curtis_Stephen_2012',\n",
       " 'e:/Batch2_2.toQC-Color_2/Dalton_Jesse_2011/Dalton_Jesse_2011',\n",
       " 'e:/Batch2_2.toQC-Color_2/Dammeyer_Nathan_2010/Dammeyer_Nathan_2010',\n",
       " 'e:/Batch2_2.toQC-Color_2/Daniels_Christina_2001/Daniels_Christina_2001',\n",
       " 'e:/Batch2_2.toQC-Color_2/Davis_Jeffrey_2009/Davis_Jeffrey_2009',\n",
       " 'e:/Batch2_2.toQC-Color_2/DeLeon_Robert_2010/DeLeon_Robert_2010',\n",
       " 'e:/Batch2_2.toQC-Color_2/DeSimone_Ivy_2001/DeSimone_Ivy_2001',\n",
       " 'e:/Batch2_2.toQC-Color_2/Deal_Julia_2002/Deal_Julia_2002',\n",
       " 'e:/Batch2_2.toQC-Color_2/Dean_Roy_2002/Dean_Roy_2002',\n",
       " 'e:/Batch2_2.toQC-Color_2/Dekar_Aicha_2000/Dekar_Aicha_2000',\n",
       " 'e:/Batch2_2.toQC-Color_2/Denena_Melissa_2002/Denena_Melissa_2002',\n",
       " 'e:/Batch2_2.toQC-Color_2/Dennis_Kristine_2003/Dennis_Kristine_2003',\n",
       " 'e:/Batch2_2.toQC-Color_2/DiMichele_Daniel_2010/DiMichele_Daniel_2010',\n",
       " 'e:/Batch2_2.toQC-Color_2/Diaz_Peter_2010/Diaz_Peter_2010',\n",
       " 'e:/Batch2_2.toQC-Color_2/Dickerson_Brian_2010/Dickerson_Brian_2010',\n",
       " 'e:/Batch2_2.toQC-Color_2/Dickerson_Candice_2008/Dickerson_Candice_2008',\n",
       " 'e:/Batch2_2.toQC-Color_2/Dix_Ross_2008/Dix_Ross_2008',\n",
       " 'e:/Batch2_2.toQC-Color_2/Dixson_Jamie_2001/Dixson_Jamie_2001',\n",
       " 'e:/Batch2_2.toQC-Color_2/Doddameti_Sandesh_2003/Doddameti_Sandesh_2003',\n",
       " 'e:/Batch2_2.toQC-Color_2/Dodson_Darren_2001/Dodson_Darren_2001',\n",
       " 'e:/Batch2_2.toQC-Color_2/Donahue_Patricia_2004/Donahue_Patricia_2004']"
      ]
     },
     "execution_count": 28,
     "metadata": {},
     "output_type": "execute_result"
    }
   ],
   "source": [
    "directories_list = sorted(images_df['File:Directory'].unique())\n",
    "directories_list"
   ]
  },
  {
   "cell_type": "code",
   "execution_count": 29,
   "metadata": {
    "code_folding": []
   },
   "outputs": [
    {
     "name": "stderr",
     "output_type": "stream",
     "text": [
      "2018-08-15 16:36:34,130 - root - INFO - ... checking Chhopel_G_2003 . . .\n",
      "2018-08-15 16:36:34,133 - root - WARNING - ***UNEXPECTED NOT ENDING IN '.tif': [WindowsPath('e:/Batch2_2.toQC-Color_2/Chhopel_G_2003/Chhopel_G_2003/Chhopel_G_2003.mrc')]\n",
      "2018-08-15 16:36:34,137 - root - INFO - ... checking Chiroro_Dominic_2012 . . .\n",
      "2018-08-15 16:36:34,139 - root - WARNING - ***UNEXPECTED NOT ENDING IN '.tif': [WindowsPath('e:/Batch2_2.toQC-Color_2/Chiroro_Dominic_2012/Chiroro_Dominic_2012/Chiroro_Dominic_2012.mrc')]\n",
      "2018-08-15 16:36:34,143 - root - INFO - ... checking Christenson_Christopher_2004 . . .\n",
      "2018-08-15 16:36:34,146 - root - WARNING - ***UNEXPECTED NOT ENDING IN '.tif': [WindowsPath('e:/Batch2_2.toQC-Color_2/Christenson_Christopher_2004/Christenson_Christopher_2004/Christenson_Christopher_2004.mrc')]\n",
      "2018-08-15 16:36:34,153 - root - INFO - ... checking Clanton_Greg_2006 . . .\n",
      "2018-08-15 16:36:34,155 - root - WARNING - ***UNEXPECTED NOT ENDING IN '.tif': [WindowsPath('e:/Batch2_2.toQC-Color_2/Clanton_Greg_2006/Clanton_Greg_2006/Clanton_Greg_2006.mrc')]\n",
      "2018-08-15 16:36:34,158 - root - INFO - ... checking Coats_Christine_1997 . . .\n",
      "2018-08-15 16:36:34,161 - root - WARNING - ***UNEXPECTED NOT ENDING IN '.tif': [WindowsPath('e:/Batch2_2.toQC-Color_2/Coats_Christine_1997/Coats_Christine_1997/Coats_Christine_1997.mrc')]\n",
      "2018-08-15 16:36:34,170 - root - INFO - ... checking Coder_Shelby_2012 . . .\n",
      "2018-08-15 16:36:34,173 - root - WARNING - ***UNEXPECTED NOT ENDING IN '.tif': [WindowsPath('e:/Batch2_2.toQC-Color_2/Coder_Shelby_2012/Coder_Shelby_2012/Coder_Shelby_2012.mrc')]\n",
      "2018-08-15 16:36:34,181 - root - INFO - ... checking Cody_Melissa_2002 . . .\n",
      "2018-08-15 16:36:34,183 - root - WARNING - ***UNEXPECTED NOT ENDING IN '.tif': [WindowsPath('e:/Batch2_2.toQC-Color_2/Cody_Melissa_2002/Cody_Melissa_2002/Cody_Melissa_2002.mrc')]\n",
      "2018-08-15 16:36:34,188 - root - INFO - ... checking Cohen_Katrina_2008 . . .\n",
      "2018-08-15 16:36:34,190 - root - WARNING - ***UNEXPECTED NOT ENDING IN '.tif': [WindowsPath('e:/Batch2_2.toQC-Color_2/Cohen_Katrina_2008/Cohen_Katrina_2008/Cohen_Katrina_2008.mrc')]\n",
      "2018-08-15 16:36:34,193 - root - INFO - ... checking Coker_Linda_2005 . . .\n",
      "2018-08-15 16:36:34,195 - root - WARNING - ***UNEXPECTED NOT ENDING IN '.tif': [WindowsPath('e:/Batch2_2.toQC-Color_2/Coker_Linda_2005/Coker_Linda_2005/Coker_Linda_2005.mrc')]\n",
      "2018-08-15 16:36:34,201 - root - INFO - ... checking Cole_Dennis_2003 . . .\n",
      "2018-08-15 16:36:34,204 - root - WARNING - ***UNEXPECTED NOT ENDING IN '.tif': [WindowsPath('e:/Batch2_2.toQC-Color_2/Cole_Dennis_2003/Cole_Dennis_2003/Cole_Dennis_2003.mrc')]\n",
      "2018-08-15 16:36:34,215 - root - INFO - ... checking Collins_Brian_1997 . . .\n",
      "2018-08-15 16:36:34,217 - root - WARNING - ***UNEXPECTED NOT ENDING IN '.tif': [WindowsPath('e:/Batch2_2.toQC-Color_2/Collins_Brian_1997/Collins_Brian_1997/Collins_Brian_1997.mrc')]\n",
      "2018-08-15 16:36:34,228 - root - INFO - ... checking Collins_Margaret_2009 . . .\n",
      "2018-08-15 16:36:34,230 - root - WARNING - ***UNEXPECTED NOT ENDING IN '.tif': [WindowsPath('e:/Batch2_2.toQC-Color_2/Collins_Margaret_2009/Collins_Margaret_2009/Collins_Margaret_2009.mrc')]\n",
      "2018-08-15 16:36:34,233 - root - INFO - ... checking Colvin_Corrie_2007 . . .\n",
      "2018-08-15 16:36:34,235 - root - WARNING - ***UNEXPECTED NOT ENDING IN '.tif': [WindowsPath('e:/Batch2_2.toQC-Color_2/Colvin_Corrie_2007/Colvin_Corrie_2007/Colvin_Corrie_2007.mrc')]\n",
      "2018-08-15 16:36:34,239 - root - INFO - ... checking Connell_Wesley_2009 . . .\n",
      "2018-08-15 16:36:34,241 - root - WARNING - ***UNEXPECTED NOT ENDING IN '.tif': [WindowsPath('e:/Batch2_2.toQC-Color_2/Connell_Wesley_2009/Connell_Wesley_2009/Connell_Wesley_2009.mrc')]\n",
      "2018-08-15 16:36:34,245 - root - INFO - ... checking Connolly_Michael_2007 . . .\n",
      "2018-08-15 16:36:34,248 - root - WARNING - ***UNEXPECTED NOT ENDING IN '.tif': [WindowsPath('e:/Batch2_2.toQC-Color_2/Connolly_Michael_2007/Connolly_Michael_2007/Connolly_Michael_2007.mrc')]\n",
      "2018-08-15 16:36:34,252 - root - INFO - ... checking Contreras_Guadalupe_2001 . . .\n",
      "2018-08-15 16:36:34,255 - root - WARNING - ***UNEXPECTED NOT ENDING IN '.tif': [WindowsPath('e:/Batch2_2.toQC-Color_2/Contreras_Guadalupe_2001/Contreras_Guadalupe_2001/Contreras_Guadalupe_2001.mrc')]\n",
      "2018-08-15 16:36:34,260 - root - INFO - ... checking Conyers_Mindy_2003 . . .\n",
      "2018-08-15 16:36:34,262 - root - WARNING - ***UNEXPECTED NOT ENDING IN '.tif': [WindowsPath('e:/Batch2_2.toQC-Color_2/Conyers_Mindy_2003/Conyers_Mindy_2003/Conyers_Mindy_2003.mrc')]\n",
      "2018-08-15 16:36:34,268 - root - INFO - ... checking Cooke_Maria_2012 . . .\n",
      "2018-08-15 16:36:34,270 - root - WARNING - ***UNEXPECTED NOT ENDING IN '.tif': [WindowsPath('e:/Batch2_2.toQC-Color_2/Cooke_Maria_2012/Cooke_Maria_2012/Cooke_Maria_2012.mrc')]\n",
      "2018-08-15 16:36:34,273 - root - INFO - ... checking Cooksey_Matthew_2007 . . .\n",
      "2018-08-15 16:36:34,275 - root - WARNING - ***UNEXPECTED NOT ENDING IN '.tif': [WindowsPath('e:/Batch2_2.toQC-Color_2/Cooksey_Matthew_2007/Cooksey_Matthew_2007/Cooksey_Matthew_2007.mrc')]\n",
      "2018-08-15 16:36:34,279 - root - INFO - ... checking Cooper_Beth_2005 . . .\n",
      "2018-08-15 16:36:34,281 - root - WARNING - ***UNEXPECTED NOT ENDING IN '.tif': [WindowsPath('e:/Batch2_2.toQC-Color_2/Cooper_Beth_2005/Cooper_Beth_2005/Cooper_Beth_2005.mrc')]\n",
      "2018-08-15 16:36:34,287 - root - INFO - ... checking Copeland_Chad_2005 . . .\n",
      "2018-08-15 16:36:34,288 - root - WARNING - ***UNEXPECTED NOT ENDING IN '.tif': [WindowsPath('e:/Batch2_2.toQC-Color_2/Copeland_Chad_2005/Copeland_Chad_2005/Copeland_Chad_2005.mrc')]\n",
      "2018-08-15 16:36:34,292 - root - INFO - ... checking Cotten_Reese_2010 . . .\n",
      "2018-08-15 16:36:34,294 - root - WARNING - ***UNEXPECTED NOT ENDING IN '.tif': [WindowsPath('e:/Batch2_2.toQC-Color_2/Cotten_Reese_2010/Cotten_Reese_2010/Cotten_Reese_2010.mrc')]\n",
      "2018-08-15 16:36:34,299 - root - INFO - ... checking Cotter_Bitsy_2004 . . .\n",
      "2018-08-15 16:36:34,300 - root - WARNING - ***UNEXPECTED NOT ENDING IN '.tif': [WindowsPath('e:/Batch2_2.toQC-Color_2/Cotter_Bitsy_2004/Cotter_Bitsy_2004/Cotter_Bitsy_2004.mrc')]\n",
      "2018-08-15 16:36:34,305 - root - INFO - ... checking Crittenden_Elizabeth_2008 . . .\n",
      "2018-08-15 16:36:34,306 - root - WARNING - ***UNEXPECTED NOT ENDING IN '.tif': [WindowsPath('e:/Batch2_2.toQC-Color_2/Crittenden_Elizabeth_2008/Crittenden_Elizabeth_2008/Crittenden_Elizabeth_2008.mrc')]\n",
      "2018-08-15 16:36:34,309 - root - INFO - ... checking Crosby_Sergio_2006 . . .\n",
      "2018-08-15 16:36:34,311 - root - WARNING - ***UNEXPECTED NOT ENDING IN '.tif': [WindowsPath('e:/Batch2_2.toQC-Color_2/Crosby_Sergio_2006/Crosby_Sergio_2006/Crosby_Sergio_2006.mrc')]\n",
      "2018-08-15 16:36:34,314 - root - INFO - ... checking Crowell_Lindsay_2012 . . .\n",
      "2018-08-15 16:36:34,316 - root - WARNING - ***UNEXPECTED NOT ENDING IN '.tif': [WindowsPath('e:/Batch2_2.toQC-Color_2/Crowell_Lindsay_2012/Crowell_Lindsay_2012/Crowell_Lindsay_2012.mrc')]\n",
      "2018-08-15 16:36:34,321 - root - INFO - ... checking Cryer_Gregory_2003 . . .\n",
      "2018-08-15 16:36:34,323 - root - WARNING - ***UNEXPECTED NOT ENDING IN '.tif': [WindowsPath('e:/Batch2_2.toQC-Color_2/Cryer_Gregory_2003/Cryer_Gregory_2003/Cryer_Gregory_2003.mrc')]\n",
      "2018-08-15 16:36:34,327 - root - INFO - ... checking Curtis_Stephen_2012 . . .\n",
      "2018-08-15 16:36:34,328 - root - WARNING - ***UNEXPECTED NOT ENDING IN '.tif': [WindowsPath('e:/Batch2_2.toQC-Color_2/Curtis_Stephen_2012/Curtis_Stephen_2012/Curtis_Stephen_2012.mrc')]\n",
      "2018-08-15 16:36:34,332 - root - INFO - ... checking Dalton_Jesse_2011 . . .\n",
      "2018-08-15 16:36:34,335 - root - WARNING - ***UNEXPECTED NOT ENDING IN '.tif': [WindowsPath('e:/Batch2_2.toQC-Color_2/Dalton_Jesse_2011/Dalton_Jesse_2011/Dalton_Jesse_2011.mrc')]\n",
      "2018-08-15 16:36:34,348 - root - INFO - ... checking Dammeyer_Nathan_2010 . . .\n",
      "2018-08-15 16:36:34,350 - root - WARNING - ***UNEXPECTED NOT ENDING IN '.tif': [WindowsPath('e:/Batch2_2.toQC-Color_2/Dammeyer_Nathan_2010/Dammeyer_Nathan_2010/Dammeyer_Nathan_2010.mrc')]\n",
      "2018-08-15 16:36:34,353 - root - INFO - ... checking Daniels_Christina_2001 . . .\n",
      "2018-08-15 16:36:34,355 - root - WARNING - ***UNEXPECTED NOT ENDING IN '.tif': [WindowsPath('e:/Batch2_2.toQC-Color_2/Daniels_Christina_2001/Daniels_Christina_2001/Daniels_Christina_2001.mrc')]\n",
      "2018-08-15 16:36:34,360 - root - INFO - ... checking Davis_Jeffrey_2009 . . .\n"
     ]
    },
    {
     "name": "stderr",
     "output_type": "stream",
     "text": [
      "2018-08-15 16:36:34,362 - root - WARNING - ***UNEXPECTED NOT ENDING IN '.tif': [WindowsPath('e:/Batch2_2.toQC-Color_2/Davis_Jeffrey_2009/Davis_Jeffrey_2009/Davis_Jeffrey_2009.mrc')]\n",
      "2018-08-15 16:36:34,366 - root - INFO - ... checking DeLeon_Robert_2010 . . .\n",
      "2018-08-15 16:36:34,368 - root - WARNING - ***UNEXPECTED NOT ENDING IN '.tif': [WindowsPath('e:/Batch2_2.toQC-Color_2/DeLeon_Robert_2010/DeLeon_Robert_2010/DeLeon_Robert_2010.mrc')]\n",
      "2018-08-15 16:36:34,379 - root - INFO - ... checking DeSimone_Ivy_2001 . . .\n",
      "2018-08-15 16:36:34,381 - root - WARNING - ***UNEXPECTED NOT ENDING IN '.tif': [WindowsPath('e:/Batch2_2.toQC-Color_2/DeSimone_Ivy_2001/DeSimone_Ivy_2001/DeSimone_Ivy_2001.mrc')]\n",
      "2018-08-15 16:36:34,384 - root - INFO - ... checking Deal_Julia_2002 . . .\n",
      "2018-08-15 16:36:34,385 - root - WARNING - ***UNEXPECTED NOT ENDING IN '.tif': [WindowsPath('e:/Batch2_2.toQC-Color_2/Deal_Julia_2002/Deal_Julia_2002/Deal_Julia_2002.mrc')]\n",
      "2018-08-15 16:36:34,392 - root - INFO - ... checking Dean_Roy_2002 . . .\n",
      "2018-08-15 16:36:34,393 - root - WARNING - ***UNEXPECTED NOT ENDING IN '.tif': [WindowsPath('e:/Batch2_2.toQC-Color_2/Dean_Roy_2002/Dean_Roy_2002/Dean_Roy_2002.mrc')]\n",
      "2018-08-15 16:36:34,397 - root - INFO - ... checking Dekar_Aicha_2000 . . .\n",
      "2018-08-15 16:36:34,399 - root - WARNING - ***UNEXPECTED NOT ENDING IN '.tif': [WindowsPath('e:/Batch2_2.toQC-Color_2/Dekar_Aicha_2000/Dekar_Aicha_2000/Dekar_Aicha_2000.mrc')]\n",
      "2018-08-15 16:36:34,403 - root - INFO - ... checking Denena_Melissa_2002 . . .\n",
      "2018-08-15 16:36:34,405 - root - WARNING - ***UNEXPECTED NOT ENDING IN '.tif': [WindowsPath('e:/Batch2_2.toQC-Color_2/Denena_Melissa_2002/Denena_Melissa_2002/Denena_Melissa_2002.mrc')]\n",
      "2018-08-15 16:36:34,409 - root - INFO - ... checking Dennis_Kristine_2003 . . .\n",
      "2018-08-15 16:36:34,411 - root - WARNING - ***UNEXPECTED NOT ENDING IN '.tif': [WindowsPath('e:/Batch2_2.toQC-Color_2/Dennis_Kristine_2003/Dennis_Kristine_2003/Dennis_Kristine_2003.mrc')]\n",
      "2018-08-15 16:36:34,415 - root - INFO - ... checking DiMichele_Daniel_2010 . . .\n",
      "2018-08-15 16:36:34,417 - root - WARNING - ***UNEXPECTED NOT ENDING IN '.tif': [WindowsPath('e:/Batch2_2.toQC-Color_2/DiMichele_Daniel_2010/DiMichele_Daniel_2010/DiMichele_Daniel_2010.mrc')]\n",
      "2018-08-15 16:36:34,420 - root - INFO - ... checking Diaz_Peter_2010 . . .\n",
      "2018-08-15 16:36:34,422 - root - WARNING - ***UNEXPECTED NOT ENDING IN '.tif': [WindowsPath('e:/Batch2_2.toQC-Color_2/Diaz_Peter_2010/Diaz_Peter_2010/Diaz_Peter_2010.mrc')]\n",
      "2018-08-15 16:36:34,426 - root - INFO - ... checking Dickerson_Brian_2010 . . .\n",
      "2018-08-15 16:36:34,428 - root - WARNING - ***UNEXPECTED NOT ENDING IN '.tif': [WindowsPath('e:/Batch2_2.toQC-Color_2/Dickerson_Brian_2010/Dickerson_Brian_2010/Dickerson_Brian_2010.mrc')]\n",
      "2018-08-15 16:36:34,433 - root - INFO - ... checking Dickerson_Candice_2008 . . .\n",
      "2018-08-15 16:36:34,435 - root - WARNING - ***UNEXPECTED NOT ENDING IN '.tif': [WindowsPath('e:/Batch2_2.toQC-Color_2/Dickerson_Candice_2008/Dickerson_Candice_2008/Dickerson_Candice_2008.mrc')]\n",
      "2018-08-15 16:36:34,442 - root - INFO - ... checking Dix_Ross_2008 . . .\n",
      "2018-08-15 16:36:34,444 - root - WARNING - ***UNEXPECTED NOT ENDING IN '.tif': [WindowsPath('e:/Batch2_2.toQC-Color_2/Dix_Ross_2008/Dix_Ross_2008/Dix_Ross_2008.mrc')]\n",
      "2018-08-15 16:36:34,448 - root - INFO - ... checking Dixson_Jamie_2001 . . .\n",
      "2018-08-15 16:36:34,450 - root - WARNING - ***UNEXPECTED NOT ENDING IN '.tif': [WindowsPath('e:/Batch2_2.toQC-Color_2/Dixson_Jamie_2001/Dixson_Jamie_2001/Dixson_Jamie_2001.mrc')]\n",
      "2018-08-15 16:36:34,455 - root - INFO - ... checking Doddameti_Sandesh_2003 . . .\n",
      "2018-08-15 16:36:34,458 - root - WARNING - ***UNEXPECTED NOT ENDING IN '.tif': [WindowsPath('e:/Batch2_2.toQC-Color_2/Doddameti_Sandesh_2003/Doddameti_Sandesh_2003/Doddameti_Sandesh_2003.mrc')]\n",
      "2018-08-15 16:36:34,469 - root - INFO - ... checking Dodson_Darren_2001 . . .\n",
      "2018-08-15 16:36:34,471 - root - WARNING - ***UNEXPECTED NOT ENDING IN '.tif': [WindowsPath('e:/Batch2_2.toQC-Color_2/Dodson_Darren_2001/Dodson_Darren_2001/Dodson_Darren_2001.mrc')]\n",
      "2018-08-15 16:36:34,475 - root - INFO - ... checking Donahue_Patricia_2004 . . .\n",
      "2018-08-15 16:36:34,477 - root - WARNING - ***UNEXPECTED NOT ENDING IN '.tif': [WindowsPath('e:/Batch2_2.toQC-Color_2/Donahue_Patricia_2004/Donahue_Patricia_2004/Donahue_Patricia_2004.mrc')]\n"
     ]
    }
   ],
   "source": [
    "for directory in directories_list:\n",
    "    img_qc.check_directory_for_one_number_per_file(directory, '.tif')"
   ]
  },
  {
   "cell_type": "code",
   "execution_count": 20,
   "metadata": {},
   "outputs": [
    {
     "name": "stdout",
     "output_type": "stream",
     "text": [
      "YAY!!\n",
      "YAY!!\n",
      "YAY!!\n",
      "YAY!!\n",
      "YAY!!\n",
      "YAY!!\n",
      "YAY!!\n",
      "YAY!!\n",
      "YAY!!\n",
      "YAY!!\n",
      "YAY!!\n",
      "YAY!!\n",
      "YAY!!\n",
      "YAY!!\n",
      "YAY!!\n",
      "YAY!!\n",
      "YAY!!\n",
      "YAY!!\n",
      "YAY!!\n",
      "YAY!!\n",
      "YAY!!\n",
      "YAY!!\n",
      "YAY!!\n",
      "YAY!!\n",
      "YAY!!\n",
      "YAY!!\n",
      "YAY!!\n",
      "YAY!!\n",
      "YAY!!\n",
      "YAY!!\n",
      "YAY!!\n",
      "YAY!!\n",
      "YAY!!\n",
      "YAY!!\n",
      "YAY!!\n",
      "YAY!!\n",
      "YAY!!\n",
      "YAY!!\n",
      "YAY!!\n",
      "YAY!!\n",
      "YAY!!\n",
      "YAY!!\n",
      "YAY!!\n",
      "YAY!!\n",
      "YAY!!\n",
      "YAY!!\n",
      "YAY!!\n",
      "YAY!!\n"
     ]
    }
   ],
   "source": [
    "for directory in directories_list:\n",
    "    directory_path = Path(directory)\n",
    "    mrc_path = directory_path.joinpath(directory_path.name + '.mrc')\n",
    "    if not mrc_path.is_file():\n",
    "        print(f'directory {directory} missing mrc record')\n",
    "    else:\n",
    "        print('YAY!!')"
   ]
  },
  {
   "cell_type": "code",
   "execution_count": 30,
   "metadata": {
    "code_folding": []
   },
   "outputs": [
    {
     "data": {
      "application/vnd.jupyter.widget-view+json": {
       "model_id": "a21eb374b3b2459189fcf9b972998d01",
       "version_major": 2,
       "version_minor": 0
      },
      "text/plain": [
       "interactive(children=(Dropdown(description='column', options=('Unnamed: 0', 'Composite:ImageSize', 'Composite:…"
      ]
     },
     "metadata": {},
     "output_type": "display_data"
    },
    {
     "data": {
      "application/vnd.jupyter.widget-view+json": {
       "model_id": "6d504af2bdc64835910b795d96f7bcf0",
       "version_major": 2,
       "version_minor": 0
      },
      "text/plain": [
       "interactive(children=(Dropdown(description='value', options=('SELECT A VALUE BELOW', 0, 1, 2, 3, 4, 5, 6, 7, 8…"
      ]
     },
     "metadata": {},
     "output_type": "display_data"
    }
   ],
   "source": [
    "# === DATAFRAME DROPDOWNS===\n",
    "df_columns = list(images_df.columns.values)\n",
    "\n",
    "def print_column(value, column):\n",
    "    value = str(value)\n",
    "    column = str(column)\n",
    "    if value == 'SELECT A VALUE BELOW':\n",
    "        pass\n",
    "    else:\n",
    "        print(f\"# of images in {column_widget.kwargs['column']} == {value_widget.kwargs['value']}\")\n",
    "        print(len(images_df[images_df[column_widget.kwargs['column']]==value_widget.kwargs['value']]))\n",
    "        new_dataframe = images_df[images_df[column_widget.kwargs['column']]==value_widget.kwargs['value']]\n",
    "        return new_dataframe    \n",
    "    \n",
    "    \n",
    "def select_column(column):\n",
    "    column_values_list = []\n",
    "    if column != 'SELECT A COLUMN':\n",
    "        \n",
    "        for column_value in images_df[column].unique():\n",
    "            # check if it's a string\n",
    "            if isinstance(column_value, str):\n",
    "                # add to values list\n",
    "                column_values_list.append(column_value)\n",
    "            # skip it if it's a nan value\n",
    "            # nan, or null, from Pandas breaks in the widgets as it's not\n",
    "            # actually selectable because there's nothing there\n",
    "            # Can rule it out by testing with the function math.isnan(x)\n",
    "            elif isnan(column_value):\n",
    "                pass\n",
    "            # add whatever else there is\n",
    "            else:\n",
    "                column_values_list.append(column_value)\n",
    "    # sort the list\n",
    "    # print(column_values_list)\n",
    "    print(f'# of Unique Values: {len(column_values_list)}')\n",
    "    column_values_list = sorted(column_values_list)\n",
    "    column_values_list.insert(0, 'SELECT A VALUE BELOW')\n",
    "    select2.options = column_values_list   \n",
    "\n",
    "    \n",
    "select1 = widgets.Dropdown(options=df_columns)\n",
    "initial_value = 'SourceFile'\n",
    "select2 = widgets.Dropdown(options=images_df[initial_value])\n",
    "column_widget = widgets.interactive(select_column, column=select1)\n",
    "value_widget = widgets.interactive(print_column, value=select2, column=select1)\n",
    "display(column_widget)\n",
    "display(value_widget)\n",
    "\n",
    "# to access the column, use : column_widget.kwargs['column']\n",
    "# to access the value, use: value_widget.kwargs['value']\n",
    "# to access the dataframe where column == value: value_widget.result"
   ]
  },
  {
   "cell_type": "markdown",
   "metadata": {},
   "source": [
    "## Tips\n",
    "\n",
    "When showing an image, if the output cell shows a compressed scroll window instead of a full page view, move the mouse to the left below the Out cell and click when a gray rectangle is highlighted in the margin.  It will expand the cell to show the full page."
   ]
  },
  {
   "cell_type": "code",
   "execution_count": null,
   "metadata": {
    "code_folding": [],
    "scrolled": false
   },
   "outputs": [],
   "source": [
    "# check images for first page and pagination stuff\n",
    "\n",
    "directory_df = value_widget.result\n",
    "\n",
    "image_list = sorted(directory_df['SourceFile'])\n",
    "print(f'Images in List: {len(image_list)}')\n",
    "x=12\n",
    "for index, image_path in enumerate(image_list, start=1):\n",
    "    if index > 5 and index < x:\n",
    "        # open image\n",
    "        image = Image.open(image_path)\n",
    "    \n",
    "        plt.figure()\n",
    "        plt.title(image_path)\n",
    "        plt.imshow(image)\n",
    "\n",
    "image_path = image_list[-3]\n",
    "image = Image.open(image_path)\n",
    "plt.figure()\n",
    "plt.title(image_path)\n",
    "plt.imshow(image)\n",
    "        \n",
    "image_path = image_list[-2]\n",
    "image = Image.open(image_path)\n",
    "plt.figure()\n",
    "plt.title(image_path)\n",
    "plt.imshow(image)\n",
    "        \n",
    "image_path = image_list[-1]\n",
    "image = Image.open(image_path)\n",
    "plt.figure()\n",
    "plt.title(image_path)\n",
    "plt.imshow(image)"
   ]
  },
  {
   "cell_type": "code",
   "execution_count": null,
   "metadata": {},
   "outputs": [],
   "source": []
  },
  {
   "cell_type": "code",
   "execution_count": null,
   "metadata": {},
   "outputs": [],
   "source": []
  },
  {
   "cell_type": "code",
   "execution_count": null,
   "metadata": {},
   "outputs": [],
   "source": []
  },
  {
   "cell_type": "code",
   "execution_count": null,
   "metadata": {},
   "outputs": [],
   "source": []
  },
  {
   "cell_type": "code",
   "execution_count": null,
   "metadata": {},
   "outputs": [],
   "source": []
  },
  {
   "cell_type": "code",
   "execution_count": null,
   "metadata": {},
   "outputs": [],
   "source": []
  },
  {
   "cell_type": "code",
   "execution_count": null,
   "metadata": {},
   "outputs": [],
   "source": []
  },
  {
   "cell_type": "code",
   "execution_count": null,
   "metadata": {},
   "outputs": [],
   "source": []
  },
  {
   "cell_type": "code",
   "execution_count": null,
   "metadata": {},
   "outputs": [],
   "source": []
  },
  {
   "cell_type": "code",
   "execution_count": null,
   "metadata": {},
   "outputs": [],
   "source": []
  },
  {
   "cell_type": "code",
   "execution_count": null,
   "metadata": {},
   "outputs": [],
   "source": []
  },
  {
   "cell_type": "code",
   "execution_count": null,
   "metadata": {},
   "outputs": [],
   "source": []
  }
 ],
 "metadata": {
  "kernelspec": {
   "display_name": "Python 3",
   "language": "python",
   "name": "python3"
  },
  "language_info": {
   "codemirror_mode": {
    "name": "ipython",
    "version": 3
   },
   "file_extension": ".py",
   "mimetype": "text/x-python",
   "name": "python",
   "nbconvert_exporter": "python",
   "pygments_lexer": "ipython3",
   "version": "3.9.1"
  }
 },
 "nbformat": 4,
 "nbformat_minor": 2
}
