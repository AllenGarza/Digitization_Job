{
 "cells": [
  {
   "cell_type": "markdown",
   "metadata": {},
   "source": [
    "# Object Oriented Image Processing - 2018/05/25"
   ]
  },
  {
   "cell_type": "markdown",
   "metadata": {},
   "source": [
    "jeremy.moore@txstate.edu"
   ]
  },
  {
   "cell_type": "code",
   "execution_count": 2,
   "metadata": {},
   "outputs": [],
   "source": [
    "current_project = 'BOR-Reports_1929-1930'  # RENAME TITLE OF JUPYTER NOTEBOOK TO MATCH"
   ]
  },
  {
   "cell_type": "code",
   "execution_count": 3,
   "metadata": {
    "code_folding": [
     0
    ]
   },
   "outputs": [
    {
     "data": {
      "text/html": [
       "<style>.container { width:100% !important; }</style>"
      ],
      "text/plain": [
       "<IPython.core.display.HTML object>"
      ]
     },
     "metadata": {},
     "output_type": "display_data"
    },
    {
     "ename": "SyntaxError",
     "evalue": "invalid syntax (__config__.py, line 18)",
     "output_type": "error",
     "traceback": [
      "Traceback \u001b[1;36m(most recent call last)\u001b[0m:\n",
      "  File \u001b[0;32m\"C:\\Users\\afg38\\Miniconda3\\envs\\allen's_work\\lib\\site-packages\\IPython\\core\\interactiveshell.py\"\u001b[0m, line \u001b[0;32m3418\u001b[0m, in \u001b[0;35mrun_code\u001b[0m\n    exec(code_obj, self.user_global_ns, self.user_ns)\n",
      "  File \u001b[0;32m\"<ipython-input-3-2a285e2e18c7>\"\u001b[0m, line \u001b[0;32m11\u001b[0m, in \u001b[0;35m<module>\u001b[0m\n    get_ipython().run_line_magic('matplotlib', 'qt')\n",
      "  File \u001b[0;32m\"C:\\Users\\afg38\\Miniconda3\\envs\\allen's_work\\lib\\site-packages\\IPython\\core\\interactiveshell.py\"\u001b[0m, line \u001b[0;32m2327\u001b[0m, in \u001b[0;35mrun_line_magic\u001b[0m\n    result = fn(*args, **kwargs)\n",
      "  File \u001b[0;32m\"<decorator-gen-102>\"\u001b[0m, line \u001b[0;32m2\u001b[0m, in \u001b[0;35mmatplotlib\u001b[0m\n",
      "  File \u001b[0;32m\"C:\\Users\\afg38\\Miniconda3\\envs\\allen's_work\\lib\\site-packages\\IPython\\core\\magic.py\"\u001b[0m, line \u001b[0;32m187\u001b[0m, in \u001b[0;35m<lambda>\u001b[0m\n    call = lambda f, *a, **k: f(*a, **k)\n",
      "  File \u001b[0;32m\"C:\\Users\\afg38\\Miniconda3\\envs\\allen's_work\\lib\\site-packages\\IPython\\core\\magics\\pylab.py\"\u001b[0m, line \u001b[0;32m99\u001b[0m, in \u001b[0;35mmatplotlib\u001b[0m\n    gui, backend = self.shell.enable_matplotlib(args.gui.lower() if isinstance(args.gui, str) else args.gui)\n",
      "  File \u001b[0;32m\"C:\\Users\\afg38\\Miniconda3\\envs\\allen's_work\\lib\\site-packages\\IPython\\core\\interactiveshell.py\"\u001b[0m, line \u001b[0;32m3494\u001b[0m, in \u001b[0;35menable_matplotlib\u001b[0m\n    gui, backend = pt.find_gui_and_backend(gui, self.pylab_gui_select)\n",
      "  File \u001b[0;32m\"C:\\Users\\afg38\\Miniconda3\\envs\\allen's_work\\lib\\site-packages\\IPython\\core\\pylabtools.py\"\u001b[0m, line \u001b[0;32m280\u001b[0m, in \u001b[0;35mfind_gui_and_backend\u001b[0m\n    import matplotlib\n",
      "  File \u001b[0;32m\"C:\\Users\\afg38\\Miniconda3\\envs\\allen's_work\\lib\\site-packages\\matplotlib\\__init__.py\"\u001b[0m, line \u001b[0;32m107\u001b[0m, in \u001b[0;35m<module>\u001b[0m\n    from . import cbook, rcsetup\n",
      "  File \u001b[0;32m\"C:\\Users\\afg38\\Miniconda3\\envs\\allen's_work\\lib\\site-packages\\matplotlib\\cbook\\__init__.py\"\u001b[0m, line \u001b[0;32m28\u001b[0m, in \u001b[0;35m<module>\u001b[0m\n    import numpy as np\n",
      "\u001b[1;36m  File \u001b[1;32m\"C:\\Users\\afg38\\Miniconda3\\envs\\allen's_work\\lib\\site-packages\\numpy\\__init__.py\"\u001b[1;36m, line \u001b[1;32m124\u001b[1;36m, in \u001b[1;35m<module>\u001b[1;36m\u001b[0m\n\u001b[1;33m    from numpy.__config__ import show as show_config\u001b[0m\n",
      "\u001b[1;36m  File \u001b[1;32m\"C:\\Users\\afg38\\Miniconda3\\envs\\allen's_work\\lib\\site-packages\\numpy\\__config__.py\"\u001b[1;36m, line \u001b[1;32m18\u001b[0m\n\u001b[1;33m    blas_mkl_info={'libraries': ['mkl_rt'], 'library_dirs': ['C:/Users/afg38/Miniconda3/envs/allen's_work\\\\Library\\\\lib'], 'define_macros': [('SCIPY_MKL_H', None), ('HAVE_CBLAS', None)], 'include_dirs': ['C:/Users/afg38/Miniconda3/envs/allen's_work\\\\Library\\\\include']}\u001b[0m\n\u001b[1;37m                                                                                                   ^\u001b[0m\n\u001b[1;31mSyntaxError\u001b[0m\u001b[1;31m:\u001b[0m invalid syntax\n"
     ]
    }
   ],
   "source": [
    "## Set all options (Import, Directories, Options)\n",
    "\n",
    "# make Jupyter Notebook take up the ENTIRE WIDTH\n",
    "from IPython.core.display import display, HTML\n",
    "display(HTML(\"<style>.container { width:100% !important; }</style>\"))\n",
    "\n",
    "# matplotlib options\n",
    "# magic that lets us plot directly in the notebook\n",
    "# can switch from notebook to inline, but MUST restart kernel to switch back to notebook\n",
    "# https://stackoverflow.com/questions/41125690/matplotlib-notebook-showing-a-blank-histogram\n",
    "%matplotlib qt\n",
    "\n",
    "# === IMPORT ===\n",
    "# built-in\n",
    "import logging\n",
    "from math import isnan\n",
    "from pathlib import Path\n",
    "from subprocess import call, check_output\n",
    "\n",
    "# 3rd party\n",
    "import cv2\n",
    "import ipywidgets as widgets\n",
    "import matplotlib.pyplot as plt\n",
    "import numpy as np\n",
    "import pandas as pd\n",
    "from PIL import Image\n",
    "\n",
    "# jeremy's\n",
    "import img_qc.img_qc as img_qc\n",
    "\n",
    "# === DIRECTORIES ===\n",
    "\n",
    "# set current directory\n",
    "current_directory = Path.cwd()\n",
    "\n",
    "# in case we get fancy and change our current directory later\n",
    "start_directory = current_directory\n",
    "\n",
    "# set home directory\n",
    "home_directory = Path.home()\n",
    "\n",
    "bor_reports = Path('/Users/Jeremy/PycharmProjects/BOR-Reports_autocrop/')\n",
    "\n",
    "# set quality control directory as hard-coded: Path.cwd()/data/demo-images_no-crop/{current_project}\n",
    "qc_directory = bor_reports.joinpath(current_project)\n",
    "\n",
    "# === OPTIONS ===\n",
    "\n",
    "# on a high-dpi monitor this will increase the quality of plots on-screen\n",
    "%config InlineBackend.figure_format = 'retina'\n",
    "\n",
    "# Pandas options\n",
    "pd.set_option('display.max_colwidth', -1)  # won't truncate output such as Path names\n",
    "\n",
    "# Logging\n",
    "logging.basicConfig(format='%(asctime)s - %(name)s - %(levelname)s - %(message)s',\n",
    "                    level=logging.INFO)\n",
    "\n",
    "logging.info(f'qc_directory: {qc_directory}')\n",
    "\n",
    "# set Image Metadata CSV information\n",
    "\n",
    "# set CSV filename\n",
    "csv_name = current_project + '.csv'\n",
    "\n",
    "# set CSV path\n",
    "csv_path = qc_directory.joinpath(csv_name)\n",
    "\n",
    "# === LOAD IMAGE METADATA ===\n",
    "if csv_path.is_file():\n",
    "    logging.info(f'{csv_path} exists')\n",
    "    logging.info(f'loading metadata from {csv_name}')\n",
    "    \n",
    "    # create DataFrame from CSV\n",
    "    images_df = pd.read_csv(csv_path)\n",
    "\n",
    "else:\n",
    "    logging.info(f'{csv_name} does NOT exist')\n",
    "    logging.info(f'loading metdata from {qc_directory}')\n",
    "    \n",
    "    # create DataFrame with Exiftools\n",
    "    images_df = img_qc.get_images_df(str(qc_directory), 'jpg')\n",
    "    \n",
    "    # write metadata to CSV file\n",
    "    images_df.to_csv(csv_path)\n",
    "    if csv_path.is_file():\n",
    "        print(f'{csv_name} NOW EXISTS')"
   ]
  },
  {
   "cell_type": "code",
   "execution_count": null,
   "metadata": {
    "code_folding": []
   },
   "outputs": [],
   "source": [
    "# create DigitalObject from qc_directory\n",
    "qc = img_qc.DigitalObject(qc_directory)\n",
    "\n",
    "my = img_qc.DigitalImage(qc.jpg_list[8])\n",
    "\n",
    "print(my.path, my.height, my.width, my.stem, my.extension)\n",
    "\n",
    "img_qc.show_cv2_image(my.cv2_image)"
   ]
  },
  {
   "cell_type": "markdown",
   "metadata": {},
   "source": [
    "## Compare thresholding & display speed: Pillow vs. OpenCV"
   ]
  },
  {
   "cell_type": "code",
   "execution_count": null,
   "metadata": {
    "code_folding": [
     0
    ],
    "scrolled": false
   },
   "outputs": [],
   "source": [
    "%%timeit\n",
    "\n",
    "bitonal = img_qc.get_pil_bitonal(my.pil_image, 125)\n",
    "\n",
    "plt.imshow(bitonal)"
   ]
  },
  {
   "cell_type": "code",
   "execution_count": null,
   "metadata": {
    "code_folding": [
     0
    ]
   },
   "outputs": [],
   "source": [
    "%%timeit\n",
    "bitonal = img_qc.get_cv2_bitonal(my.cv2_image, 125)\n",
    "\n",
    "img_qc.show_cv2_image(bitonal, my.path)"
   ]
  },
  {
   "cell_type": "code",
   "execution_count": null,
   "metadata": {
    "code_folding": []
   },
   "outputs": [],
   "source": [
    "def process_image(image_path,\n",
    "                  autocrop_height,\n",
    "                  qc_height,\n",
    "                  padding,\n",
    "                  deskew_padding,\n",
    "                  size_x,\n",
    "                  size_y,\n",
    "                  location_x,\n",
    "                  location_x_pixel,\n",
    "                  location_y,\n",
    "                  location_y_pixel,\n",
    "                  rotate_image,\n",
    "                  rotate_image_float\n",
    "                 ):\n",
    "    global crop_box, deskew_box, deskew_angle\n",
    "    my = img_qc.DigitalImage(image_path)\n",
    "\n",
    "    # load image\n",
    "    image = my.cv2_image\n",
    "    \n",
    "    # rotate image\n",
    "    image = img_qc.rotate_bound(image, rotate_image)\n",
    "    \n",
    "    # get auto-crop bounding box\n",
    "    rectangle, theta, (x, y) = img_qc.get_autocrop_bounding_box(autocrop_height, image)\n",
    "    \n",
    "    # get the crop and deskew boxes\n",
    "    crop_box, deskew_box = img_qc.get_crop_box(rectangle,\n",
    "                                               padding,\n",
    "                                               deskew_padding,\n",
    "                                               size_x,\n",
    "                                               size_y,\n",
    "                                               location_x,\n",
    "                                               location_x_pixel,\n",
    "                                               location_y,\n",
    "                                               location_y_pixel\n",
    "                                              )\n",
    "    \n",
    "    # get deskew angle\n",
    "    deskew_angle = img_qc.get_deskew_angle(image, deskew_box)\n",
    "    \n",
    "    # add tenths to theta (by subtracting for correct angle)\n",
    "    theta -= rotate_image_float\n",
    "    \n",
    "    # draw crop and deskew_boxes\n",
    "    image = img_qc.draw_crop_box(qc_height, crop_box, deskew_box, x, y, theta, image)\n",
    "    \n",
    "    # show the image\n",
    "    img_qc.show_cv2_image(image)\n",
    "    \n",
    "\n"
   ]
  },
  {
   "cell_type": "code",
   "execution_count": 1,
   "metadata": {},
   "outputs": [
    {
     "ename": "NameError",
     "evalue": "name 'widgets' is not defined",
     "output_type": "error",
     "traceback": [
      "\u001b[1;31m---------------------------------------------------------------------------\u001b[0m",
      "\u001b[1;31mNameError\u001b[0m                                 Traceback (most recent call last)",
      "\u001b[1;32m<ipython-input-1-c6869729de27>\u001b[0m in \u001b[0;36m<module>\u001b[1;34m\u001b[0m\n\u001b[0;32m      2\u001b[0m \u001b[1;33m\u001b[0m\u001b[0m\n\u001b[0;32m      3\u001b[0m \u001b[1;31m# == AutoCrop Height Slider\u001b[0m\u001b[1;33m\u001b[0m\u001b[1;33m\u001b[0m\u001b[1;33m\u001b[0m\u001b[0m\n\u001b[1;32m----> 4\u001b[1;33m \u001b[0mautocrop_height_slider\u001b[0m \u001b[1;33m=\u001b[0m \u001b[0mwidgets\u001b[0m\u001b[1;33m.\u001b[0m\u001b[0mIntSlider\u001b[0m\u001b[1;33m(\u001b[0m\u001b[0mdescription\u001b[0m\u001b[1;33m=\u001b[0m\u001b[1;34m'crop height'\u001b[0m\u001b[1;33m,\u001b[0m \u001b[0mmin\u001b[0m\u001b[1;33m=\u001b[0m\u001b[1;36m100\u001b[0m\u001b[1;33m,\u001b[0m \u001b[0mmax\u001b[0m\u001b[1;33m=\u001b[0m\u001b[1;36m1000\u001b[0m\u001b[1;33m,\u001b[0m \u001b[0mstep\u001b[0m\u001b[1;33m=\u001b[0m\u001b[1;36m100\u001b[0m\u001b[1;33m,\u001b[0m \u001b[0mvalue\u001b[0m\u001b[1;33m=\u001b[0m\u001b[1;36m500\u001b[0m\u001b[1;33m,\u001b[0m \u001b[0mcontinuous_update\u001b[0m\u001b[1;33m=\u001b[0m\u001b[1;32mFalse\u001b[0m\u001b[1;33m)\u001b[0m\u001b[1;33m\u001b[0m\u001b[1;33m\u001b[0m\u001b[0m\n\u001b[0m\u001b[0;32m      5\u001b[0m \u001b[1;33m\u001b[0m\u001b[0m\n\u001b[0;32m      6\u001b[0m \u001b[1;31m# QC Height Slider\u001b[0m\u001b[1;33m\u001b[0m\u001b[1;33m\u001b[0m\u001b[1;33m\u001b[0m\u001b[0m\n",
      "\u001b[1;31mNameError\u001b[0m: name 'widgets' is not defined"
     ]
    }
   ],
   "source": [
    "# === AutoCrop Widget\n",
    "\n",
    "# == AutoCrop Height Slider\n",
    "autocrop_height_slider = widgets.IntSlider(description='crop height', min=100, max=1000, step=100, value=500, continuous_update=False)\n",
    "\n",
    "# QC Height Slider\n",
    "qc_height_slider = widgets.IntSlider(description='qc height', min=50, max=1000, step=50, value=750, continuous_update=False)\n",
    "\n",
    "# Padding Slider\n",
    "padding_slider = widgets.IntSlider(description='padding', min=-500, max=500, step=10, value=50, continuous_update=False)\n",
    "\n",
    "# == X Sliders\n",
    "location_x_slider = widgets.IntSlider(description='x +/- 10px', min=-500, max=500, step=10, value=0, continuous_update=False)\n",
    "location_x_pixel_slider = widgets.IntSlider(description='x +/- 1px', min=-10, max=10, step=1, value=0, continuous_update=False)\n",
    "size_x_slider = widgets.IntSlider(description='size x', min=-500, max=500, step=10, value=0, continuous_update=False)\n",
    "\n",
    "# == Y Sliders\n",
    "location_y_slider = widgets.IntSlider(description='y +/- 10px', min=-500, max=500, step=10, value=0, continuous_update=False)\n",
    "location_y_pixel_slider = widgets.IntSlider(description='y +/- 1px', min=-10, max=10, step=1, value=0, continuous_update=False)\n",
    "size_y_slider = widgets.IntSlider(description='size y', min=-500, max=500, step=10, value=0, continuous_update=False)\n",
    "\n",
    "# == Image Path Dropdown\n",
    "image_path_options = qc.jpg_list\n",
    "image_path_dropdown = widgets.Dropdown(options=image_path_options, value=image_path_options[0])\n",
    "\n",
    "# == Rotate Image Sliders\n",
    "rotate_image_slider = widgets.IntSlider(description='rotate', min=-90, max=270, step=90, value=0, continuous_update=False)\n",
    "rotate_image_float_slider = widgets.FloatSlider(description='rotate 0.01', min=-5, max=5, step=0.01, value=0, continuous_update=False)\n",
    "\n",
    "# == Threshold Value Slider\n",
    "threshold_value_slider = widgets.IntSlider(description='threshold', min=15, max=245, value=127, continuous_update=False)\n",
    "\n",
    "# == Verify Image Saved Valid/Invalid\n",
    "verify_widget = widgets.Valid(value=False, description='Saved?')\n",
    "\n",
    "# == Save Button\n",
    "save_button = widgets.Button(value=False, description='Save Crop', button_style='warning')\n",
    "\n",
    "# == Advance Radio Buttons\n",
    "advance_radio_buttons = widgets.RadioButtons(description='On Save:', options=[0, 1, 2], value=1)\n",
    "\n",
    "# Image Type Toggle Buttons\n",
    "image_type_button = widgets.ToggleButtons(options=['RGB', 'Bitonal'], value='RGB')\n",
    "\n",
    "# AutoCrop Radio Buttons\n",
    "autocrop_button = widgets.Button(description='AutoCropArr', button_style='danger')\n",
    "\n",
    "def on_click_autocrop_button(click):\n",
    "    print('AutoCrop')\n",
    "    \n",
    "autocrop_button.on_click(on_click_autocrop_button)\n",
    "\n",
    "# Deskew Button\n",
    "deskew_button = widgets.Button(description='DeskewArr', button_style='success')\n",
    "\n",
    "def on_click_deskew_button(click):\n",
    "    rotate_image_float_slider.value = -deskew_angle\n",
    "    print(deskew_angle)\n",
    "deskew_button.on_click(on_click_deskew_button)\n",
    "\n",
    "# == Deskew Padding Slider\n",
    "deskew_padding_slider = widgets.IntSlider(description='deskew padding', min=-500, max=500, step=10, value=-250, continuous_update=False)\n",
    "\n",
    "row1 = widgets.HBox([image_path_dropdown, autocrop_height_slider, qc_height_slider])\n",
    "row2 = widgets.HBox([location_x_slider, location_y_slider, rotate_image_slider])\n",
    "row3 = widgets.HBox([location_x_pixel_slider, location_y_pixel_slider, rotate_image_float_slider])\n",
    "row4 = widgets.HBox([size_x_slider, size_y_slider, deskew_padding_slider])\n",
    "row5 = widgets.HBox([threshold_value_slider, padding_slider])\n",
    "row6 = widgets.HBox([image_type_button, autocrop_button, deskew_button])\n",
    "row7 = widgets.HBox([save_button, advance_radio_buttons, verify_widget])\n",
    "ui = widgets.VBox([row1, row2, row3, row4, row5, row6, row7])"
   ]
  },
  {
   "cell_type": "code",
   "execution_count": null,
   "metadata": {},
   "outputs": [],
   "source": [
    "out = widgets.interactive_output(process_image, {'image_path': image_path_dropdown,\n",
    "                                                 'autocrop_height': autocrop_height_slider,\n",
    "                                                 'qc_height': qc_height_slider,\n",
    "                                                 'padding': padding_slider,\n",
    "                                                 'deskew_padding': deskew_padding_slider,\n",
    "                                                 'size_x': size_x_slider,\n",
    "                                                 'size_y': size_y_slider,\n",
    "                                                 'location_x': location_x_slider,\n",
    "                                                 'location_x_pixel': location_x_pixel_slider,\n",
    "                                                 'location_y': location_y_slider, \n",
    "                                                 'location_y_pixel': location_y_pixel_slider,\n",
    "                                                 'rotate_image': rotate_image_slider,\n",
    "                                                 'rotate_image_float': rotate_image_float_slider\n",
    "                                                })\n",
    "\n",
    "display(ui, out)"
   ]
  },
  {
   "cell_type": "code",
   "execution_count": null,
   "metadata": {},
   "outputs": [],
   "source": []
  },
  {
   "cell_type": "code",
   "execution_count": null,
   "metadata": {
    "code_folding": [],
    "scrolled": false
   },
   "outputs": [],
   "source": [
    "rectangle, theta, (x, y) = img_qc.get_autocisrop_bounding_box(500, my.path)\n",
    "image = img_qc.get_cv2_image(my.path)\n",
    "crop_box, deskew_box = img_qc.get_crop_box(rectangle,\n",
    "                                    padding=-50,\n",
    "                                    deskew_padding=-150,\n",
    "                                    size_x=0,\n",
    "                                    size_y=0,\n",
    "                                    location_x=-100,\n",
    "                                    location_x_pixel=0,\n",
    "                                    location_y=0,\n",
    "                                    location_y_pixel=0\n",
    "                                   )\n",
    "deskew_angle = img_qc.get_deskew_angle(image, deskew_box)\n",
    "crop_box_image = img_qc.draw_crop_box(750, crop_box, deskew_box, x, y, theta, my.path)\n",
    "\n",
    "img_qc.show_cv2_image(crop_box_image, my.path)"
   ]
  },
  {
   "cell_type": "code",
   "execution_count": null,
   "metadata": {},
   "outputs": [],
   "source": [
    "crop_box_image = img_qc.draw_crop_box(750, crop_box, deskew_box, x, y, deskew_angle, my.path)\n",
    "print(deskew_angle)\n",
    "\n",
    "img_qc.show_cv2_image(crop_box_image, my.path)"
   ]
  },
  {
   "cell_type": "code",
   "execution_count": null,
   "metadata": {},
   "outputs": [],
   "source": [
    "# parameters for matplotlib to increase our default figure size -- NOTE: figure sizes are in INCHES\n",
    "plt.rcParams[\"figure.figsize\"] = (6, 8)  # set as needed for your screen and eyes"
   ]
  },
  {
   "cell_type": "code",
   "execution_count": null,
   "metadata": {
    "code_folding": []
   },
   "outputs": [],
   "source": [
    "# create DigitalObject from qc_directory\n",
    "qc = DigitalObject(qc_directory)\n",
    "\n",
    "# get first item in JPEG list\n",
    "print(qc.jpg_list[0])\n",
    "\n",
    "image_path_options = qc.jpg_list"
   ]
  },
  {
   "cell_type": "code",
   "execution_count": null,
   "metadata": {
    "code_folding": [
     81,
     100,
     104
    ],
    "scrolled": false,
    "slideshow": {
     "slide_type": "-"
    }
   },
   "outputs": [],
   "source": [
    "# === AutoCrop Widget\n",
    "\n",
    "# == AutoCrop Height Slider\n",
    "autocrop_height_slider = widgets.IntSlider(description='crop height', min=100, max=1000, step=100, value=500, continuous_update=False)\n",
    "\n",
    "# QC Height Slider\n",
    "qc_height_slider = widgets.IntSlider(description='qc height', min=50, max=1000, step=50, value=600, continuous_update=False)\n",
    "\n",
    "# Padding Slider\n",
    "padding_slider = widgets.IntSlider(description='padding', min=-500, max=500, step=10, value=50, continuous_update=False)\n",
    "\n",
    "# == X Sliders\n",
    "location_x_slider = widgets.IntSlider(description='x +/- 10px', min=-500, max=500, step=10, value=0, continuous_update=False)\n",
    "location_x_pixel_slider = widgets.IntSlider(description='x +/- 1px', min=-10, max=10, step=1, value=0, continuous_update=False)\n",
    "size_x_slider = widgets.IntSlider(description='size x', min=-500, max=500, step=10, value=0, continuous_update=False)\n",
    "\n",
    "# == Y Sliders\n",
    "location_y_slider = widgets.IntSlider(description='y +/- 10px', min=-500, max=500, step=10, value=0, continuous_update=False)\n",
    "location_y_pixel_slider = widgets.IntSlider(description='y +/- 1px', min=-10, max=10, step=1, value=0, continuous_update=False)\n",
    "size_y_slider = widgets.IntSlider(description='size y', min=-500, max=500, step=10, value=0, continuous_update=False)\n",
    "\n",
    "# == Image Path Dropdown\n",
    "image_path_dropdown = widgets.Dropdown(options=image_path_options, value=image_path_options[0])\n",
    "\n",
    "# == Rotate Image Sliders\n",
    "rotate_image_slider = widgets.IntSlider(description='rotate', min=-90, max=270, step=90, value=0, continuous_update=False)\n",
    "rotate_image_tenths_slider = widgets.FloatSlider(description='rotate 0.1', min=-5, max=5, step=0.01, value=0, continuous_update=False)\n",
    "\n",
    "# == Threshold Value Slider\n",
    "threshold_value_slider = widgets.IntSlider(description='threshold', min=15, max=245, value=127, continuous_update=False)\n",
    "\n",
    "# == Verify Image Saved Valid/Invalid\n",
    "verify_widget = widgets.Valid(value=False, description='Saved?')\n",
    "\n",
    "# == Save Button\n",
    "save_button = widgets.Button(value=False, description='Save Crop', button_style='warning')\n",
    "\n",
    "# == Advance Radio Buttons\n",
    "advance_radio_buttons = widgets.RadioButtons(description='On Save:', options=[0, 1, 2], value=1)\n",
    "\n",
    "# Image Type Toggle Buttons\n",
    "image_type_button = widgets.ToggleButtons(options=['RGB', 'Bitonal'], value='RGB')\n",
    "\n",
    "# AutoCrop Button\n",
    "autocrop_button = widgets.Button(description='AutoCrop')\n",
    "\n",
    "# Deskew Button\n",
    "deskew_button = widgets.Button(description='Deskew Text')\n",
    "\n",
    "# == Deskew Padding Slider\n",
    "deskew_padding_slider = widgets.IntSlider(description='deskew padding', min=-500, max=500, step=10, value=-250, continuous_update=False)\n",
    "\n",
    "row1 = widgets.HBox([image_path_dropdown, autocrop_height_slider, qc_height_slider])\n",
    "row2 = widgets.HBox([location_x_slider, location_y_slider, rotate_image_slider])\n",
    "row3 = widgets.HBox([location_x_pixel_slider, location_y_pixel_slider, rotate_image_tenths_slider])\n",
    "row4 = widgets.HBox([size_x_slider, size_y_slider, deskew_padding_slider])\n",
    "row5 = widgets.HBox([threshold_value_slider, padding_slider])\n",
    "row6 = widgets.HBox([image_type_button, autocrop_button, deskew_button])\n",
    "row7 = widgets.HBox([save_button, advance_radio_buttons, verify_widget])\n",
    "ui = widgets.VBox([row1, row2, row3, row4, row5, row6, row7])\n",
    "\n",
    "out = widgets.interactive_output(get_crop_contour, {'autocrop_height': autocrop_height_slider,\n",
    "                                                    'qc_height': qc_height_slider,\n",
    "                                                    'padding': padding_slider,\n",
    "                                                    'location_x': location_x_slider,\n",
    "                                                    'location_x_pixel': location_x_pixel_slider,\n",
    "                                                    'size_x': size_x_slider,\n",
    "                                                    'location_y': location_y_slider,\n",
    "                                                    'location_y_pixel': location_y_pixel_slider,\n",
    "                                                    'size_y': size_y_slider,\n",
    "                                                    'deskew_padding': deskew_padding_slider,\n",
    "                                                    'rotate_image': rotate_image_slider,\n",
    "                                                    'rotate_image_tenths': rotate_image_tenths_slider,\n",
    "                                                    'threshold_value': threshold_value_slider,\n",
    "                                                    'image_type': image_type_button,\n",
    "                                                    'image_path' : image_path_dropdown\n",
    "                                                   })\n",
    "#out.layout.height = '850px'\n",
    "\n",
    "display(ui, out)\n",
    "\n",
    "def on_dropdown_selected(image_path):\n",
    "    image_path = Path(image_path_dropdown.value)\n",
    "    #print(f'image_path: {image_path}')\n",
    "    cropped_directory = image_path.parent.joinpath('00_AutoCropper')\n",
    "    \n",
    "    # set cropped image name\n",
    "    cropped_image_name = str(image_path.stem) + '.tif'\n",
    "    \n",
    "    # set cropped image path\n",
    "    cropped_image_path = cropped_directory.joinpath(cropped_image_name)\n",
    "    \n",
    "    #print(f'cropped path: {cropped_image_path}')\n",
    "    if cropped_image_path.is_file():\n",
    "        #print('TRUE')\n",
    "        verify_widget.value = True\n",
    "    else:\n",
    "        #print('FALSE')\n",
    "        verify_widget.value = False\n",
    "        \n",
    "def on_image_type_button_clicked(b):\n",
    "    print(image_type_button.value)\n",
    "    image_type = image_type_button.value\n",
    "    \n",
    "def on_save_button_clicked(b):\n",
    "    global image_path_dropdown\n",
    "    get_cropped_image(autocrop_height=autocrop_height_slider.value,\n",
    "                      qc_height=qc_height_slider.value,\n",
    "                      padding=padding_slider.value,\n",
    "                      location_x=location_x_slider.value,\n",
    "                      size_x=size_x_slider.value,\n",
    "                      location_y=location_y_slider.value,\n",
    "                      size_y=size_y_slider.value,\n",
    "                      rotate_image=rotate_image_slider.value,\n",
    "                      rotate_image_tenths=rotate_image_tenths_slider.value,\n",
    "                      threshold_value=threshold_value_slider.value,\n",
    "                      image_type=image_type_button.value,\n",
    "                      image_path=image_path_dropdown.value\n",
    "                     )\n",
    "    image_path = Path(image_path_dropdown.value)\n",
    "    if advance_radio_buttons.value > 0:\n",
    "        next_image_path = image_path\n",
    "        next_image_path_stem = next_image_path.stem\n",
    "        image_index_number = next_image_path_stem[-4:]\n",
    "        image_index_number = int(image_index_number)\n",
    "        image_index_number += int(advance_radio_buttons.value)\n",
    "        if image_index_number < len(image_path_options) or image_index_number == len(image_path_options):\n",
    "            next_image_path_name = next_image_path_stem[:-4] + str(image_index_number).zfill(4) + next_image_path.suffix\n",
    "            next_image_path = next_image_path.parent.joinpath(next_image_path_name)\n",
    "            print(f'next path name: {next_image_path}')\n",
    "            image_path = next_image_path\n",
    "            print(f'image1: {image_path}')\n",
    "        else:\n",
    "            print('All images cropped')\n",
    "\n",
    "    image_path_dropdown.value = image_path\n",
    "    \n",
    "    cropped_directory = image_path.parent.joinpath('00_AutoCropper')\n",
    "    \n",
    "    # set cropped image name\n",
    "    cropped_image_name = str(image_path.stem + '.tif')\n",
    "    # set cropped image path\n",
    "    cropped_image_path = cropped_directory.joinpath(cropped_image_name)\n",
    "    \n",
    "    #print(f'cropped path: {cropped_image_path}')\n",
    "    if cropped_image_path.is_file():\n",
    "        #print('TRUE')\n",
    "        verify_widget.value = True\n",
    "    else:\n",
    "        #print('FALSE')\n",
    "        verify_widget.value = False\n",
    "        \n",
    "def on_autocrop_button_clicked(b):\n",
    "    print('AutoCrop!')\n",
    "    get_crop_contour()\n",
    "\n",
    "def on_deskew_button_clicked(b):\n",
    "    print('Deskew!')\n",
    "\n",
    "save_button.on_click(on_save_button_clicked)\n",
    "autocrop_button.on_click(on_autocrop_button_clicked)\n",
    "deskew_button.on_click(on_deskew_button_clicked)\n",
    "image_path_dropdown.observe(on_dropdown_selected)"
   ]
  },
  {
   "cell_type": "code",
   "execution_count": null,
   "metadata": {},
   "outputs": [],
   "source": [
    "image_test_path = qc.jpg_list[5]\n",
    "image_test_path"
   ]
  },
  {
   "cell_type": "code",
   "execution_count": null,
   "metadata": {},
   "outputs": [],
   "source": [
    "image_test = cv2.imread(str(image_test_path))\n",
    "image_test_crop = image_test[400:3800, 50:2200]\n",
    "show_cv2_image(image_test_crop, image_test_path)"
   ]
  },
  {
   "cell_type": "code",
   "execution_count": null,
   "metadata": {},
   "outputs": [],
   "source": [
    "resized = img_qc.get_resized_cv_image(image_test_crop, height=500)\n",
    "blurred = cv2.GaussianBlur(resized, (5, 5), 0)\n",
    "gray = cv2.bitwise_not(blurred)\n",
    "otsu_value, thresh = get_otsu_threshold_image_and_value(gray)\n",
    "show_cv2_image(thresh, image_test_path)"
   ]
  },
  {
   "cell_type": "code",
   "execution_count": null,
   "metadata": {
    "code_folding": [
     0
    ]
   },
   "outputs": [],
   "source": [
    "# https://www.pyimagesearch.com/2017/02/20/text-skew-correction-opencv-python/\n",
    "\n",
    "# grab the (x, y) coordinates of all pixel values that\n",
    "# are greater than zero, then use these coordinates to\n",
    "# compute a rotated bounding box that contains all\n",
    "# coordinates\n",
    "coords = np.column_stack(np.where(thresh > 0))\n",
    "angle = cv2.minAreaRect(coords)[-1]\n",
    " \n",
    "# the `cv2.minAreaRect` function returns values in the\n",
    "# range [-90, 0); as the rectangle rotates clockwise the\n",
    "# returned angle trends to 0 -- in this special case we\n",
    "# need to add 90 degrees to the angle\n",
    "if angle < -45:\n",
    "\tangle = -(90 + angle)\n",
    " \n",
    "# otherwise, just take the inverse of the angle to make\n",
    "# it positive\n",
    "else:\n",
    "\tangle = -angle"
   ]
  },
  {
   "cell_type": "code",
   "execution_count": null,
   "metadata": {},
   "outputs": [],
   "source": [
    "# rotate the image to deskew it\n",
    "(h, w) = image_test_crop.shape[:2]\n",
    "center = (w // 2, h // 2)\n",
    "M = cv2.getRotationMatrix2D(center, angle, 1.0)\n",
    "rotated = cv2.warpAffine(image_test_crop, M, (w, h),\n",
    "\tflags=cv2.INTER_CUBIC, borderMode=cv2.BORDER_REPLICATE)"
   ]
  },
  {
   "cell_type": "code",
   "execution_count": null,
   "metadata": {},
   "outputs": [],
   "source": [
    "show_cv2_image(rotated, image_test_path)"
   ]
  },
  {
   "cell_type": "code",
   "execution_count": null,
   "metadata": {},
   "outputs": [],
   "source": []
  }
 ],
 "metadata": {
  "kernelspec": {
   "display_name": "Python 3",
   "language": "python",
   "name": "python3"
  },
  "language_info": {
   "codemirror_mode": {
    "name": "ipython",
    "version": 3
   },
   "file_extension": ".py",
   "mimetype": "text/x-python",
   "name": "python",
   "nbconvert_exporter": "python",
   "pygments_lexer": "ipython3",
   "version": "3.9.1"
  },
  "varInspector": {
   "cols": {
    "lenName": 16,
    "lenType": 16,
    "lenVar": 40
   },
   "kernels_config": {
    "python": {
     "delete_cmd_postfix": "",
     "delete_cmd_prefix": "del ",
     "library": "var_list.py",
     "varRefreshCmd": "print(var_dic_list())"
    },
    "r": {
     "delete_cmd_postfix": ") ",
     "delete_cmd_prefix": "rm(",
     "library": "var_list.r",
     "varRefreshCmd": "cat(var_dic_list()) "
    }
   },
   "types_to_exclude": [
    "module",
    "function",
    "builtin_function_or_method",
    "instance",
    "_Feature"
   ],
   "window_display": false
  }
 },
 "nbformat": 4,
 "nbformat_minor": 2
}
